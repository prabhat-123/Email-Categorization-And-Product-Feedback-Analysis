{
 "cells": [
  {
   "cell_type": "code",
   "execution_count": 1,
   "id": "b5a60cb0",
   "metadata": {},
   "outputs": [],
   "source": [
    "import os\n",
    "import re\n",
    "import spacy\n",
    "import pickle\n",
    "import warnings\n",
    "import numpy as np\n",
    "warnings.filterwarnings('ignore')\n"
   ]
  },
  {
   "cell_type": "code",
   "execution_count": 2,
   "id": "b0b5c11d",
   "metadata": {},
   "outputs": [],
   "source": [
    "nlp = spacy.load(\"en_core_web_lg\")"
   ]
  },
  {
   "cell_type": "code",
   "execution_count": 3,
   "id": "f16bb6b4",
   "metadata": {},
   "outputs": [],
   "source": [
    "def clean_text(text):\n",
    "    \"\"\"\n",
    "    Clean and preprocess the input text.\n",
    "\n",
    "    This function tokenizes the input text, converts tokens to lowercase,\n",
    "    removes punctuation, and ensures that the text only contains letters,\n",
    "    digits, and whitespace.\n",
    "\n",
    "    Args:\n",
    "        text (str): The input text to be cleaned.\n",
    "\n",
    "    Returns:\n",
    "        str: The cleaned and preprocessed text.\n",
    "    \"\"\"\n",
    "    doc = nlp(text)\n",
    "    cleaned_text = ' '.join(token.text.lower() for token in doc if not token.is_punct)\n",
    "    cleaned_text = re.sub(r'\\s+', ' ', re.sub(r'[^a-zA-Z0-9\\s]', '', cleaned_text)).strip()\n",
    "    return cleaned_text"
   ]
  },
  {
   "cell_type": "code",
   "execution_count": 4,
   "id": "e178ccdc",
   "metadata": {},
   "outputs": [],
   "source": [
    "def remove_stopwords(text):\n",
    "    \"\"\"\n",
    "    Remove stopwords from the input text.\n",
    "\n",
    "    Args:\n",
    "        text (str): The input text from which stopwords will be removed.\n",
    "\n",
    "    Returns:\n",
    "        str: The cleaned text with stopwords removed.\n",
    "    \"\"\"\n",
    "    doc = nlp(text)\n",
    "    cleaned_text = ' '.join(token.text for token in doc if not token.is_stop)\n",
    "    return cleaned_text"
   ]
  },
  {
   "cell_type": "code",
   "execution_count": 5,
   "id": "d9925641",
   "metadata": {},
   "outputs": [
    {
     "name": "stdout",
     "output_type": "stream",
     "text": [
      "/home/fm-pc-lt-219/Desktop/product_and_sentiment_classification_poc/models/classifier_model.pkl\n",
      "/home/fm-pc-lt-219/Desktop/product_and_sentiment_classification_poc/models/label_encoder.pkl\n",
      "/home/fm-pc-lt-219/Desktop/product_and_sentiment_classification_poc/models/tfidf_vectorizer.pkl\n"
     ]
    }
   ],
   "source": [
    "classifier_filename = 'classifier_model.pkl'\n",
    "label_encoder_filename = 'label_encoder.pkl'\n",
    "tfidf_vectorizer_filename = \"tfidf_vectorizer.pkl\"\n",
    "\n",
    "path_to_classifier = os.path.join(os.path.dirname(os.getcwd()), 'models', classifier_filename)\n",
    "path_to_label_encoder = os.path.join(os.path.dirname(os.getcwd()), 'models', label_encoder_filename)\n",
    "path_to_tfidf_vectorizer = os.path.join(os.path.dirname(os.getcwd()), 'models', tfidf_vectorizer_filename)\n",
    "print(path_to_classifier)\n",
    "print(path_to_label_encoder)\n",
    "print(path_to_tfidf_vectorizer)"
   ]
  },
  {
   "cell_type": "markdown",
   "id": "40fd2db0",
   "metadata": {},
   "source": [
    "### Load the pretrained classifier & label_encoder"
   ]
  },
  {
   "cell_type": "code",
   "execution_count": 9,
   "id": "ec5eaf93",
   "metadata": {},
   "outputs": [],
   "source": [
    "with open(path_to_tfidf_vectorizer, 'rb') as file:\n",
    "    tf_idf = pickle.load(file)\n",
    "\n",
    "with open(path_to_label_encoder, 'rb') as file:\n",
    "    label_encoder = pickle.load(file)\n",
    "\n",
    "with open(path_to_classifier, 'rb') as file:\n",
    "    clf = pickle.load(file)\n"
   ]
  },
  {
   "cell_type": "code",
   "execution_count": 10,
   "id": "1aa33523",
   "metadata": {},
   "outputs": [
    {
     "name": "stdout",
     "output_type": "stream",
     "text": [
      "subject issue salesforce crm compatibility dear salesforce support team trust email finds m dedicated user salesforce crm ve recently encountered issue compatibility accessing salesforce google chrome windows 10 machine interface nt display correctly causing inconvenience daily work m reaching assistance resolving compatibility issue salesforce plays crucial role operations need work seamlessly prompt help greatly appreciated best regards\n"
     ]
    }
   ],
   "source": [
    "email = \"\"\"Subject: Issue with Salesforce CRM Compatibility\n",
    "\n",
    "Dear Salesforce Support Team,\n",
    "\n",
    "I trust this email finds you well. I'm a dedicated user of Salesforce CRM, and I've recently encountered an issue regarding its compatibility. When accessing Salesforce through Google Chrome on my Windows 10 machine, the interface doesn't display correctly. This is causing inconvenience in my daily work.\n",
    "\n",
    "I'm reaching out for assistance in resolving this compatibility issue. Salesforce plays a crucial role in our operations, and I need it to work seamlessly. Your prompt help would be greatly appreciated.\n",
    "\n",
    "Best regards,\n",
    "[Your Name]\n",
    "\"\"\"\n",
    "clean_email = clean_text(email)\n",
    "clean_email = remove_stopwords(clean_email)\n",
    "print(clean_email)"
   ]
  },
  {
   "cell_type": "code",
   "execution_count": 12,
   "id": "a652f80c",
   "metadata": {},
   "outputs": [
    {
     "name": "stdout",
     "output_type": "stream",
     "text": [
      "(1, 2479)\n"
     ]
    }
   ],
   "source": [
    "clean_email_tf_idf = tf_idf.transform([clean_email])\n",
    "print(clean_email_tf_idf.shape)"
   ]
  },
  {
   "cell_type": "code",
   "execution_count": 17,
   "id": "2db1779a",
   "metadata": {},
   "outputs": [],
   "source": [
    "email_sentiment_label = clf.predict(clean_email_tf_idf)\n",
    "email_sentiment = label_encoder.inverse_transform(email_sentiment_label)[0]"
   ]
  },
  {
   "cell_type": "code",
   "execution_count": 18,
   "id": "c8c34583",
   "metadata": {},
   "outputs": [
    {
     "name": "stdout",
     "output_type": "stream",
     "text": [
      "Help Email\n"
     ]
    }
   ],
   "source": [
    "print(email_sentiment)"
   ]
  },
  {
   "cell_type": "markdown",
   "id": "c278323f",
   "metadata": {},
   "source": [
    "### Conclusion\n",
    "\n",
    "<li>The sentiment of the email is asking for help.</li>\n",
    "<li>The sender is experiencing an issue with Salesforce CRM and is reaching out to the Salesforce Support Team for assistance in resolving the compatibility issue.</li>\n",
    "<li>There is no indication of anger or frustration in the email; it is a polite request for assistance.</li>\n",
    "\n",
    "\n",
    "\n",
    "\n"
   ]
  },
  {
   "cell_type": "code",
   "execution_count": null,
   "id": "bb9e090f",
   "metadata": {},
   "outputs": [],
   "source": []
  }
 ],
 "metadata": {
  "kernelspec": {
   "display_name": "Python 3 (ipykernel)",
   "language": "python",
   "name": "python3"
  },
  "language_info": {
   "codemirror_mode": {
    "name": "ipython",
    "version": 3
   },
   "file_extension": ".py",
   "mimetype": "text/x-python",
   "name": "python",
   "nbconvert_exporter": "python",
   "pygments_lexer": "ipython3",
   "version": "3.8.0"
  }
 },
 "nbformat": 4,
 "nbformat_minor": 5
}
