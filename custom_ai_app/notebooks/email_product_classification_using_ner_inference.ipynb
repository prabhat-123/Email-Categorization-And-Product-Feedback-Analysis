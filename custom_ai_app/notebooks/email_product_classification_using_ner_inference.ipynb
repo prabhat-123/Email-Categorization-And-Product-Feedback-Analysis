{
 "cells": [
  {
   "cell_type": "markdown",
   "id": "8a9d71fc",
   "metadata": {},
   "source": [
    "## Inferencing\n",
    "\n",
    "<li>For inferencing, we first need to load the best model weights.</li>\n",
    "<li>Then on the test email, we perform text cleaning operations.</li>\n",
    "<li>The text cleaning operation includes lowercasing the text, removing unnecessary punctuations and stopwords.</li>\n",
    "<li>Finally, we try to find out the named entities along with the defined product class.</li>"
   ]
  },
  {
   "cell_type": "code",
   "execution_count": 11,
   "id": "6c33afa1",
   "metadata": {},
   "outputs": [],
   "source": [
    "import os\n",
    "import re\n",
    "import spacy\n",
    "import gdown\n",
    "import numpy as np\n",
    "import pandas as pd\n",
    "from tqdm import tqdm\n",
    "import warnings\n",
    "\n",
    "warnings.filterwarnings('ignore')\n"
   ]
  },
  {
   "cell_type": "code",
   "execution_count": 12,
   "id": "aee4a4f5",
   "metadata": {},
   "outputs": [],
   "source": [
    "def remove_stopwords(text):\n",
    "    \"\"\"\n",
    "    Remove stopwords from the input text.\n",
    "\n",
    "    Args:\n",
    "        text (str): The input text from which stopwords will be removed.\n",
    "\n",
    "    Returns:\n",
    "        str: The cleaned text with stopwords removed.\n",
    "    \"\"\"\n",
    "    doc = nlp(text)\n",
    "    cleaned_text = ' '.join(token.text for token in doc if not token.is_stop)\n",
    "    return cleaned_text"
   ]
  },
  {
   "cell_type": "code",
   "execution_count": 13,
   "id": "040f5325",
   "metadata": {},
   "outputs": [],
   "source": [
    "def clean_text(text):\n",
    "    \"\"\"\n",
    "    Clean and preprocess the input text.\n",
    "\n",
    "    This function tokenizes the input text, converts tokens to lowercase,\n",
    "    removes punctuation, and ensures that the text only contains letters,\n",
    "    digits, and whitespace.\n",
    "\n",
    "    Args:\n",
    "        text (str): The input text to be cleaned.\n",
    "\n",
    "    Returns:\n",
    "        str: The cleaned and preprocessed text.\n",
    "    \"\"\"\n",
    "    doc = nlp(text)\n",
    "    cleaned_text = ' '.join(token.text.lower() for token in doc if not token.is_punct)\n",
    "    cleaned_text = re.sub(r'\\s+', ' ', re.sub(r'[^a-zA-Z0-9\\s]', '', cleaned_text)).strip()\n",
    "    return cleaned_text"
   ]
  },
  {
   "cell_type": "markdown",
   "id": "214705ce",
   "metadata": {},
   "source": [
    "## Loading the best ner model for inference"
   ]
  },
  {
   "cell_type": "code",
   "execution_count": 14,
   "id": "e20eb2b9",
   "metadata": {},
   "outputs": [],
   "source": [
    "model_path = \"models/model-best\"  \n",
    "full_model_path = os.path.join(os.path.dirname(os.getcwd()), model_path)\n",
    "nlp = spacy.load(full_model_path)"
   ]
  },
  {
   "cell_type": "markdown",
   "id": "bd27acca",
   "metadata": {},
   "source": [
    "### Defining Test Email"
   ]
  },
  {
   "cell_type": "code",
   "execution_count": 27,
   "id": "111ad2b3",
   "metadata": {},
   "outputs": [],
   "source": [
    "email = \"\"\"Subject: Issue with Salesforce CRM Compatibility\n",
    "\n",
    "Dear Salesforce Support Team,\n",
    "\n",
    "I trust this email finds you well. I'm a dedicated user of Salesforce CRM, and I've recently encountered an issue regarding its compatibility. When accessing Salesforce through Google Chrome on my Windows 10 machine, the interface doesn't display correctly. This is causing inconvenience in my daily work.\n",
    "\n",
    "I'm reaching out for assistance in resolving this compatibility issue. Salesforce plays a crucial role in our operations, and I need it to work seamlessly. Your prompt help would be greatly appreciated.\n",
    "\n",
    "Best regards,\n",
    "[Your Name]\n",
    "\"\"\"\n"
   ]
  },
  {
   "cell_type": "markdown",
   "id": "56a48395",
   "metadata": {},
   "source": [
    "### Performing Text Cleaning\n",
    "\n",
    "<li>In text cleaning, we remove punctuations and lowercase all the letters in a sentence.</li>\n",
    "<li>Additionally, we also remove stopwords from the sentences which are commonly used words in a sentence.</li>"
   ]
  },
  {
   "cell_type": "code",
   "execution_count": 28,
   "id": "cc773703",
   "metadata": {},
   "outputs": [
    {
     "name": "stdout",
     "output_type": "stream",
     "text": [
      "subject issue salesforce crm compatibility dear salesforce support team trust email finds m dedicated user salesforce crm ve recently encountered issue compatibility accessing salesforce google chrome windows 10 machine interface nt display correctly causing inconvenience daily work m reaching assistance resolving compatibility issue salesforce plays crucial role operations need work seamlessly prompt help greatly appreciated best regards\n"
     ]
    }
   ],
   "source": [
    "clean_email = clean_text(email)\n",
    "clean_email = remove_stopwords(clean_email)\n",
    "print(clean_email)"
   ]
  },
  {
   "cell_type": "code",
   "execution_count": 29,
   "id": "07e7b704",
   "metadata": {},
   "outputs": [],
   "source": [
    "doc = nlp(clean_email)"
   ]
  },
  {
   "cell_type": "markdown",
   "id": "63619bd0",
   "metadata": {},
   "source": [
    "### Identifying the named entities and their labels"
   ]
  },
  {
   "cell_type": "code",
   "execution_count": 30,
   "id": "364a1416",
   "metadata": {},
   "outputs": [
    {
     "name": "stdout",
     "output_type": "stream",
     "text": [
      "salesforce CRM\n",
      "salesforce CRM\n",
      "salesforce crm CRM\n",
      "salesforce CRM\n",
      "salesforce CRM\n"
     ]
    }
   ],
   "source": [
    "for ent in doc.ents:\n",
    "    print(ent.text, ent.label_)\n"
   ]
  },
  {
   "cell_type": "code",
   "execution_count": 31,
   "id": "717c8680",
   "metadata": {},
   "outputs": [
    {
     "name": "stdout",
     "output_type": "stream",
     "text": [
      "{'CRM': 'salesforce'}\n"
     ]
    }
   ],
   "source": [
    "prediction_result = {}\n",
    "for ent in doc.ents:\n",
    "    if ent.text not in prediction_result:\n",
    "        prediction_result[ent.label_] = ent.text\n",
    "print(prediction_result)"
   ]
  },
  {
   "cell_type": "code",
   "execution_count": 43,
   "id": "c9299775",
   "metadata": {},
   "outputs": [
    {
     "data": {
      "text/plain": [
       "'salesforce'"
      ]
     },
     "execution_count": 43,
     "metadata": {},
     "output_type": "execute_result"
    }
   ],
   "source": [
    "list(prediction_result.keys())[0]\n",
    "list(prediction_result.values())[0]"
   ]
  },
  {
   "cell_type": "code",
   "execution_count": 32,
   "id": "fd177340",
   "metadata": {},
   "outputs": [
    {
     "data": {
      "text/html": [
       "<span class=\"tex2jax_ignore\"><div class=\"entities\" style=\"line-height: 2.5; direction: ltr\">subject issue \n",
       "<mark class=\"entity\" style=\"background: #F67DE3; padding: 0.45em 0.6em; margin: 0 0.25em; line-height: 1; border-radius: 0.35em;\">\n",
       "    salesforce\n",
       "    <span style=\"font-size: 0.8em; font-weight: bold; line-height: 1; border-radius: 0.35em; vertical-align: middle; margin-left: 0.5rem\">CRM</span>\n",
       "</mark>\n",
       " crm compatibility dear \n",
       "<mark class=\"entity\" style=\"background: #F67DE3; padding: 0.45em 0.6em; margin: 0 0.25em; line-height: 1; border-radius: 0.35em;\">\n",
       "    salesforce\n",
       "    <span style=\"font-size: 0.8em; font-weight: bold; line-height: 1; border-radius: 0.35em; vertical-align: middle; margin-left: 0.5rem\">CRM</span>\n",
       "</mark>\n",
       " support team trust email finds m dedicated user \n",
       "<mark class=\"entity\" style=\"background: #F67DE3; padding: 0.45em 0.6em; margin: 0 0.25em; line-height: 1; border-radius: 0.35em;\">\n",
       "    salesforce crm\n",
       "    <span style=\"font-size: 0.8em; font-weight: bold; line-height: 1; border-radius: 0.35em; vertical-align: middle; margin-left: 0.5rem\">CRM</span>\n",
       "</mark>\n",
       " ve recently encountered issue compatibility accessing \n",
       "<mark class=\"entity\" style=\"background: #F67DE3; padding: 0.45em 0.6em; margin: 0 0.25em; line-height: 1; border-radius: 0.35em;\">\n",
       "    salesforce\n",
       "    <span style=\"font-size: 0.8em; font-weight: bold; line-height: 1; border-radius: 0.35em; vertical-align: middle; margin-left: 0.5rem\">CRM</span>\n",
       "</mark>\n",
       " google chrome windows 10 machine interface nt display correctly causing inconvenience daily work m reaching assistance resolving compatibility issue \n",
       "<mark class=\"entity\" style=\"background: #F67DE3; padding: 0.45em 0.6em; margin: 0 0.25em; line-height: 1; border-radius: 0.35em;\">\n",
       "    salesforce\n",
       "    <span style=\"font-size: 0.8em; font-weight: bold; line-height: 1; border-radius: 0.35em; vertical-align: middle; margin-left: 0.5rem\">CRM</span>\n",
       "</mark>\n",
       " plays crucial role operations need work seamlessly prompt help greatly appreciated best regards</div></span>"
      ],
      "text/plain": [
       "<IPython.core.display.HTML object>"
      ]
     },
     "metadata": {},
     "output_type": "display_data"
    }
   ],
   "source": [
    "from spacy import displacy\n",
    "\n",
    "colors = {\"CRM\": \"#F67DE3\", \"ERP\": \"#7DF6D9\", \"APPOINTMENT BOOKING\":\"#a6e22d\"}\n",
    "options = {\"colors\": colors}\n",
    "displacy.render(doc, style=\"ent\", options=options)\n",
    "\n"
   ]
  },
  {
   "cell_type": "code",
   "execution_count": null,
   "id": "20902f73",
   "metadata": {},
   "outputs": [],
   "source": []
  }
 ],
 "metadata": {
  "kernelspec": {
   "display_name": "Python 3 (ipykernel)",
   "language": "python",
   "name": "python3"
  },
  "language_info": {
   "codemirror_mode": {
    "name": "ipython",
    "version": 3
   },
   "file_extension": ".py",
   "mimetype": "text/x-python",
   "name": "python",
   "nbconvert_exporter": "python",
   "pygments_lexer": "ipython3",
   "version": "3.8.0"
  }
 },
 "nbformat": 4,
 "nbformat_minor": 5
}
