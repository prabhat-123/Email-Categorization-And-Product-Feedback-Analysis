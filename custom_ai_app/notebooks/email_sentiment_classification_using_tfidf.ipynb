{
 "cells": [
  {
   "cell_type": "markdown",
   "metadata": {},
   "source": [
    "# Customer Email Sentiment Analysis for Software Products\n",
    "\n",
    "## Project Overview\n",
    "\n",
    "- Our organization specializes in various software products. \n",
    "- These products include CRM, ERP, Appointment Booking Software, and more.\n",
    "- Our task is to develop a machine learning model.\n",
    "- The goal is to analyze sentiments in customer emails.\n",
    "\n",
    "\n",
    "**The Problem Statement:**\n",
    "\n",
    "Our executive team has specific objectives:\n",
    "\n",
    "- Understand Sentiments: We need to determine sentiments in each email.\n",
    "- Sentiments could be anger, happiness, or requests for assistance.\n",
    "\n",
    "**Why Sentiment Analysis?**\n",
    "\n",
    "Understanding email sentiment is crucial because:\n",
    "\n",
    "- It enhances customer satisfaction.\n",
    "- It helps improve product quality.\n",
    "- It ensures timely support.\n",
    "- Automating sentiment analysis streamlines customer support processes.\n",
    "- It identifies areas for product improvement.\n",
    "- It promptly addresses customer concerns.\n",
    "\n",
    "This notebook will guide us through:\n",
    "\n",
    "- Data preprocessing.\n",
    "- Sentiment analysis for each email.\n",
    "- Leveraging machine learning and natural language processing.\n",
    "- Better serving our customers and optimizing our software products.\n"
   ]
  },
  {
   "cell_type": "markdown",
   "metadata": {},
   "source": [
    "### Importing all necessary libraries & Modules"
   ]
  },
  {
   "cell_type": "code",
   "execution_count": 1,
   "metadata": {
    "id": "sbKCxhrCgm_w"
   },
   "outputs": [],
   "source": [
    "import os\n",
    "import re\n",
    "import spacy\n",
    "import pickle\n",
    "import warnings\n",
    "import numpy as np\n",
    "import pandas as pd\n",
    "import seaborn as sns\n",
    "import matplotlib.pyplot as plt\n",
    "warnings.filterwarnings('ignore')\n",
    "\n",
    "from sklearn.naive_bayes import MultinomialNB\n",
    "from sklearn.preprocessing import LabelEncoder\n",
    "from sklearn.model_selection import train_test_split\n",
    "from sklearn.feature_extraction.text import TfidfVectorizer\n",
    "from sklearn.metrics import accuracy_score, classification_report\n"
   ]
  },
  {
   "cell_type": "markdown",
   "metadata": {},
   "source": [
    "### Defining the path to email dataset"
   ]
  },
  {
   "cell_type": "code",
   "execution_count": 2,
   "metadata": {
    "colab": {
     "base_uri": "https://localhost:8080/"
    },
    "id": "iDGGkYCRPV3C",
    "outputId": "0a33c022-bb0e-490e-bda9-1224b763c3a9"
   },
   "outputs": [
    {
     "name": "stdout",
     "output_type": "stream",
     "text": [
      "/home/fm-pc-lt-219/Desktop/product_and_sentiment_classification_poc/data/prod_email.csv\n"
     ]
    }
   ],
   "source": [
    "path_to_email_data = os.path.join(os.path.dirname(os.getcwd()), 'data', 'prod_email.csv')\n",
    "print(path_to_email_data)"
   ]
  },
  {
   "cell_type": "markdown",
   "metadata": {},
   "source": [
    "### Loading the email dataset"
   ]
  },
  {
   "cell_type": "code",
   "execution_count": 3,
   "metadata": {
    "colab": {
     "base_uri": "https://localhost:8080/",
     "height": 224
    },
    "id": "D76xhnrDPqQ8",
    "outputId": "8c068231-c5ca-4f94-d8c4-ec1b2862b66a"
   },
   "outputs": [
    {
     "name": "stdout",
     "output_type": "stream",
     "text": [
      "(450, 5)\n"
     ]
    },
    {
     "data": {
      "text/html": [
       "<div>\n",
       "<style scoped>\n",
       "    .dataframe tbody tr th:only-of-type {\n",
       "        vertical-align: middle;\n",
       "    }\n",
       "\n",
       "    .dataframe tbody tr th {\n",
       "        vertical-align: top;\n",
       "    }\n",
       "\n",
       "    .dataframe thead th {\n",
       "        text-align: right;\n",
       "    }\n",
       "</style>\n",
       "<table border=\"1\" class=\"dataframe\">\n",
       "  <thead>\n",
       "    <tr style=\"text-align: right;\">\n",
       "      <th></th>\n",
       "      <th>Ticket Type</th>\n",
       "      <th>Ticket Subject</th>\n",
       "      <th>Ticket Description</th>\n",
       "      <th>new_product_name</th>\n",
       "      <th>new_product_type</th>\n",
       "    </tr>\n",
       "  </thead>\n",
       "  <tbody>\n",
       "    <tr>\n",
       "      <th>0</th>\n",
       "      <td>Technical issue</td>\n",
       "      <td>Software bug</td>\n",
       "      <td>Subject: Urgent Assistance Required: Issue wit...</td>\n",
       "      <td>SAP ERP</td>\n",
       "      <td>ERP</td>\n",
       "    </tr>\n",
       "    <tr>\n",
       "      <th>1</th>\n",
       "      <td>Technical issue</td>\n",
       "      <td>Software bug</td>\n",
       "      <td>Subject: Urgent Assistance Required for SAP ER...</td>\n",
       "      <td>SAP ERP</td>\n",
       "      <td>ERP</td>\n",
       "    </tr>\n",
       "    <tr>\n",
       "      <th>2</th>\n",
       "      <td>Technical issue</td>\n",
       "      <td>Software bug</td>\n",
       "      <td>Subject: Frustration with SAP ERP Technical Is...</td>\n",
       "      <td>SAP ERP</td>\n",
       "      <td>ERP</td>\n",
       "    </tr>\n",
       "    <tr>\n",
       "      <th>3</th>\n",
       "      <td>Technical issue</td>\n",
       "      <td>Software bug</td>\n",
       "      <td>Subject: Urgent Assistance Required: Software ...</td>\n",
       "      <td>SAP ERP</td>\n",
       "      <td>ERP</td>\n",
       "    </tr>\n",
       "    <tr>\n",
       "      <th>4</th>\n",
       "      <td>Technical issue</td>\n",
       "      <td>Software bug</td>\n",
       "      <td>Subject: Urgent: Glitch in SAP ERP Software\\nD...</td>\n",
       "      <td>SAP ERP</td>\n",
       "      <td>ERP</td>\n",
       "    </tr>\n",
       "  </tbody>\n",
       "</table>\n",
       "</div>"
      ],
      "text/plain": [
       "       Ticket Type Ticket Subject  \\\n",
       "0  Technical issue   Software bug   \n",
       "1  Technical issue   Software bug   \n",
       "2  Technical issue   Software bug   \n",
       "3  Technical issue   Software bug   \n",
       "4  Technical issue   Software bug   \n",
       "\n",
       "                                  Ticket Description new_product_name  \\\n",
       "0  Subject: Urgent Assistance Required: Issue wit...          SAP ERP   \n",
       "1  Subject: Urgent Assistance Required for SAP ER...          SAP ERP   \n",
       "2  Subject: Frustration with SAP ERP Technical Is...          SAP ERP   \n",
       "3  Subject: Urgent Assistance Required: Software ...          SAP ERP   \n",
       "4  Subject: Urgent: Glitch in SAP ERP Software\\nD...          SAP ERP   \n",
       "\n",
       "  new_product_type  \n",
       "0              ERP  \n",
       "1              ERP  \n",
       "2              ERP  \n",
       "3              ERP  \n",
       "4              ERP  "
      ]
     },
     "execution_count": 3,
     "metadata": {},
     "output_type": "execute_result"
    }
   ],
   "source": [
    "df = pd.read_csv(path_to_email_data)\n",
    "print(df.shape)\n",
    "df.head()"
   ]
  },
  {
   "cell_type": "markdown",
   "metadata": {},
   "source": [
    "## Checking the distribution Of Various Ticket Types"
   ]
  },
  {
   "cell_type": "code",
   "execution_count": 4,
   "metadata": {
    "colab": {
     "base_uri": "https://localhost:8080/"
    },
    "id": "orApnodlPyJR",
    "outputId": "f90ba38d-bda2-433f-91a3-f428eb51588f"
   },
   "outputs": [
    {
     "data": {
      "text/plain": [
       "Product inquiry    199\n",
       "Joyful Shoutout    133\n",
       "Technical issue    118\n",
       "Name: Ticket Type, dtype: int64"
      ]
     },
     "execution_count": 4,
     "metadata": {},
     "output_type": "execute_result"
    }
   ],
   "source": [
    "df['Ticket Type'].value_counts()"
   ]
  },
  {
   "cell_type": "markdown",
   "metadata": {},
   "source": [
    "# Redefining Sentiment Targets\n",
    "\n",
    "In our sentiment analysis task for customer email messages, we are introducing new target categories to enhance our understanding of customer sentiments:\n",
    "\n",
    "- **Angry Email**: This category encompasses emails expressing extreme frustration, disappointment, or dissatisfaction with our products or services. These emails often convey negative sentiments and complaints.\n",
    "\n",
    "- **Happy Email**: Emails falling into this category reflect a positive sentiment. They express satisfaction, gratitude, or appreciation for our products, services, or recent developments. These emails carry a positive tone and may include expressions of thanks.\n",
    "\n",
    "- **Help Email**: The 'Help Email' category covers messages where customers seek assistance, guidance, or support. These emails indicate that customers are facing challenges or need help with specific issues related to our offerings.\n",
    "\n",
    "By redefining our target categories, we aim to more accurately classify the sentiments expressed in customer emails. This approach enables us to better understand and respond to their needs and emotions, ultimately leading to more targeted and effective customer support and engagement.\n"
   ]
  },
  {
   "cell_type": "code",
   "execution_count": 5,
   "metadata": {
    "id": "iENP9IFIQp3y"
   },
   "outputs": [],
   "source": [
    "target_map = {\"Technical issue\": \"Angry Email\",\n",
    "              \"Joyful Shoutout\": \"Happy Email\",\n",
    "              \"Product inquiry\": \"Help Email\"\n",
    "             }"
   ]
  },
  {
   "cell_type": "code",
   "execution_count": 6,
   "metadata": {
    "id": "36PtGL2CQJ_f"
   },
   "outputs": [],
   "source": [
    "df['target'] = df['Ticket Type'].map(target_map)"
   ]
  },
  {
   "cell_type": "markdown",
   "metadata": {},
   "source": [
    "### Visualizing the distribution of target class"
   ]
  },
  {
   "cell_type": "code",
   "execution_count": 7,
   "metadata": {},
   "outputs": [],
   "source": [
    "def plot_bar_graph(data, x_col, y_col, title, palette='viridis'):\n",
    "    \"\"\"\n",
    "    Plot a bar graph using Seaborn.\n",
    "\n",
    "    Parameters:\n",
    "        data (DataFrame): The DataFrame containing the data.\n",
    "        x_col (str): The name of the column for the x-axis.\n",
    "        y_col (str): The name of the column for the y-axis.\n",
    "        title (str): The title of the plot.\n",
    "        palette (str, optional): The color palette to use. Default is 'viridis'.\n",
    "    \"\"\"\n",
    "    plt.figure(figsize=(10, 6))\n",
    "    sns.barplot(x=x_col, y=y_col, data=data, palette=palette)\n",
    "\n",
    "    # Add labels and title\n",
    "    plt.xlabel(x_col)\n",
    "    plt.ylabel(y_col)\n",
    "    plt.title(title)\n",
    "\n",
    "    # Show the plot\n",
    "    plt.show()\n"
   ]
  },
  {
   "cell_type": "code",
   "execution_count": 8,
   "metadata": {},
   "outputs": [
    {
     "data": {
      "image/png": "[encoded data removed]",
      "text/plain": [
       "<Figure size 1000x600 with 1 Axes>"
      ]
     },
     "metadata": {},
     "output_type": "display_data"
    }
   ],
   "source": [
    "target_df = df['target'].value_counts().reset_index()\n",
    "target_df.columns = ['target', 'Count']\n",
    "plot_bar_graph(data=target_df, x_col=\"target\", y_col=\"Count\", title=\"Ticket Type Distribution\")"
   ]
  },
  {
   "cell_type": "markdown",
   "metadata": {
    "colab": {
     "base_uri": "https://localhost:8080/"
    },
    "id": "jHF2CtjIQ-dB",
    "outputId": "03038a95-fb47-4f1f-ca4b-0d81cfc333c5"
   },
   "source": [
    "- Among the 450 emails, 199 fall into the 'Help Email' category.\n",
    "- A total of 133 emails out of the 450 are categorized as 'Happy Email.'\n",
    "- Furthermore, 118 out of the 450 emails are classified as 'Angry Email.'\n"
   ]
  },
  {
   "cell_type": "markdown",
   "metadata": {},
   "source": [
    "### Loading a spacy model for tokenizing a sentence\n",
    "\n",
    "**Model: en_core_web_lg**\n",
    "\n",
    "The \"en_core_web_lg\" model is a pre-trained language model provided by spaCy. It is designed for various natural language processing (NLP) tasks in English.\n",
    "\n",
    "**Key Features:**\n",
    "- **Word Vectors**: This model is equipped with word vectors trained on a large corpus of text data. These word vectors enable it to understand the context and similarity between words, making it suitable for tasks like word embeddings, text similarity analysis and sentiment analysis.\n",
    "\n",
    "**Training Data:**\n",
    "- The \"en_core_web_lg\" model was trained on a diverse range of English text from the web, including news articles, books, and websites. It has been fine-tuned to capture a broad vocabulary and linguistic patterns.\n",
    "\n",
    "This model serves as a versatile tool for NLP tasks such as text classification, named entity recognition, part-of-speech tagging, and more. It's a valuable resource for understanding and processing English text data efficiently.\n",
    "\n",
    "**Utilizing the Model for Sentiment Analysis**\n",
    "\n",
    "In our case, we leverage the capabilities of the \"en_core_web_lg\" model for conducting sentiment analysis through text classification.\n",
    "\n",
    "**Categorizing Customer Sentiments**\n",
    "\n",
    "Our primary objective is to categorize customers based on the sentiments expressed in their emails, particularly focusing on their feedback regarding our products. We aim to classify customers as either happy, expressing dissatisfaction, or seeking assistance based on the content of their emails.\n",
    "\n",
    "\n"
   ]
  },
  {
   "cell_type": "code",
   "execution_count": 9,
   "metadata": {
    "id": "yH0c4AxORAkG"
   },
   "outputs": [],
   "source": [
    "nlp = spacy.load(\"en_core_web_lg\")"
   ]
  },
  {
   "cell_type": "markdown",
   "metadata": {},
   "source": [
    "### Defining a function to remove commonly used words in a text\n",
    "\n",
    "<b>Stopwords</b> are common words in natural language that are often filtered out when analyzing text data because they typically don't carry significant meaning on their own. They are frequently used in language but may not provide valuable information for tasks like text analysis and natural language processing. \n",
    "\n",
    "Here are two to three examples of common stopwords:\n",
    "\n",
    "1. English Stopwords:\n",
    "   - Articles: \"a,\" \"an,\" \"the\"\n",
    "   - Pronouns: \"I,\" \"you,\" \"he,\" \"she,\" \"it,\" \"we,\" \"they\"\n",
    "   - Prepositions: \"in,\" \"on,\" \"at,\" \"with,\" \"by,\" \"for,\" \"of,\" \"to,\" \"from\"\n",
    "   - Conjunctions: \"and,\" \"but,\" \"or,\" \"so,\" \"because\"\n",
    "\n",
    "These stopwords are often removed from text data during text preprocessing to focus on more meaningful words and improve the efficiency and effectiveness of natural language processing tasks such as text classification, sentiment analysis, and information retrieval."
   ]
  },
  {
   "cell_type": "code",
   "execution_count": 10,
   "metadata": {
    "id": "hYOOhVE2R4E6"
   },
   "outputs": [],
   "source": [
    "def remove_stopwords(text):\n",
    "    \"\"\"\n",
    "    Remove stopwords from the input text.\n",
    "\n",
    "    Args:\n",
    "        text (str): The input text from which stopwords will be removed.\n",
    "\n",
    "    Returns:\n",
    "        str: The cleaned text with stopwords removed.\n",
    "    \"\"\"\n",
    "    doc = nlp(text)\n",
    "    cleaned_text = ' '.join(token.text for token in doc if not token.is_stop)\n",
    "    return cleaned_text"
   ]
  },
  {
   "cell_type": "markdown",
   "metadata": {},
   "source": [
    "## Text Cleaning\n",
    "\n",
    "This function performs essential text cleaning steps, making the input text suitable for analysis and natural language processing. The process includes:\n",
    "\n",
    "- **Tokenization:** Breaking text into words or tokens.\n",
    "- **Lowercasing:** Converting tokens to lowercase.\n",
    "- **Punctuation Removal:** Eliminating punctuation marks.\n",
    "- **Special Character Removal:** Removing non-alphanumeric characters.\n",
    "- **Whitespace Cleanup:** Ensuring consistent and clean spaces.\n",
    "\n",
    "The result is a cleaned and preprocessed text, ready for doing Named Entity Recognition(NER).\n"
   ]
  },
  {
   "cell_type": "code",
   "execution_count": 11,
   "metadata": {
    "id": "wmFVmYmlR9_B"
   },
   "outputs": [],
   "source": [
    "def clean_text(text):\n",
    "    \"\"\"\n",
    "    Clean and preprocess the input text.\n",
    "\n",
    "    This function tokenizes the input text, converts tokens to lowercase,\n",
    "    removes punctuation, and ensures that the text only contains letters,\n",
    "    digits, and whitespace.\n",
    "\n",
    "    Args:\n",
    "        text (str): The input text to be cleaned.\n",
    "\n",
    "    Returns:\n",
    "        str: The cleaned and preprocessed text.\n",
    "    \"\"\"\n",
    "    doc = nlp(text)\n",
    "    cleaned_text = ' '.join(token.text.lower() for token in doc if not token.is_punct)\n",
    "    cleaned_text = re.sub(r'\\s+', ' ', re.sub(r'[^a-zA-Z0-9\\s]', '', cleaned_text)).strip()\n",
    "    return cleaned_text"
   ]
  },
  {
   "cell_type": "markdown",
   "metadata": {},
   "source": [
    "## Applying text cleaning operation in our email description"
   ]
  },
  {
   "cell_type": "code",
   "execution_count": 12,
   "metadata": {
    "id": "LA1rzFHHR_Rf"
   },
   "outputs": [],
   "source": [
    "df['Ticket Description'] = df['Ticket Description'].apply(clean_text)"
   ]
  },
  {
   "cell_type": "markdown",
   "metadata": {},
   "source": [
    "## Removing stop words from our email description"
   ]
  },
  {
   "cell_type": "code",
   "execution_count": 13,
   "metadata": {
    "id": "ggEyUVrESYp_"
   },
   "outputs": [],
   "source": [
    "df['Ticket Description'] = df['Ticket Description'].apply(remove_stopwords)"
   ]
  },
  {
   "cell_type": "markdown",
   "metadata": {},
   "source": [
    "**Label Encoding in Sentiment Analysis**\n",
    "\n",
    "Label encoding is the process of converting categorical labels, like class names, into numerical values. In classification problems, we use label encoding to make it easier for machine learning models to process target labels. This conversion is particularly crucial for tasks like sentiment analysis of emails.\n",
    "\n",
    "In our case, we have three classes: 'Angry Email,' 'Happy Email,' and 'Help Email.' Label encoding assigns numerical values, typically starting from 0, to these categories. For example:\n",
    "\n",
    "- 'Angry Email' might be encoded as 0.\n",
    "- 'Happy Email' could be encoded as 1.\n",
    "- 'Help Email' may receive an encoding of 2.\n",
    "\n",
    "This encoding simplifies the model's understanding of the categories. In our context, 'Angry Email' represents dissatisfaction or technical issues, 'Happy Email' indicates positive feedback on new features, and 'Help Email' signifies inquiries or requests for assistance. Label encoding streamlines the sentiment classification task, enabling efficient analysis of customer emails.\n"
   ]
  },
  {
   "cell_type": "code",
   "execution_count": 14,
   "metadata": {
    "id": "j-G2xB3OT_KF"
   },
   "outputs": [],
   "source": [
    "label_encoder = LabelEncoder()\n",
    "df['target'] = label_encoder.fit_transform(df['target'])"
   ]
  },
  {
   "cell_type": "markdown",
   "metadata": {},
   "source": [
    "- Setting the random seed using `np.random.seed(42)` ensures consistent random processes with NumPy.\n",
    "- It's crucial for reproducibility in scenarios like machine learning experiments.\n",
    "- The seed value, 42, guarantees the same random results in each code run.\n",
    "- This consistency aids debugging and result comparison in different program runs.\n"
   ]
  },
  {
   "cell_type": "code",
   "execution_count": 15,
   "metadata": {
    "id": "5v0Bvt2wVFDQ"
   },
   "outputs": [],
   "source": [
    "np.random.seed(42)"
   ]
  },
  {
   "cell_type": "markdown",
   "metadata": {},
   "source": [
    "## Splitting our dataset as train & test\n",
    "\n",
    "- `train_test_split` is a function used to split a dataset into two parts: a training set and a testing (or validation) set.\n",
    "- It's essential for assessing a machine learning model's performance. The training set is used to train the model, and the testing set is used to evaluate its performance on unseen data.\n",
    "- The `test_size` parameter specifies the proportion of data to include in the testing set. In this case, it's set to 0.2, meaning 20% of the data will be used for testing.\n",
    "- `random_state` is used to initialize the random number generator. Setting it to a specific value (e.g., 42) ensures that the split is reproducible across different runs of the code.\n",
    "- `stratify` is used for stratified sampling. When you set it to a variable (in this case, `df['target']`), it ensures that the class distribution in the training and testing sets is similar to the original dataset. This is particularly useful for imbalanced datasets to maintain representative class proportions.\n",
    "\n",
    "Output:\n",
    "- Training set (`x_train` and `y_train`) has a shape of (number of samples, number of features).\n",
    "- Testing set (`x_test` and `y_test`) also has its shape displayed.\n"
   ]
  },
  {
   "cell_type": "code",
   "execution_count": 16,
   "metadata": {
    "colab": {
     "base_uri": "https://localhost:8080/"
    },
    "id": "BFWYB0TFVFHU",
    "outputId": "b0d8fc74-7f9b-42bc-8ba8-54210509e65f"
   },
   "outputs": [
    {
     "name": "stdout",
     "output_type": "stream",
     "text": [
      "(360,)\n",
      "(360,)\n",
      "(90,)\n",
      "(90,)\n"
     ]
    }
   ],
   "source": [
    "X = df['Ticket Description']\n",
    "y = df['target']\n",
    "x_train, x_test, y_train, y_test = train_test_split(X, y,\n",
    "                                                    test_size=0.2,\n",
    "                                                    random_state=42,\n",
    "                                                    stratify = df['target'])\n",
    "\n",
    "print(x_train.shape)\n",
    "print(y_train.shape)\n",
    "\n",
    "print(x_test.shape)\n",
    "print(y_test.shape)"
   ]
  },
  {
   "cell_type": "markdown",
   "metadata": {},
   "source": [
    "**TF-IDF Vectorizer (Term Frequency-Inverse Document Frequency Vectorizer)**\n",
    "\n",
    "- **Role in Text Classification:**\n",
    "  - TF-IDF Vectorizer is a crucial tool in text classification and natural language processing tasks.\n",
    "  - Its primary role is to convert a collection of text documents into numerical feature vectors.\n",
    "  - These feature vectors represent the importance of each word or term within the documents.\n",
    "  - TF-IDF helps address the issue of textual data's high dimensionality by transforming it into a more manageable numerical format.\n",
    "  - It assigns numerical weights to terms based on their frequency within a document and their rarity across all documents in the corpus.\n",
    "  - TF-IDF is essential for text classification because it captures the significance of words in distinguishing one category from another.\n",
    "  - Words that are frequent in one category but rare in others are given higher weights, aiding the classifier in making accurate predictions.\n",
    "  - By converting text data into a numerical format, TF-IDF enables the application of machine learning algorithms for classification tasks.\n",
    "\n",
    "- **How It Works:**\n",
    "  - TF-IDF stands for Term Frequency-Inverse Document Frequency.\n",
    "  - It calculates two main components for each term in a document:\n",
    "    - Term Frequency (TF): Measures how often a term appears in a document. It's calculated as the ratio of the term's frequency to the total number of terms in the document.\n",
    "    - Inverse Document Frequency (IDF): Measures the rarity of a term across all documents in the corpus. It's calculated as the logarithm of the total number of documents divided by the number of documents containing the term.\n",
    "  - The TF-IDF score for a term in a document is obtained by multiplying its TF and IDF values.\n",
    "  - Terms that are frequent within a specific document but rare across the entire corpus receive high TF-IDF scores.\n",
    "  - The resulting TF-IDF vectors represent documents as numerical feature vectors, where each dimension corresponds to a unique term.\n",
    "  - These vectors are used as input for machine learning models, enabling text classification based on the importance of terms within documents.\n",
    "\n",
    "TF-IDF Vectorizer is a powerful tool for text classification as it captures the essence of terms in documents, making it easier for machine learning models to learn and classify text data effectively.\n"
   ]
  },
  {
   "cell_type": "markdown",
   "metadata": {},
   "source": [
    "#### TF (Term Frequency):\n",
    "\n",
    "<li>TF measures how often a word appears in a document.</li>\n",
    "\n",
    "**Formula:**\n",
    "<code>\n",
    "TF(t, d) = (Number of times term t appears in document d) / (Total terms in document d)\n",
    "</code>\n",
    "\n",
    "#### IDF (Inverse Document Frequency):\n",
    "\n",
    "<li>IDF measures the importance of a word across a collection of documents.</li>\n",
    "\n",
    "**Formula:**\n",
    "\n",
    "<code>\n",
    "IDF(t, D) = log(Total documents in corpus |D| / Documents containing term t)\n",
    "</code>\n",
    "\n",
    "#### TF-IDF (Term Frequency-Inverse Document Frequency):\n",
    "\n",
    "<li>TF-IDF combines TF and IDF to compute a weighted score for each word.</li>\n",
    "\n",
    "**Formula:**\n",
    "\n",
    "<code>\n",
    "TF-IDF(t, d, D) = TF(t, d) × IDF(t, D)\n",
    "</code>\n",
    "\n",
    "<li>These formulas are essential for text analysis, helping identify word importance in documents, making them valuable for text classification and information retrieval tasks.</li>\n"
   ]
  },
  {
   "cell_type": "code",
   "execution_count": 17,
   "metadata": {
    "id": "RqtLq4StSsPr"
   },
   "outputs": [],
   "source": [
    "tf_idf = TfidfVectorizer()"
   ]
  },
  {
   "cell_type": "markdown",
   "metadata": {
    "id": "xJBQPSaOWbzg"
   },
   "source": [
    "**Applying TF-IDF Vectorization: Training vs. Testing Datasets**\n",
    "\n",
    "- **Training Dataset (x_train):**\n",
    "  - When applying TF-IDF vectorization to the training dataset (x_train), we use the `fit_transform` operation.\n",
    "  - The `fit_transform` operation serves two primary purposes:\n",
    "    1. **Fit**: It analyzes the training data to identify all unique terms (words) present in the documents. This step builds the vocabulary.\n",
    "    2. **Transform**: It transforms the documents in the training dataset into TF-IDF feature vectors based on the learned vocabulary.\n",
    "  - This is a critical step because it ensures that the TF-IDF vectorizer calculates IDF scores and scales the term frequencies according to the entire training corpus.\n",
    "\n",
    "- **Testing Dataset (x_test):**\n",
    "  - When applying TF-IDF vectorization to the testing dataset (x_test), we use the `transform` operation.\n",
    "  - The `transform` operation only performs the second part of TF-IDF vectorization: transforming the documents into feature vectors.\n",
    "  - We do not perform the \"fit\" part because the vocabulary (unique terms) has already been learned from the training dataset.\n",
    "  - Using the same vocabulary ensures consistency in how terms are represented between the training and testing datasets.\n",
    "  - This is essential to maintain the integrity of the feature space, as the model must make predictions on data with the same term-to-vector mapping.\n",
    "\n",
    "In summary, we use `fit_transform` on the training dataset to build the vocabulary and transform the training documents into TF-IDF vectors. For the testing dataset, we use `transform` to apply the same transformation based on the learned vocabulary from the training data. This approach ensures that both datasets are represented consistently in the same feature space, facilitating accurate model predictions.\n"
   ]
  },
  {
   "cell_type": "code",
   "execution_count": 18,
   "metadata": {
    "colab": {
     "base_uri": "https://localhost:8080/"
    },
    "id": "6SrMQeeNWa_e",
    "outputId": "be14564b-0b6c-487d-8644-b6c34aca31eb"
   },
   "outputs": [
    {
     "name": "stdout",
     "output_type": "stream",
     "text": [
      "(360, 2479)\n"
     ]
    }
   ],
   "source": [
    "x_train_tf_idf = tf_idf.fit_transform(x_train)\n",
    "print(x_train_tf_idf.shape)"
   ]
  },
  {
   "cell_type": "code",
   "execution_count": 19,
   "metadata": {
    "colab": {
     "base_uri": "https://localhost:8080/"
    },
    "id": "-O7CPgUEWpgr",
    "outputId": "544b03dc-afac-4c41-ca87-996792f93f19"
   },
   "outputs": [
    {
     "name": "stdout",
     "output_type": "stream",
     "text": [
      "(90, 2479)\n"
     ]
    }
   ],
   "source": [
    "x_test_tf_idf = tf_idf.transform(x_test)\n",
    "print(x_test_tf_idf.shape)"
   ]
  },
  {
   "cell_type": "markdown",
   "metadata": {},
   "source": [
    "## Multinomial Naive Bayes for Email Sentiment Classification About Certain Products\n",
    "\n",
    "**Multinomial Naive Bayes (MultinomialNB)** is a probabilistic machine learning model commonly used for text classification tasks, particularly when dealing with discrete features, such as word counts. It's based on the Naive Bayes algorithm, which is a probabilistic classification method relying on Bayes' theorem. \n",
    "\n",
    "### How Multinomial Naive Bayes Works:\n",
    "\n",
    "**Data Preparation:** The model requires a dataset with features (in this case, TF-IDF values of words) and corresponding target labels (sentiment categories: 'Angry Email,' 'Happy Email,' 'Help Email').\n",
    "\n",
    "**Training:** During the training phase, the model learns the statistical probabilities of different features (words) occurring in each class (sentiment category). Specifically, it calculates the probabilities of observing each feature (word) given a class (sentiment category).\n",
    "\n",
    "**Prediction:** In the prediction phase, the model uses these probabilities to classify new, unseen data. For a given input (e.g., a new email represented as TF-IDF values), the model calculates the probability of it belonging to each class based on the features it contains (words). It assigns the class with the highest probability as the predicted class for the input.\n",
    "\n",
    "### Mathematical Formula:\n",
    "\n",
    "The core of Naive Bayes algorithms, including Multinomial Naive Bayes, is Bayes' theorem, which relates the conditional probability of an event given prior knowledge to the unconditional probability of that event. In the case of Multinomial Naive Bayes, the formula for classifying an input into class C is:\n",
    "\n",
    "**P(C∣x) = P(x) * P(C) / P(x∣C)**\n",
    "\n",
    "Where:\n",
    "\n",
    "- **P(C∣x)** is the posterior probability of class C given input x.\n",
    "- **P(C)** is the prior probability of class C.\n",
    "- **P(x∣C)** is the likelihood of observing input x given class C.\n",
    "- **P(x)** is the marginal likelihood, representing the probability of observing input x across all classes.\n",
    "\n",
    "In practice, to calculate **P(x∣C)** for text classification, the Multinomial Naive Bayes classifier makes a crucial assumption of conditional independence between features (words). This means it assumes that the presence of one word in the text does not affect the presence of other words. As a result, the formula is simplified to:\n",
    "\n",
    "**P(x∣C) = P(word₁∣C) * P(word₂∣C) * … * P(wordₙ∣C)**\n",
    "\n",
    "Where **word₁, word₂, …, wordₙ** are the words in the input x.\n",
    "\n",
    "The model calculates these probabilities using the training data and applies Bayes' theorem to classify new data.\n",
    "\n",
    "In summary, Multinomial Naive Bayes is a probabilistic model that works well for text classification tasks by considering the probabilities of words occurring in each class and making predictions based on these probabilities. It's especially useful for sentiment analysis where the goal is to categorize text data into predefined sentiment categories."
   ]
  },
  {
   "cell_type": "markdown",
   "metadata": {},
   "source": [
    "### Training Phase\n",
    "\n",
    "**During the training phase,** the Multinomial Naive Bayes classifier learns from the training data. It achieves this by calculating probabilities of words occurring in each class (sentiment category) based on the TF-IDF values.\n",
    "\n",
    "**Model Building:** The classifier builds a model that can distinguish between 'Angry Email,' 'Happy Email,' and 'Help Email' based on these calculated probabilities.\n",
    "\n",
    "### Prediction Phase\n",
    "\n",
    "**Once the model is trained,** we can use it to predict the sentiment categories of new email messages. These messages are represented as TF-IDF values.\n",
    "\n",
    "**Test Dataset:** In this case, we have the test dataset (x_test_tf_idf) containing a set of email messages that the model has never seen before.\n",
    "\n",
    "### Making Predictions\n",
    "\n",
    "**To make predictions,** we call the predict method on the trained classifier (clf).\n",
    "\n",
    "**Input:** We pass in the TF-IDF values of the test emails (x_test_tf_idf).\n",
    "\n",
    "**Classifier Knowledge:** The classifier applies its learned knowledge to calculate the likelihood of each email belonging to each sentiment category ('Angry Email,' 'Happy Email,' 'Help Email').\n",
    "\n",
    "### Output\n",
    "\n",
    "**The output** of the prediction process is a set of predicted sentiment categories for each email in the test dataset.\n",
    "\n",
    "**Result (y_pred):** These predicted categories (y_pred) represent the model's best guess at the sentiment expressed in each email.\n",
    "\n",
    "### Summary\n",
    "\n",
    "**In summary,** once we train a Multinomial Naive Bayes classifier, we can utilize it to classify new email messages into sentiment categories. This automated process helps us categorize and analyze customer feedback effectively."
   ]
  },
  {
   "cell_type": "code",
   "execution_count": 20,
   "metadata": {
    "colab": {
     "base_uri": "https://localhost:8080/",
     "height": 75
    },
    "id": "crjeYcOaW-hJ",
    "outputId": "d3619dd2-0b9d-4a85-bfae-7eee9487d769"
   },
   "outputs": [
    {
     "data": {
      "text/html": [
       "<style>#sk-container-id-1 {color: black;background-color: white;}#sk-container-id-1 pre{padding: 0;}#sk-container-id-1 div.sk-toggleable {background-color: white;}#sk-container-id-1 label.sk-toggleable__label {cursor: pointer;display: block;width: 100%;margin-bottom: 0;padding: 0.3em;box-sizing: border-box;text-align: center;}#sk-container-id-1 label.sk-toggleable__label-arrow:before {content: \"▸\";float: left;margin-right: 0.25em;color: #696969;}#sk-container-id-1 label.sk-toggleable__label-arrow:hover:before {color: black;}#sk-container-id-1 div.sk-estimator:hover label.sk-toggleable__label-arrow:before {color: black;}#sk-container-id-1 div.sk-toggleable__content {max-height: 0;max-width: 0;overflow: hidden;text-align: left;background-color: #f0f8ff;}#sk-container-id-1 div.sk-toggleable__content pre {margin: 0.2em;color: black;border-radius: 0.25em;background-color: #f0f8ff;}#sk-container-id-1 input.sk-toggleable__control:checked~div.sk-toggleable__content {max-height: 200px;max-width: 100%;overflow: auto;}#sk-container-id-1 input.sk-toggleable__control:checked~label.sk-toggleable__label-arrow:before {content: \"▾\";}#sk-container-id-1 div.sk-estimator input.sk-toggleable__control:checked~label.sk-toggleable__label {background-color: #d4ebff;}#sk-container-id-1 div.sk-label input.sk-toggleable__control:checked~label.sk-toggleable__label {background-color: #d4ebff;}#sk-container-id-1 input.sk-hidden--visually {border: 0;clip: rect(1px 1px 1px 1px);clip: rect(1px, 1px, 1px, 1px);height: 1px;margin: -1px;overflow: hidden;padding: 0;position: absolute;width: 1px;}#sk-container-id-1 div.sk-estimator {font-family: monospace;background-color: #f0f8ff;border: 1px dotted black;border-radius: 0.25em;box-sizing: border-box;margin-bottom: 0.5em;}#sk-container-id-1 div.sk-estimator:hover {background-color: #d4ebff;}#sk-container-id-1 div.sk-parallel-item::after {content: \"\";width: 100%;border-bottom: 1px solid gray;flex-grow: 1;}#sk-container-id-1 div.sk-label:hover label.sk-toggleable__label {background-color: #d4ebff;}#sk-container-id-1 div.sk-serial::before {content: \"\";position: absolute;border-left: 1px solid gray;box-sizing: border-box;top: 0;bottom: 0;left: 50%;z-index: 0;}#sk-container-id-1 div.sk-serial {display: flex;flex-direction: column;align-items: center;background-color: white;padding-right: 0.2em;padding-left: 0.2em;position: relative;}#sk-container-id-1 div.sk-item {position: relative;z-index: 1;}#sk-container-id-1 div.sk-parallel {display: flex;align-items: stretch;justify-content: center;background-color: white;position: relative;}#sk-container-id-1 div.sk-item::before, #sk-container-id-1 div.sk-parallel-item::before {content: \"\";position: absolute;border-left: 1px solid gray;box-sizing: border-box;top: 0;bottom: 0;left: 50%;z-index: -1;}#sk-container-id-1 div.sk-parallel-item {display: flex;flex-direction: column;z-index: 1;position: relative;background-color: white;}#sk-container-id-1 div.sk-parallel-item:first-child::after {align-self: flex-end;width: 50%;}#sk-container-id-1 div.sk-parallel-item:last-child::after {align-self: flex-start;width: 50%;}#sk-container-id-1 div.sk-parallel-item:only-child::after {width: 0;}#sk-container-id-1 div.sk-dashed-wrapped {border: 1px dashed gray;margin: 0 0.4em 0.5em 0.4em;box-sizing: border-box;padding-bottom: 0.4em;background-color: white;}#sk-container-id-1 div.sk-label label {font-family: monospace;font-weight: bold;display: inline-block;line-height: 1.2em;}#sk-container-id-1 div.sk-label-container {text-align: center;}#sk-container-id-1 div.sk-container {/* jupyter's `normalize.less` sets `[hidden] { display: none; }` but bootstrap.min.css set `[hidden] { display: none !important; }` so we also need the `!important` here to be able to override the default hidden behavior on the sphinx rendered scikit-learn.org. See: https://github.com/scikit-learn/scikit-learn/issues/21755 */display: inline-block !important;position: relative;}#sk-container-id-1 div.sk-text-repr-fallback {display: none;}</style><div id=\"sk-container-id-1\" class=\"sk-top-container\"><div class=\"sk-text-repr-fallback\"><pre>MultinomialNB()</pre><b>In a Jupyter environment, please rerun this cell to show the HTML representation or trust the notebook. <br />On GitHub, the HTML representation is unable to render, please try loading this page with nbviewer.org.</b></div><div class=\"sk-container\" hidden><div class=\"sk-item\"><div class=\"sk-estimator sk-toggleable\"><input class=\"sk-toggleable__control sk-hidden--visually\" id=\"sk-estimator-id-1\" type=\"checkbox\" checked><label for=\"sk-estimator-id-1\" class=\"sk-toggleable__label sk-toggleable__label-arrow\">MultinomialNB</label><div class=\"sk-toggleable__content\"><pre>MultinomialNB()</pre></div></div></div></div></div>"
      ],
      "text/plain": [
       "MultinomialNB()"
      ]
     },
     "execution_count": 20,
     "metadata": {},
     "output_type": "execute_result"
    }
   ],
   "source": [
    "clf = MultinomialNB()\n",
    "clf.fit(x_train_tf_idf, y_train)"
   ]
  },
  {
   "cell_type": "code",
   "execution_count": 21,
   "metadata": {
    "id": "Xh7vPf4DXc2_"
   },
   "outputs": [],
   "source": [
    "y_pred = clf.predict(x_test_tf_idf)"
   ]
  },
  {
   "cell_type": "markdown",
   "metadata": {},
   "source": [
    "#### Performance Metrics\n",
    "\n",
    "- In our problem of classifying customer feedback emails into sentiment categories ('Angry Email,' 'Happy Email,' 'Help Email'), we use the following performance metrics:\n",
    "\n",
    "- <b>Accuracy Score:</b> Measures overall correctness in classifying sentiments.\n",
    "\n",
    "- <b>Precision:</b> Focuses on accurately identifying each sentiment category, vital for avoiding misclassification.\n",
    "\n",
    "- <b>Recall (Sensitivity):</b> Ensures we capture as many instances of each sentiment category as possible, reducing the risk of missing critical feedback.\n",
    "\n",
    "- <b>F1 Score:</b> Balances precision and recall, ideal for finding a compromise between accuracy and coverage.\n",
    "\n",
    "- <b>Classification Report:</b> Provides a detailed breakdown of metrics for each sentiment category, helping us identify specific strengths and weaknesses.\n",
    "\n"
   ]
  },
  {
   "cell_type": "code",
   "execution_count": 22,
   "metadata": {
    "colab": {
     "base_uri": "https://localhost:8080/"
    },
    "id": "liWSYkEyXjQd",
    "outputId": "8e6d50aa-cbd6-4894-f2e0-75c7bbaab1e1"
   },
   "outputs": [
    {
     "name": "stdout",
     "output_type": "stream",
     "text": [
      "Accuracy: 1.00\n",
      "              precision    recall  f1-score   support\n",
      "\n",
      "           0       1.00      1.00      1.00        24\n",
      "           1       1.00      1.00      1.00        26\n",
      "           2       1.00      1.00      1.00        40\n",
      "\n",
      "    accuracy                           1.00        90\n",
      "   macro avg       1.00      1.00      1.00        90\n",
      "weighted avg       1.00      1.00      1.00        90\n",
      "\n"
     ]
    }
   ],
   "source": [
    "accuracy = accuracy_score(y_test, y_pred)\n",
    "print(f'Accuracy: {accuracy:.2f}')\n",
    "\n",
    "report = classification_report(y_test, y_pred)\n",
    "print(report)\n"
   ]
  },
  {
   "cell_type": "markdown",
   "metadata": {},
   "source": [
    "# Performance Evaluation\n",
    "\n",
    "**Accuracy:** An accuracy of 1.00 indicates that the model correctly classified all emails in the test dataset. This may suggest that the model performed exceptionally well.\n",
    "\n",
    "**Precision:** Precision measures the accuracy of positive predictions. The precision of 1.00 for all classes implies that there were no false positives in any sentiment category. This is an impressive result.\n",
    "\n",
    "**Recall:** Recall, or sensitivity, measures the model's ability to capture all positive instances. Again, a score of 1.00 for all categories suggests that the model didn't miss any positive instances.\n",
    "\n",
    "**F1-Score:** The F1-score is the harmonic mean of precision and recall. Its perfect score of 1.00 for all classes indicates a well-balanced performance between precision and recall.\n",
    "\n",
    "## Justification of High Accuracy\n",
    "\n",
    "The high accuracy observed can be attributed to a few factors:\n",
    "\n",
    "1. **Biased Data Generation:** If the model was trained or fine-tuned using data generated by ChatGPT, it might have learned to mimic the patterns and biases present in that data. This could lead to high accuracy when tested on similar data generated by the same model.\n",
    "\n",
    "2. **Specific Prompts:** If the email generation process relies heavily on specific prompts that control the content and sentiment, the model may excel at producing the desired sentiment categories. However, this may not reflect the real-world scenario of customer feedback, where the content is more diverse and unstructured.\n",
    "\n",
    "## Conclusion\n",
    "\n",
    "While the model's high accuracy is impressive within the context of the data it was tested on, it's essential to recognize that real-world customer feedback is far more complex and varied. Achieving such high accuracy in a controlled setting does not guarantee similar performance in a genuine customer feedback scenario. Therefore, further evaluation and testing on diverse, real-world data are necessary to assess the model's practical utility and robustness in a more realistic context.\n"
   ]
  },
  {
   "cell_type": "markdown",
   "metadata": {},
   "source": [
    "### Saving label encoder and classifier model for model inference"
   ]
  },
  {
   "cell_type": "code",
   "execution_count": 27,
   "metadata": {},
   "outputs": [
    {
     "name": "stdout",
     "output_type": "stream",
     "text": [
      "/home/fm-pc-lt-219/Desktop/product_and_sentiment_classification_poc/models/classifier_model.pkl\n",
      "/home/fm-pc-lt-219/Desktop/product_and_sentiment_classification_poc/models/label_encoder.pkl\n",
      "/home/fm-pc-lt-219/Desktop/product_and_sentiment_classification_poc/models/tfidf_vectorizer.pkl\n"
     ]
    }
   ],
   "source": [
    "classifier_filename = 'classifier_model.pkl'\n",
    "label_encoder_filename = 'label_encoder.pkl'\n",
    "tfidf_vectorizer_filename = \"tfidf_vectorizer.pkl\"\n",
    "\n",
    "path_to_classifier = os.path.join(os.path.dirname(os.getcwd()), 'models', classifier_filename)\n",
    "path_to_label_encoder = os.path.join(os.path.dirname(os.getcwd()), 'models', label_encoder_filename)\n",
    "path_to_tfidf_vectorizer = os.path.join(os.path.dirname(os.getcwd()), 'models', tfidf_vectorizer_filename)\n",
    "print(path_to_classifier)\n",
    "print(path_to_label_encoder)\n",
    "print(path_to_tfidf_vectorizer)"
   ]
  },
  {
   "cell_type": "markdown",
   "metadata": {},
   "source": [
    "### Save the classifier model"
   ]
  },
  {
   "cell_type": "code",
   "execution_count": 24,
   "metadata": {},
   "outputs": [],
   "source": [
    "with open(path_to_classifier, 'wb') as file:\n",
    "    pickle.dump(clf, file)"
   ]
  },
  {
   "cell_type": "markdown",
   "metadata": {},
   "source": [
    "### Save the label encoder"
   ]
  },
  {
   "cell_type": "code",
   "execution_count": 25,
   "metadata": {},
   "outputs": [],
   "source": [
    "with open(path_to_label_encoder, 'wb') as file:\n",
    "    pickle.dump(label_encoder, file)\n"
   ]
  },
  {
   "cell_type": "markdown",
   "metadata": {},
   "source": [
    "### Save the TFIDF Vectorizer"
   ]
  },
  {
   "cell_type": "code",
   "execution_count": 28,
   "metadata": {},
   "outputs": [],
   "source": [
    "with open(path_to_tfidf_vectorizer, 'wb') as file:\n",
    "    pickle.dump(tf_idf, file)"
   ]
  },
  {
   "cell_type": "code",
   "execution_count": null,
   "metadata": {},
   "outputs": [],
   "source": []
  }
 ],
 "metadata": {
  "colab": {
   "provenance": []
  },
  "kernelspec": {
   "display_name": "Python 3 (ipykernel)",
   "language": "python",
   "name": "python3"
  },
  "language_info": {
   "codemirror_mode": {
    "name": "ipython",
    "version": 3
   },
   "file_extension": ".py",
   "mimetype": "text/x-python",
   "name": "python",
   "nbconvert_exporter": "python",
   "pygments_lexer": "ipython3",
   "version": "3.8.0"
  }
 },
 "nbformat": 4,
 "nbformat_minor": 1
}
