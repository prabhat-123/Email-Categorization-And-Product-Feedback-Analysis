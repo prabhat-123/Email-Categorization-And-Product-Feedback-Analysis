{
 "cells": [
  {
   "cell_type": "markdown",
   "metadata": {
    "id": "nPPBA8OZQCtE"
   },
   "source": [
    "## Customer Ticket Dataset\n",
    "This custom dataset contains a collection of customer tickets encompassing a wide range of inquiries and issues commonly encountered in various domains, including E-commerce, technical support, and software development. The dataset is designed for text classification and natural language processing (NLP) tasks, allowing you to create and evaluate models for automatically categorizing customer tickets into different categories.\n",
    "https://www.kaggle.com/datasets/suraj520/customer-support-ticket-dataset"
   ]
  },
  {
   "cell_type": "code",
   "execution_count": 1,
   "metadata": {
    "id": "KJ19fFoCPM58"
   },
   "outputs": [],
   "source": [
    "import os\n",
    "import gdown\n",
    "import random\n",
    "import warnings\n",
    "import numpy as np\n",
    "import pandas as pd\n",
    "import seaborn as sns\n",
    "from tqdm import tqdm\n",
    "import matplotlib.pyplot as plt\n",
    "\n",
    "warnings.filterwarnings('ignore')\n"
   ]
  },
  {
   "cell_type": "markdown",
   "metadata": {
    "id": "nu4Gm4nC0w_W"
   },
   "source": [
    "### Downloading a data from a google drive link using gdown"
   ]
  },
  {
   "cell_type": "code",
   "execution_count": 2,
   "metadata": {},
   "outputs": [],
   "source": [
    "path_to_customer_ticket_data = os.path.join(os.path.dirname(os.getcwd()), 'data', \"customer_support_tickets.csv\")"
   ]
  },
  {
   "cell_type": "code",
   "execution_count": 3,
   "metadata": {
    "colab": {
     "base_uri": "https://localhost:8080/"
    },
    "id": "vzGZyCK9ULnW",
    "outputId": "b6ed37c7-a23f-413d-bb19-639aa15213b8"
   },
   "outputs": [
    {
     "name": "stdout",
     "output_type": "stream",
     "text": [
      "Downloading...\n",
      "From: https://drive.google.com/uc?id=19gCO-pD9olsPxNWXAlTQ5zPkfm6t82dB\n",
      "To: /home/fm-pc-lt-219/Desktop/Email-Categorization-And-Product-Feedback-Analysis/custom_ai_app/data/customer_support_tickets.csv\n",
      "100%|██████████████████████████████████████| 3.95M/3.95M [00:01<00:00, 2.62MB/s]\n"
     ]
    }
   ],
   "source": [
    "!gdown https://drive.google.com/uc?id=19gCO-pD9olsPxNWXAlTQ5zPkfm6t82dB -O \"{path_to_customer_ticket_data}\""
   ]
  },
  {
   "cell_type": "markdown",
   "metadata": {
    "id": "T3SWhVQDTWsv"
   },
   "source": [
    "## Loading a pandas dataframe"
   ]
  },
  {
   "cell_type": "code",
   "execution_count": 4,
   "metadata": {
    "colab": {
     "base_uri": "https://localhost:8080/",
     "height": 504
    },
    "id": "uEMFi9gPPtjh",
    "outputId": "d1a74649-567a-4e82-abbd-09d8cbe561dc"
   },
   "outputs": [
    {
     "name": "stdout",
     "output_type": "stream",
     "text": [
      "(8469, 17)\n"
     ]
    },
    {
     "data": {
      "text/html": [
       "<div>\n",
       "<style scoped>\n",
       "    .dataframe tbody tr th:only-of-type {\n",
       "        vertical-align: middle;\n",
       "    }\n",
       "\n",
       "    .dataframe tbody tr th {\n",
       "        vertical-align: top;\n",
       "    }\n",
       "\n",
       "    .dataframe thead th {\n",
       "        text-align: right;\n",
       "    }\n",
       "</style>\n",
       "<table border=\"1\" class=\"dataframe\">\n",
       "  <thead>\n",
       "    <tr style=\"text-align: right;\">\n",
       "      <th></th>\n",
       "      <th>Ticket ID</th>\n",
       "      <th>Customer Name</th>\n",
       "      <th>Customer Email</th>\n",
       "      <th>Customer Age</th>\n",
       "      <th>Customer Gender</th>\n",
       "      <th>Product Purchased</th>\n",
       "      <th>Date of Purchase</th>\n",
       "      <th>Ticket Type</th>\n",
       "      <th>Ticket Subject</th>\n",
       "      <th>Ticket Description</th>\n",
       "      <th>Ticket Status</th>\n",
       "      <th>Resolution</th>\n",
       "      <th>Ticket Priority</th>\n",
       "      <th>Ticket Channel</th>\n",
       "      <th>First Response Time</th>\n",
       "      <th>Time to Resolution</th>\n",
       "      <th>Customer Satisfaction Rating</th>\n",
       "    </tr>\n",
       "  </thead>\n",
       "  <tbody>\n",
       "    <tr>\n",
       "      <th>0</th>\n",
       "      <td>1</td>\n",
       "      <td>Marisa Obrien</td>\n",
       "      <td>carrollallison@example.com</td>\n",
       "      <td>32</td>\n",
       "      <td>Other</td>\n",
       "      <td>GoPro Hero</td>\n",
       "      <td>2021-03-22</td>\n",
       "      <td>Technical issue</td>\n",
       "      <td>Product setup</td>\n",
       "      <td>I'm having an issue with the {product_purchase...</td>\n",
       "      <td>Pending Customer Response</td>\n",
       "      <td>NaN</td>\n",
       "      <td>Critical</td>\n",
       "      <td>Social media</td>\n",
       "      <td>2023-06-01 12:15:36</td>\n",
       "      <td>NaN</td>\n",
       "      <td>NaN</td>\n",
       "    </tr>\n",
       "    <tr>\n",
       "      <th>1</th>\n",
       "      <td>2</td>\n",
       "      <td>Jessica Rios</td>\n",
       "      <td>clarkeashley@example.com</td>\n",
       "      <td>42</td>\n",
       "      <td>Female</td>\n",
       "      <td>LG Smart TV</td>\n",
       "      <td>2021-05-22</td>\n",
       "      <td>Technical issue</td>\n",
       "      <td>Peripheral compatibility</td>\n",
       "      <td>I'm having an issue with the {product_purchase...</td>\n",
       "      <td>Pending Customer Response</td>\n",
       "      <td>NaN</td>\n",
       "      <td>Critical</td>\n",
       "      <td>Chat</td>\n",
       "      <td>2023-06-01 16:45:38</td>\n",
       "      <td>NaN</td>\n",
       "      <td>NaN</td>\n",
       "    </tr>\n",
       "    <tr>\n",
       "      <th>2</th>\n",
       "      <td>3</td>\n",
       "      <td>Christopher Robbins</td>\n",
       "      <td>gonzalestracy@example.com</td>\n",
       "      <td>48</td>\n",
       "      <td>Other</td>\n",
       "      <td>Dell XPS</td>\n",
       "      <td>2020-07-14</td>\n",
       "      <td>Technical issue</td>\n",
       "      <td>Network problem</td>\n",
       "      <td>I'm facing a problem with my {product_purchase...</td>\n",
       "      <td>Closed</td>\n",
       "      <td>Case maybe show recently my computer follow.</td>\n",
       "      <td>Low</td>\n",
       "      <td>Social media</td>\n",
       "      <td>2023-06-01 11:14:38</td>\n",
       "      <td>2023-06-01 18:05:38</td>\n",
       "      <td>3.0</td>\n",
       "    </tr>\n",
       "    <tr>\n",
       "      <th>3</th>\n",
       "      <td>4</td>\n",
       "      <td>Christina Dillon</td>\n",
       "      <td>bradleyolson@example.org</td>\n",
       "      <td>27</td>\n",
       "      <td>Female</td>\n",
       "      <td>Microsoft Office</td>\n",
       "      <td>2020-11-13</td>\n",
       "      <td>Billing inquiry</td>\n",
       "      <td>Account access</td>\n",
       "      <td>I'm having an issue with the {product_purchase...</td>\n",
       "      <td>Closed</td>\n",
       "      <td>Try capital clearly never color toward story.</td>\n",
       "      <td>Low</td>\n",
       "      <td>Social media</td>\n",
       "      <td>2023-06-01 07:29:40</td>\n",
       "      <td>2023-06-01 01:57:40</td>\n",
       "      <td>3.0</td>\n",
       "    </tr>\n",
       "    <tr>\n",
       "      <th>4</th>\n",
       "      <td>5</td>\n",
       "      <td>Alexander Carroll</td>\n",
       "      <td>bradleymark@example.com</td>\n",
       "      <td>67</td>\n",
       "      <td>Female</td>\n",
       "      <td>Autodesk AutoCAD</td>\n",
       "      <td>2020-02-04</td>\n",
       "      <td>Billing inquiry</td>\n",
       "      <td>Data loss</td>\n",
       "      <td>I'm having an issue with the {product_purchase...</td>\n",
       "      <td>Closed</td>\n",
       "      <td>West decision evidence bit.</td>\n",
       "      <td>Low</td>\n",
       "      <td>Email</td>\n",
       "      <td>2023-06-01 00:12:42</td>\n",
       "      <td>2023-06-01 19:53:42</td>\n",
       "      <td>1.0</td>\n",
       "    </tr>\n",
       "  </tbody>\n",
       "</table>\n",
       "</div>"
      ],
      "text/plain": [
       "   Ticket ID        Customer Name              Customer Email  Customer Age  \\\n",
       "0          1        Marisa Obrien  carrollallison@example.com            32   \n",
       "1          2         Jessica Rios    clarkeashley@example.com            42   \n",
       "2          3  Christopher Robbins   gonzalestracy@example.com            48   \n",
       "3          4     Christina Dillon    bradleyolson@example.org            27   \n",
       "4          5    Alexander Carroll     bradleymark@example.com            67   \n",
       "\n",
       "  Customer Gender Product Purchased Date of Purchase      Ticket Type  \\\n",
       "0           Other        GoPro Hero       2021-03-22  Technical issue   \n",
       "1          Female       LG Smart TV       2021-05-22  Technical issue   \n",
       "2           Other          Dell XPS       2020-07-14  Technical issue   \n",
       "3          Female  Microsoft Office       2020-11-13  Billing inquiry   \n",
       "4          Female  Autodesk AutoCAD       2020-02-04  Billing inquiry   \n",
       "\n",
       "             Ticket Subject  \\\n",
       "0             Product setup   \n",
       "1  Peripheral compatibility   \n",
       "2           Network problem   \n",
       "3            Account access   \n",
       "4                 Data loss   \n",
       "\n",
       "                                  Ticket Description  \\\n",
       "0  I'm having an issue with the {product_purchase...   \n",
       "1  I'm having an issue with the {product_purchase...   \n",
       "2  I'm facing a problem with my {product_purchase...   \n",
       "3  I'm having an issue with the {product_purchase...   \n",
       "4  I'm having an issue with the {product_purchase...   \n",
       "\n",
       "               Ticket Status                                     Resolution  \\\n",
       "0  Pending Customer Response                                            NaN   \n",
       "1  Pending Customer Response                                            NaN   \n",
       "2                     Closed   Case maybe show recently my computer follow.   \n",
       "3                     Closed  Try capital clearly never color toward story.   \n",
       "4                     Closed                    West decision evidence bit.   \n",
       "\n",
       "  Ticket Priority Ticket Channel  First Response Time   Time to Resolution  \\\n",
       "0        Critical   Social media  2023-06-01 12:15:36                  NaN   \n",
       "1        Critical           Chat  2023-06-01 16:45:38                  NaN   \n",
       "2             Low   Social media  2023-06-01 11:14:38  2023-06-01 18:05:38   \n",
       "3             Low   Social media  2023-06-01 07:29:40  2023-06-01 01:57:40   \n",
       "4             Low          Email  2023-06-01 00:12:42  2023-06-01 19:53:42   \n",
       "\n",
       "   Customer Satisfaction Rating  \n",
       "0                           NaN  \n",
       "1                           NaN  \n",
       "2                           3.0  \n",
       "3                           3.0  \n",
       "4                           1.0  "
      ]
     },
     "execution_count": 4,
     "metadata": {},
     "output_type": "execute_result"
    }
   ],
   "source": [
    "customer_df = pd.read_csv(path_to_customer_ticket_data)\n",
    "print(customer_df.shape)\n",
    "customer_df.head()"
   ]
  },
  {
   "cell_type": "code",
   "execution_count": 5,
   "metadata": {
    "id": "zTCAq_SsPzWf"
   },
   "outputs": [],
   "source": [
    "filter_df = customer_df[['Product Purchased', 'Date of Purchase', 'Ticket Type',\n",
    "                'Ticket Subject', 'Ticket Description']]"
   ]
  },
  {
   "cell_type": "markdown",
   "metadata": {
    "id": "UNClWrmPTQqx"
   },
   "source": [
    "## Checking Null Values\n"
   ]
  },
  {
   "cell_type": "code",
   "execution_count": 6,
   "metadata": {
    "colab": {
     "base_uri": "https://localhost:8080/"
    },
    "id": "lAvZBtmvTPne",
    "outputId": "aa94d1ac-2f46-4884-bcbc-d241e5b45d2b"
   },
   "outputs": [
    {
     "data": {
      "text/plain": [
       "Product Purchased     0\n",
       "Date of Purchase      0\n",
       "Ticket Type           0\n",
       "Ticket Subject        0\n",
       "Ticket Description    0\n",
       "dtype: int64"
      ]
     },
     "execution_count": 6,
     "metadata": {},
     "output_type": "execute_result"
    }
   ],
   "source": [
    "filter_df.isnull().sum()"
   ]
  },
  {
   "cell_type": "code",
   "execution_count": 7,
   "metadata": {
    "id": "FZvVC2fA1Zn0"
   },
   "outputs": [],
   "source": [
    "def plot_bar_graph(data, x_col, y_col, title, palette='viridis'):\n",
    "    \"\"\"\n",
    "    Plot a bar graph using Seaborn.\n",
    "\n",
    "    Parameters:\n",
    "        data (DataFrame): The DataFrame containing the data.\n",
    "        x_col (str): The name of the column for the x-axis.\n",
    "        y_col (str): The name of the column for the y-axis.\n",
    "        title (str): The title of the plot.\n",
    "        palette (str, optional): The color palette to use. Default is 'viridis'.\n",
    "    \"\"\"\n",
    "    plt.figure(figsize=(10, 6))\n",
    "    sns.barplot(x=x_col, y=y_col, data=data, palette=palette)\n",
    "\n",
    "    # Add labels and title\n",
    "    plt.xlabel(x_col)\n",
    "    plt.ylabel(y_col)\n",
    "    plt.title(title)\n",
    "\n",
    "    # Show the plot\n",
    "    plt.show()\n"
   ]
  },
  {
   "cell_type": "code",
   "execution_count": 8,
   "metadata": {
    "colab": {
     "base_uri": "https://localhost:8080/",
     "height": 484
    },
    "id": "1Fmkk9ic1Zr4",
    "outputId": "0faaa95e-9128-41e8-a443-7ba527268d37"
   },
   "outputs": [
    {
     "data": {
      "image/png": "[encoded data removed]",
      "text/plain": [
       "<Figure size 1000x600 with 1 Axes>"
      ]
     },
     "metadata": {},
     "output_type": "display_data"
    }
   ],
   "source": [
    "# Assuming you have the data in a DataFrame called filter_df\n",
    "ticket_type_data = filter_df['Ticket Type'].value_counts().reset_index()\n",
    "ticket_type_data.columns = ['Ticket Type', 'Count']\n",
    "\n",
    "# Plot ticket type distribution\n",
    "plot_bar_graph(data=ticket_type_data, x_col=\"Ticket Type\", y_col=\"Count\", title=\"Ticket Type Distribution\")"
   ]
  },
  {
   "cell_type": "code",
   "execution_count": 9,
   "metadata": {
    "colab": {
     "base_uri": "https://localhost:8080/",
     "height": 416
    },
    "id": "Et7AZJK721tV",
    "outputId": "14808f8c-15c3-4964-ee06-003b0bbfbedc"
   },
   "outputs": [
    {
     "data": {
      "image/png": "[encoded data removed]",
      "text/plain": [
       "<Figure size 1000x600 with 1 Axes>"
      ]
     },
     "metadata": {},
     "output_type": "display_data"
    }
   ],
   "source": [
    "# Assuming you have the data in a DataFrame called filter_df\n",
    "ticket_subject_data = filter_df['Ticket Subject'].value_counts().reset_index()\n",
    "ticket_subject_data.columns = ['Ticket Subject', 'Count']\n",
    "\n",
    "# Plot ticket type distribution\n",
    "plot_bar_graph(data=ticket_subject_data, x_col=\"Count\",\n",
    "               y_col=\"Ticket Subject\", title=\"Ticket Subjects Distribution\")"
   ]
  },
  {
   "cell_type": "markdown",
   "metadata": {
    "id": "5kpshdDS5SCp"
   },
   "source": [
    "<h1>Ticket Classification and Email Generation</h1>\n",
    "<ol>\n",
    "    <li>We aim to identify and categorize tickets as \"Angry\" when their \"Ticket Subject\" is labeled as \"Software bug\" and their \"Ticket Type\" is marked as \"Technical issue.\" For these identified tickets, we intend to generate corresponding angry emails.</li>\n",
    "    <li>Conversely, we seek to classify tickets as \"Help\" tickets when their \"Ticket Type\" is specified as \"Product inquiry.\" For these categorized tickets, we aim to generate help-related emails.</li>\n",
    "</ol>\n"
   ]
  },
  {
   "cell_type": "code",
   "execution_count": 10,
   "metadata": {
    "colab": {
     "base_uri": "https://localhost:8080/"
    },
    "id": "YY53nlp8216D",
    "outputId": "adaa70fb-64a9-4293-aa1f-410a380a4368"
   },
   "outputs": [
    {
     "name": "stdout",
     "output_type": "stream",
     "text": [
      "(118, 5)\n"
     ]
    }
   ],
   "source": [
    "angry_emails = filter_df[((filter_df['Ticket Subject'] == \"Software bug\") &\n",
    "                         (filter_df['Ticket Type']== \"Technical issue\"))]\n",
    "print(angry_emails.shape)"
   ]
  },
  {
   "cell_type": "code",
   "execution_count": 11,
   "metadata": {
    "colab": {
     "base_uri": "https://localhost:8080/"
    },
    "id": "BNRFrIOeZ9hc",
    "outputId": "358bb6c6-2b7a-4c49-8754-118c2d448523"
   },
   "outputs": [
    {
     "name": "stdout",
     "output_type": "stream",
     "text": [
      "(199, 5)\n"
     ]
    }
   ],
   "source": [
    "help_emails = filter_df.loc[(filter_df['Ticket Type']=='Product inquiry') &\n",
    "                            (filter_df[\"Ticket Subject\"].isin([\"Product setup\",\n",
    "                                                               \"Installation support\"]))]\n",
    "print(help_emails.shape)"
   ]
  },
  {
   "cell_type": "code",
   "execution_count": 12,
   "metadata": {
    "colab": {
     "base_uri": "https://localhost:8080/"
    },
    "id": "QvBkQOs1Z9vu",
    "outputId": "6e1c48ee-29fc-4b5e-aac1-a248095c41e8"
   },
   "outputs": [
    {
     "data": {
      "text/plain": [
       "(317, 5)"
      ]
     },
     "execution_count": 12,
     "metadata": {},
     "output_type": "execute_result"
    }
   ],
   "source": [
    "final_df = pd.concat([angry_emails, help_emails], axis=0)\n",
    "final_df.reset_index(drop =True, inplace=True)\n",
    "final_df.shape"
   ]
  },
  {
   "cell_type": "markdown",
   "metadata": {
    "id": "qBtI1yhy63y1"
   },
   "source": [
    "<h1>Email Dataset Creation</h1>\n",
    "<p>We aim to create an email dataset comprising various product names categorized into distinct product categories such as ERP, CRM, Appointment Booking, and Others. To achieve this, we have constructed a Pandas dataframe containing information about product types and product names.</p>\n",
    "\n",
    "<ol>\n",
    "    <li>Our goal is to compile an email dataset that includes a diverse range of product names sorted into specific product categories, including ERP, CRM, Appointment Booking, and Other.</li>\n",
    "    <li>To facilitate this task, we've constructed a Pandas dataframe that contains data pertaining to product types and their corresponding product names.</li>\n",
    "</ol>\n"
   ]
  },
  {
   "cell_type": "code",
   "execution_count": 13,
   "metadata": {
    "id": "JIQ6sqXgZ98q"
   },
   "outputs": [],
   "source": [
    "import pandas as pd\n",
    "\n",
    "data = {\n",
    "    'Product Type': ['ERP'] * 10 + ['CRM'] * 10 + ['Appointment Booking'] * 10 + ['Other'] * 10,\n",
    "    'Product Name': [\n",
    "        'SAP ERP', 'Oracle ERP Cloud', 'Microsoft Dynamics 365', 'NetSuite ERP', 'Infor CloudSuite',\n",
    "        'Epicor ERP', 'Acumatica ERP', 'Odoo', 'Sage X3', 'Workday Financial Management',\n",
    "        'Salesforce', 'HubSpot CRM', 'Zoho CRM', 'Microsoft Dynamics 365 CRM', 'Pipedrive',\n",
    "        'Freshsales', 'Insightly', 'Nimble', 'SugarCRM', 'Bitrix24',\n",
    "        'Calendly', 'Acuity Scheduling', 'Setmore', 'SimplyBook.me', 'Bookly',\n",
    "        'Square Appointments', 'Appointy', 'Schedulicity', 'YouCanBook.me', 'Timely',\n",
    "        'Adobe Creative Cloud', 'Slack', 'Zoom', 'Trello', 'QuickBooks',\n",
    "        'Dropbox', 'Atlassian Jira', 'Autodesk AutoCAD', 'Tableau', 'LastPass'\n",
    "    ]\n",
    "}\n",
    "\n",
    "product_df = pd.DataFrame(data)\n"
   ]
  },
  {
   "cell_type": "markdown",
   "metadata": {
    "id": "Tb-rtEG98-jd"
   },
   "source": [
    "<ol>\n",
    "<li>We will create a new DataFrame that compiles a list of various products associated with Enterprise, CRM, or Appointment booking.</li>\n",
    "<li>This newly created DataFrame comprises 317 rows, which align with the 317 rows we previously generated for angry and help emails.</li>\n",
    "<li>Now, our intention is to utilize these product names from the new DataFrame in place of the previous products for our specific use case.</li>\n",
    "</ol>\n",
    "\n",
    "\n",
    "\n",
    "\n"
   ]
  },
  {
   "cell_type": "code",
   "execution_count": 14,
   "metadata": {
    "id": "g0WaMKRVZ9-5"
   },
   "outputs": [],
   "source": [
    "all_product_name = pd.DataFrame(columns=['Product Name'])\n",
    "\n",
    "for _ in range(317):\n",
    "    random_product = random.choice(product_df['Product Name'])\n",
    "    all_product_name = all_product_name.append({'Product Name': random_product},\n",
    "                                               ignore_index=True)"
   ]
  },
  {
   "cell_type": "code",
   "execution_count": 15,
   "metadata": {
    "colab": {
     "base_uri": "https://localhost:8080/"
    },
    "id": "hMWURgg8haGJ",
    "outputId": "f31ec82d-f501-46be-ad56-76471fc6034b"
   },
   "outputs": [
    {
     "data": {
      "text/plain": [
       "(317, 2)"
      ]
     },
     "execution_count": 15,
     "metadata": {},
     "output_type": "execute_result"
    }
   ],
   "source": [
    "combined_product_df = pd.merge(product_df, all_product_name, how=\"inner\", on=\"Product Name\")\n",
    "combined_product_df.shape"
   ]
  },
  {
   "cell_type": "markdown",
   "metadata": {
    "id": "DHxJMiphJjBA"
   },
   "source": [
    "<ol>\n",
    "\n",
    "**<li>In our DataFrame, we are specifying both new product names and new product types.</li>**\n",
    "**<li>This allows us to tailor our email generation process to accommodate these updated product names and types, aligning with the specific requirements outlined in our problem statement.</li>**\n",
    "**<li>We are tasked with crafting emails that encompass a variety of product categories, including CRM, Enterprise, Appointment Booking Software, and others.</li>**\n",
    "\n",
    "</ol>"
   ]
  },
  {
   "cell_type": "code",
   "execution_count": 16,
   "metadata": {
    "id": "8TEHdtKtZ-BM"
   },
   "outputs": [],
   "source": [
    "final_df['new_product_name'] = combined_product_df['Product Name']\n",
    "final_df['new_product_type'] = combined_product_df['Product Type']"
   ]
  },
  {
   "cell_type": "code",
   "execution_count": 17,
   "metadata": {
    "id": "qqHzmNKGgVxM"
   },
   "outputs": [],
   "source": [
    "# Define a function to replace the placeholder\n",
    "def replace_product_name(row):\n",
    "    \"\"\"\n",
    "    Replaces a placeholder in the ticket description with the actual product purchased.\n",
    "\n",
    "    Parameters:\n",
    "        row (pd.Series): A pandas Series representing a row in a DataFrame, containing at least 'new_product_name' and 'Ticket Description' columns.\n",
    "\n",
    "    Returns:\n",
    "        str: The updated ticket description with the '{product_purchased}' placeholder replaced by the actual product name.\n",
    "    \"\"\"\n",
    "    product_purchased = row['new_product_name']\n",
    "    ticket_description = row['Ticket Description']\n",
    "    updated_description = ticket_description.replace('{product_purchased}', product_purchased)\n",
    "    return updated_description\n"
   ]
  },
  {
   "cell_type": "code",
   "execution_count": 18,
   "metadata": {
    "id": "sPi5EcdzgV0P"
   },
   "outputs": [],
   "source": [
    "final_df['Ticket Description'] = final_df.apply(replace_product_name, axis=1)"
   ]
  },
  {
   "cell_type": "markdown",
   "metadata": {
    "id": "4kEEvN73MnzO"
   },
   "source": [
    "## Product Type Distribution"
   ]
  },
  {
   "cell_type": "code",
   "execution_count": 19,
   "metadata": {
    "colab": {
     "base_uri": "https://localhost:8080/",
     "height": 494
    },
    "id": "vO45oHLkLjpc",
    "outputId": "704d935f-c3b8-48d8-9580-01b18e5e9bd6"
   },
   "outputs": [
    {
     "data": {
      "image/png": "[encoded data removed]",
      "text/plain": [
       "<Figure size 1000x600 with 1 Axes>"
      ]
     },
     "metadata": {},
     "output_type": "display_data"
    }
   ],
   "source": [
    "product_type_data = final_df['new_product_type'].value_counts().reset_index()\n",
    "product_type_data.columns = ['new_product_type', 'Count']\n",
    "\n",
    "# Plot ticket type distribution\n",
    "plot_bar_graph(data=product_type_data, x_col=\"new_product_type\",\n",
    "               y_col=\"Count\",\n",
    "               title=\"Product Type Distribution\",\n",
    "               palette='cool')"
   ]
  },
  {
   "cell_type": "markdown",
   "metadata": {
    "id": "_TX2yiYoMyWS"
   },
   "source": [
    "## Selecting only five columns"
   ]
  },
  {
   "cell_type": "code",
   "execution_count": 20,
   "metadata": {
    "id": "6Ivyuss7w6xI"
   },
   "outputs": [],
   "source": [
    "final_df = final_df[['Ticket Type', 'Ticket Subject', 'Ticket Description', 'new_product_name', 'new_product_type']]"
   ]
  },
  {
   "cell_type": "markdown",
   "metadata": {
    "id": "ast-HJUzQNll"
   },
   "source": [
    "**<li>The dictionary below will associate various software products with their corresponding categories.</li>**\n",
    "\n",
    "**<li>It will categorize software products into four main categories: ERP (Enterprise Resource Planning), CRM (Customer Relationship Management), Appointment Booking, and Other.</li>**\n",
    "\n",
    "**<li>Each software product is mapped to one of these categories, providing a structured classification of different software solutions based on their functions or purposes.</li>**"
   ]
  },
  {
   "cell_type": "code",
   "execution_count": 21,
   "metadata": {
    "colab": {
     "base_uri": "https://localhost:8080/"
    },
    "id": "sBdwiUQ3fu9l",
    "outputId": "e6d1cbfa-cb76-4a16-a3de-17338bd7b7f8"
   },
   "outputs": [
    {
     "data": {
      "text/plain": [
       "{'SAP ERP': 'ERP',\n",
       " 'Oracle ERP Cloud': 'ERP',\n",
       " 'Microsoft Dynamics 365': 'ERP',\n",
       " 'NetSuite ERP': 'ERP',\n",
       " 'Infor CloudSuite': 'ERP',\n",
       " 'Epicor ERP': 'ERP',\n",
       " 'Acumatica ERP': 'ERP',\n",
       " 'Odoo': 'ERP',\n",
       " 'Sage X3': 'ERP',\n",
       " 'Workday Financial Management': 'ERP',\n",
       " 'Salesforce': 'CRM',\n",
       " 'HubSpot CRM': 'CRM',\n",
       " 'Zoho CRM': 'CRM',\n",
       " 'Microsoft Dynamics 365 CRM': 'CRM',\n",
       " 'Pipedrive': 'CRM',\n",
       " 'Freshsales': 'CRM',\n",
       " 'Insightly': 'CRM',\n",
       " 'Nimble': 'CRM',\n",
       " 'SugarCRM': 'CRM',\n",
       " 'Bitrix24': 'CRM',\n",
       " 'Calendly': 'Appointment Booking',\n",
       " 'Acuity Scheduling': 'Appointment Booking',\n",
       " 'Setmore': 'Appointment Booking',\n",
       " 'SimplyBook.me': 'Appointment Booking',\n",
       " 'Bookly': 'Appointment Booking',\n",
       " 'Square Appointments': 'Appointment Booking',\n",
       " 'Appointy': 'Appointment Booking',\n",
       " 'Schedulicity': 'Appointment Booking',\n",
       " 'YouCanBook.me': 'Appointment Booking',\n",
       " 'Timely': 'Appointment Booking',\n",
       " 'Adobe Creative Cloud': 'Other',\n",
       " 'Slack': 'Other',\n",
       " 'Zoom': 'Other',\n",
       " 'Trello': 'Other',\n",
       " 'QuickBooks': 'Other',\n",
       " 'Dropbox': 'Other',\n",
       " 'Atlassian Jira': 'Other',\n",
       " 'Autodesk AutoCAD': 'Other',\n",
       " 'Tableau': 'Other',\n",
       " 'LastPass': 'Other'}"
      ]
     },
     "execution_count": 21,
     "metadata": {},
     "output_type": "execute_result"
    }
   ],
   "source": [
    "product_dict = dict(zip(final_df['new_product_name'], final_df['new_product_type']))\n",
    "product_dict"
   ]
  },
  {
   "cell_type": "markdown",
   "metadata": {
    "id": "75pP-k5QPy7s"
   },
   "source": [
    "**<li>We are in the process of creating 133 new rows of happy customer emails.</li>**\n",
    "\n",
    "**<li>These emails will express their satisfaction, but we've only established the ticket type and ticket subject for now.</li>**\n",
    "\n",
    "**<li>In the future, when generating these emails using OpenAI's generative AI, we'll populate the data with these provided product names.</li>**\n",
    "\n",
    "**<li>This will enable the AI to generate emails with all the necessary context,  and the context of the customer's happiness as input for email generation.</li>**"
   ]
  },
  {
   "cell_type": "code",
   "execution_count": 22,
   "metadata": {
    "id": "Gg0GZrJ6e3ZD"
   },
   "outputs": [],
   "source": [
    "# Create the happy_email DataFrame\n",
    "num_rows = 133\n",
    "happy_email = pd.DataFrame({\n",
    "    \"Ticket Type\": ['Joyful Shoutout'] * num_rows,\n",
    "    \"Ticket Subject\": ['Awesome Addition'] * num_rows,\n",
    "    \"Ticket Description\": [''] * num_rows,\n",
    "    \"new_product_name\": random.choices(final_df['new_product_name'], k=num_rows),\n",
    "})\n",
    "\n",
    "# Map the new_product_type using the dictionary\n",
    "happy_email[\"new_product_type\"] = happy_email[\"new_product_name\"].map(product_dict)\n",
    "\n"
   ]
  },
  {
   "cell_type": "code",
   "execution_count": 23,
   "metadata": {
    "id": "KkheumZue3bm"
   },
   "outputs": [],
   "source": [
    "happy_email['Ticket Description'] = \"The product name is \" + happy_email[\"new_product_name\"]"
   ]
  },
  {
   "cell_type": "markdown",
   "metadata": {
    "id": "W_mIZBJGQs6L"
   },
   "source": [
    "## We are merging happy, angry, and help email categories into one final dataframe.\n",
    "\n",
    "\n",
    "\n",
    "\n"
   ]
  },
  {
   "cell_type": "code",
   "execution_count": 24,
   "metadata": {
    "colab": {
     "base_uri": "https://localhost:8080/"
    },
    "id": "RpF7xFD6e3ek",
    "outputId": "bc46d19e-ae60-4124-d7d4-435b74740b8c"
   },
   "outputs": [
    {
     "name": "stdout",
     "output_type": "stream",
     "text": [
      "(450, 5)\n"
     ]
    }
   ],
   "source": [
    "final_df = pd.concat([final_df, happy_email], axis=0)\n",
    "print(final_df.shape)"
   ]
  },
  {
   "cell_type": "code",
   "execution_count": 26,
   "metadata": {
    "id": "QPEOJSr39IUN"
   },
   "outputs": [],
   "source": [
    "raw_data_path = os.path.join(os.path.dirname(os.getcwd()), 'data', 'product_sentiment_analysis.csv')\n",
    "final_df.to_csv(raw_data_path, index=False)"
   ]
  },
  {
   "cell_type": "code",
   "execution_count": null,
   "metadata": {
    "id": "6Ldga-Q1DAxH"
   },
   "outputs": [],
   "source": []
  }
 ],
 "metadata": {
  "colab": {
   "provenance": []
  },
  "kernelspec": {
   "display_name": "Python 3 (ipykernel)",
   "language": "python",
   "name": "python3"
  },
  "language_info": {
   "codemirror_mode": {
    "name": "ipython",
    "version": 3
   },
   "file_extension": ".py",
   "mimetype": "text/x-python",
   "name": "python",
   "nbconvert_exporter": "python",
   "pygments_lexer": "ipython3",
   "version": "3.8.0"
  }
 },
 "nbformat": 4,
 "nbformat_minor": 1
}
