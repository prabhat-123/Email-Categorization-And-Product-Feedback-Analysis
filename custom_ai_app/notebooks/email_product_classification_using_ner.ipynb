{
 "cells": [
  {
   "cell_type": "markdown",
   "metadata": {},
   "source": [
    "# Download and install the spaCy model for English (large)"
   ]
  },
  {
   "cell_type": "code",
   "execution_count": null,
   "metadata": {},
   "outputs": [],
   "source": [
    "!python -m spacy download en_core_web_lg"
   ]
  },
  {
   "cell_type": "markdown",
   "metadata": {},
   "source": [
    "## Importing Necessary Libraries"
   ]
  },
  {
   "cell_type": "code",
   "execution_count": 1,
   "metadata": {
    "id": "sbKCxhrCgm_w"
   },
   "outputs": [],
   "source": [
    "import os\n",
    "import re\n",
    "import spacy\n",
    "import gdown\n",
    "import warnings\n",
    "import numpy as np\n",
    "import pandas as pd\n",
    "import seaborn as sns\n",
    "from tqdm import tqdm\n",
    "import matplotlib.pyplot as plt\n",
    "\n",
    "from spacy.tokens import DocBin\n",
    "from spacy.util import filter_spans\n",
    "\n",
    "warnings.filterwarnings('ignore')"
   ]
  },
  {
   "cell_type": "code",
   "execution_count": 2,
   "metadata": {},
   "outputs": [
    {
     "name": "stdout",
     "output_type": "stream",
     "text": [
      "/home/fm-pc-lt-219/Desktop/product_and_sentiment_classification_poc/custom_ai_app/data/prod_email.csv\n"
     ]
    }
   ],
   "source": [
    "path_to_email_data = os.path.join(os.path.dirname(os.getcwd()), 'data', 'prod_email.csv')\n",
    "print(path_to_email_data)"
   ]
  },
  {
   "cell_type": "markdown",
   "metadata": {},
   "source": [
    "## Loading the email dataset"
   ]
  },
  {
   "cell_type": "code",
   "execution_count": 3,
   "metadata": {
    "colab": {
     "base_uri": "https://localhost:8080/",
     "height": 328
    },
    "id": "D76xhnrDPqQ8",
    "outputId": "ff788909-4946-4c17-dd5f-a3442b9d144c"
   },
   "outputs": [
    {
     "name": "stdout",
     "output_type": "stream",
     "text": [
      "(450, 5)\n"
     ]
    },
    {
     "data": {
      "text/html": [
       "<div>\n",
       "<style scoped>\n",
       "    .dataframe tbody tr th:only-of-type {\n",
       "        vertical-align: middle;\n",
       "    }\n",
       "\n",
       "    .dataframe tbody tr th {\n",
       "        vertical-align: top;\n",
       "    }\n",
       "\n",
       "    .dataframe thead th {\n",
       "        text-align: right;\n",
       "    }\n",
       "</style>\n",
       "<table border=\"1\" class=\"dataframe\">\n",
       "  <thead>\n",
       "    <tr style=\"text-align: right;\">\n",
       "      <th></th>\n",
       "      <th>Ticket Type</th>\n",
       "      <th>Ticket Subject</th>\n",
       "      <th>Ticket Description</th>\n",
       "      <th>new_product_name</th>\n",
       "      <th>new_product_type</th>\n",
       "    </tr>\n",
       "  </thead>\n",
       "  <tbody>\n",
       "    <tr>\n",
       "      <th>0</th>\n",
       "      <td>Technical issue</td>\n",
       "      <td>Software bug</td>\n",
       "      <td>Subject: Urgent Assistance Required: Issue wit...</td>\n",
       "      <td>SAP ERP</td>\n",
       "      <td>ERP</td>\n",
       "    </tr>\n",
       "    <tr>\n",
       "      <th>1</th>\n",
       "      <td>Technical issue</td>\n",
       "      <td>Software bug</td>\n",
       "      <td>Subject: Urgent Assistance Required for SAP ER...</td>\n",
       "      <td>SAP ERP</td>\n",
       "      <td>ERP</td>\n",
       "    </tr>\n",
       "    <tr>\n",
       "      <th>2</th>\n",
       "      <td>Technical issue</td>\n",
       "      <td>Software bug</td>\n",
       "      <td>Subject: Frustration with SAP ERP Technical Is...</td>\n",
       "      <td>SAP ERP</td>\n",
       "      <td>ERP</td>\n",
       "    </tr>\n",
       "    <tr>\n",
       "      <th>3</th>\n",
       "      <td>Technical issue</td>\n",
       "      <td>Software bug</td>\n",
       "      <td>Subject: Urgent Assistance Required: Software ...</td>\n",
       "      <td>SAP ERP</td>\n",
       "      <td>ERP</td>\n",
       "    </tr>\n",
       "    <tr>\n",
       "      <th>4</th>\n",
       "      <td>Technical issue</td>\n",
       "      <td>Software bug</td>\n",
       "      <td>Subject: Urgent: Glitch in SAP ERP Software\\nD...</td>\n",
       "      <td>SAP ERP</td>\n",
       "      <td>ERP</td>\n",
       "    </tr>\n",
       "  </tbody>\n",
       "</table>\n",
       "</div>"
      ],
      "text/plain": [
       "       Ticket Type Ticket Subject  \\\n",
       "0  Technical issue   Software bug   \n",
       "1  Technical issue   Software bug   \n",
       "2  Technical issue   Software bug   \n",
       "3  Technical issue   Software bug   \n",
       "4  Technical issue   Software bug   \n",
       "\n",
       "                                  Ticket Description new_product_name  \\\n",
       "0  Subject: Urgent Assistance Required: Issue wit...          SAP ERP   \n",
       "1  Subject: Urgent Assistance Required for SAP ER...          SAP ERP   \n",
       "2  Subject: Frustration with SAP ERP Technical Is...          SAP ERP   \n",
       "3  Subject: Urgent Assistance Required: Software ...          SAP ERP   \n",
       "4  Subject: Urgent: Glitch in SAP ERP Software\\nD...          SAP ERP   \n",
       "\n",
       "  new_product_type  \n",
       "0              ERP  \n",
       "1              ERP  \n",
       "2              ERP  \n",
       "3              ERP  \n",
       "4              ERP  "
      ]
     },
     "execution_count": 3,
     "metadata": {},
     "output_type": "execute_result"
    }
   ],
   "source": [
    "df = pd.read_csv(path_to_email_data)\n",
    "print(df.shape)\n",
    "df.head()"
   ]
  },
  {
   "cell_type": "markdown",
   "metadata": {},
   "source": [
    "## Loading the spacy model"
   ]
  },
  {
   "cell_type": "markdown",
   "metadata": {},
   "source": [
    "### Loading a spacy model for tokenizing a sentence\n",
    "\n",
    "**Model: en_core_web_lg**\n",
    "\n",
    "The \"en_core_web_lg\" model is a pre-trained language model provided by spaCy. It is designed for various natural language processing (NLP) tasks in English.\n",
    "\n",
    "**Key Features:**\n",
    "- **Word Vectors**: This model is equipped with word vectors trained on a large corpus of text data. These word vectors enable it to understand the context and similarity between words, making it suitable for tasks like word embeddings, text similarity analysis and sentiment analysis.\n",
    "\n",
    "**Training Data:**\n",
    "- The \"en_core_web_lg\" model was trained on a diverse range of English text from the web, including news articles, books, and websites. It has been fine-tuned to capture a broad vocabulary and linguistic patterns.\n",
    "\n",
    "This model serves as a versatile tool for NLP tasks such as text classification, named entity recognition, part-of-speech tagging, and more. It's a valuable resource for understanding and processing English text data efficiently.\n",
    "\n",
    "**Leveraging the NER Model for Product Recognition**\n",
    "\n",
    "Our focus is on harnessing the Named Entity Recognition (NER) model to identify and categorize products that customers purchase. These products encompass a range of categories, including ERP, CRM, Appointment Booking Software, and others.\n",
    "\n",
    "**Uncovering and Labeling Products**\n",
    "\n",
    "Our goal is to uncover all these products within customer text data and assign them to the respective entities from a set of four predefined categories.\n",
    "\n",
    "\n"
   ]
  },
  {
   "cell_type": "code",
   "execution_count": 4,
   "metadata": {
    "id": "yH0c4AxORAkG"
   },
   "outputs": [],
   "source": [
    "nlp = spacy.load(\"en_core_web_lg\")"
   ]
  },
  {
   "cell_type": "markdown",
   "metadata": {},
   "source": [
    "### Defining a function to remove commonly used words in a text\n",
    "\n",
    "<b>Stopwords</b> are common words in natural language that are often filtered out when analyzing text data because they typically don't carry significant meaning on their own. They are frequently used in language but may not provide valuable information for tasks like text analysis and natural language processing. \n",
    "\n",
    "Here are two to three examples of common stopwords:\n",
    "\n",
    "1. English Stopwords:\n",
    "   - Articles: \"a,\" \"an,\" \"the\"\n",
    "   - Pronouns: \"I,\" \"you,\" \"he,\" \"she,\" \"it,\" \"we,\" \"they\"\n",
    "   - Prepositions: \"in,\" \"on,\" \"at,\" \"with,\" \"by,\" \"for,\" \"of,\" \"to,\" \"from\"\n",
    "   - Conjunctions: \"and,\" \"but,\" \"or,\" \"so,\" \"because\"\n",
    "\n",
    "These stopwords are often removed from text data during text preprocessing to focus on more meaningful words and improve the efficiency and effectiveness of natural language processing tasks such as text classification, sentiment analysis, and information retrieval."
   ]
  },
  {
   "cell_type": "code",
   "execution_count": 5,
   "metadata": {
    "id": "hYOOhVE2R4E6"
   },
   "outputs": [],
   "source": [
    "def remove_stopwords(text):\n",
    "    \"\"\"\n",
    "    Remove stopwords from the input text.\n",
    "\n",
    "    Args:\n",
    "        text (str): The input text from which stopwords will be removed.\n",
    "\n",
    "    Returns:\n",
    "        str: The cleaned text with stopwords removed.\n",
    "    \"\"\"\n",
    "    doc = nlp(text)\n",
    "    cleaned_text = ' '.join(token.text for token in doc if not token.is_stop)\n",
    "    return cleaned_text"
   ]
  },
  {
   "cell_type": "markdown",
   "metadata": {},
   "source": [
    "## Text Cleaning\n",
    "\n",
    "This function performs essential text cleaning steps, making the input text suitable for analysis and natural language processing. The process includes:\n",
    "\n",
    "- **Tokenization:** Breaking text into words or tokens.\n",
    "- **Lowercasing:** Converting tokens to lowercase.\n",
    "- **Punctuation Removal:** Eliminating punctuation marks.\n",
    "- **Special Character Removal:** Removing non-alphanumeric characters.\n",
    "- **Whitespace Cleanup:** Ensuring consistent and clean spaces.\n",
    "\n",
    "The result is a cleaned and preprocessed text, ready for various NLP tasks and analyses.\n"
   ]
  },
  {
   "cell_type": "code",
   "execution_count": 6,
   "metadata": {
    "id": "wmFVmYmlR9_B"
   },
   "outputs": [],
   "source": [
    "def clean_text(text):\n",
    "    \"\"\"\n",
    "    Clean and preprocess the input text.\n",
    "\n",
    "    This function tokenizes the input text, converts tokens to lowercase,\n",
    "    removes punctuation, and ensures that the text only contains letters,\n",
    "    digits, and whitespace.\n",
    "\n",
    "    Args:\n",
    "        text (str): The input text to be cleaned.\n",
    "\n",
    "    Returns:\n",
    "        str: The cleaned and preprocessed text.\n",
    "    \"\"\"\n",
    "    doc = nlp(text)\n",
    "    cleaned_text = ' '.join(token.text.lower() for token in doc if not token.is_punct)\n",
    "    cleaned_text = re.sub(r'\\s+', ' ', re.sub(r'[^a-zA-Z0-9\\s]', '', cleaned_text)).strip()\n",
    "    return cleaned_text"
   ]
  },
  {
   "cell_type": "markdown",
   "metadata": {},
   "source": [
    "## Applying text cleaning operation in our email description"
   ]
  },
  {
   "cell_type": "code",
   "execution_count": 7,
   "metadata": {
    "id": "LA1rzFHHR_Rf"
   },
   "outputs": [],
   "source": [
    "df['Ticket Description'] = df['Ticket Description'].apply(clean_text)"
   ]
  },
  {
   "cell_type": "markdown",
   "metadata": {},
   "source": [
    "## Removing stop words from our email description"
   ]
  },
  {
   "cell_type": "code",
   "execution_count": 8,
   "metadata": {
    "id": "ggEyUVrESYp_"
   },
   "outputs": [],
   "source": [
    "df['Ticket Description'] = df['Ticket Description'].apply(remove_stopwords)"
   ]
  },
  {
   "cell_type": "markdown",
   "metadata": {},
   "source": [
    "# Function Insights: create_product_class_mapping\n",
    "\n",
    "## Purpose\n",
    "\n",
    "The `create_product_class_mapping` function is designed to create a mapping of product classes to product names from a provided DataFrame. It is particularly useful when dealing with data that contains information about different types of products and their associated classes or categories.\n",
    "\n",
    "## Function Signature\n",
    "\n",
    "```python\n",
    "def create_product_class_mapping(dataframe):\n"
   ]
  },
  {
   "cell_type": "code",
   "execution_count": 9,
   "metadata": {},
   "outputs": [],
   "source": [
    "def create_product_class_mapping(df):\n",
    "    \"\"\"\n",
    "    Create a mapping of product classes to product names from a DataFrame.\n",
    "\n",
    "    This function takes a DataFrame with two columns: 'new_product_type' and 'new_product_name'.\n",
    "    It creates a dictionary mapping each unique product class (in lowercase) to a list of \n",
    "    unique product names (in lowercase) belonging to that class.\n",
    "\n",
    "    Args:\n",
    "        dataframe (pandas.DataFrame): The DataFrame containing 'new_product_type' and 'new_product_name' columns.\n",
    "\n",
    "    Returns:\n",
    "        dict: A dictionary mapping product classes to lists of product names.\n",
    "    \"\"\"\n",
    "    prod_class_map = {}\n",
    "    for item in zip(df['new_product_type'].str.lower(), df['new_product_name'].str.lower()):\n",
    "        if item[0] not in prod_class_map:\n",
    "            prod_class_map[item[0]] = [item[1]]\n",
    "        else:\n",
    "            if item[1] not in prod_class_map[item[0]]:\n",
    "                prod_class_map[item[0]].append(item[1])\n",
    "    return prod_class_map\n"
   ]
  },
  {
   "cell_type": "code",
   "execution_count": 10,
   "metadata": {
    "colab": {
     "base_uri": "https://localhost:8080/"
    },
    "id": "Q_eGyeb7ak5A",
    "outputId": "f542e1c5-4f64-4701-d7b3-91c337ca99c4"
   },
   "outputs": [
    {
     "name": "stdout",
     "output_type": "stream",
     "text": [
      "{'erp': ['sap erp', 'oracle erp cloud', 'microsoft dynamics 365', 'netsuite erp', 'infor cloudsuite', 'epicor erp', 'acumatica erp', 'odoo', 'sage x3', 'workday financial management'], 'crm': ['salesforce', 'hubspot crm', 'zoho crm', 'microsoft dynamics 365 crm', 'pipedrive', 'freshsales', 'insightly', 'nimble', 'sugarcrm', 'bitrix24'], 'appointment booking': ['calendly', 'acuity scheduling', 'setmore', 'simplybook.me', 'bookly', 'square appointments', 'appointy', 'schedulicity', 'youcanbook.me', 'timely'], 'other': ['adobe creative cloud', 'slack', 'zoom', 'trello', 'quickbooks', 'dropbox', 'atlassian jira', 'autodesk autocad', 'tableau', 'lastpass']}\n"
     ]
    }
   ],
   "source": [
    "prod_class_map = create_product_class_mapping(df)\n",
    "print(prod_class_map)"
   ]
  },
  {
   "cell_type": "markdown",
   "metadata": {},
   "source": [
    "## Finding the name of all products that has been listed in email dataset"
   ]
  },
  {
   "cell_type": "code",
   "execution_count": 11,
   "metadata": {
    "colab": {
     "base_uri": "https://localhost:8080/"
    },
    "id": "Ivfy1omyaurv",
    "outputId": "a070a8f0-8cee-4a21-beb0-95bad6aacfe7"
   },
   "outputs": [
    {
     "name": "stdout",
     "output_type": "stream",
     "text": [
      "['sap erp', 'oracle erp cloud', 'microsoft dynamics 365', 'netsuite erp', 'infor cloudsuite', 'epicor erp', 'acumatica erp', 'odoo', 'sage x3', 'workday financial management', 'salesforce', 'hubspot crm', 'zoho crm', 'microsoft dynamics 365 crm', 'pipedrive', 'freshsales', 'insightly', 'nimble', 'sugarcrm', 'bitrix24', 'calendly', 'acuity scheduling', 'setmore', 'simplybook.me', 'bookly', 'square appointments', 'appointy', 'schedulicity', 'youcanbook.me', 'timely', 'adobe creative cloud', 'slack', 'zoom', 'trello', 'quickbooks', 'dropbox', 'atlassian jira', 'autodesk autocad', 'tableau', 'lastpass']\n"
     ]
    }
   ],
   "source": [
    "product_names = list(df['new_product_name'].str.lower().unique())\n",
    "print(product_names)"
   ]
  },
  {
   "cell_type": "code",
   "execution_count": 12,
   "metadata": {
    "id": "s7D0DwvFI0QE"
   },
   "outputs": [],
   "source": [
    "def find_product_class(product_name, product_dict):\n",
    "    \"\"\"\n",
    "    Find the product class key for a given product name in a product dictionary.\n",
    "\n",
    "    Args:\n",
    "    - product_name (str): The name of the product to search for.\n",
    "    - product_dict (dict): The dictionary containing product classes and their associated products.\n",
    "\n",
    "    Returns:\n",
    "    - str or None: The product class key if found, or None if the product was not found in any class.\n",
    "    \"\"\"\n",
    "    product_class_key = next((key for key, value in product_dict.items() if product_name in value), None)\n",
    "    return product_class_key\n"
   ]
  },
  {
   "cell_type": "code",
   "execution_count": 13,
   "metadata": {
    "colab": {
     "base_uri": "https://localhost:8080/"
    },
    "id": "KnN7HIDcHR14",
    "outputId": "27d54e80-5e94-4e6a-ff4b-a0154735961c"
   },
   "outputs": [],
   "source": [
    "# product_name = \"microsoft dynamics 365\"\n",
    "# product_class_key = next((key for key, value in prod_class_map.items() if product_name in value), None)\n",
    "# print(product_class_key)"
   ]
  },
  {
   "cell_type": "markdown",
   "metadata": {},
   "source": [
    "## Named Entity Recognition (NER)\n",
    "\n",
    "NER is a technique used to identify and categorize named entities in text data, such as product names and their associated classes.\n",
    "\n",
    "### How NER Works\n",
    "\n",
    "1. **Tokenization**: Text is divided into tokens (words or subwords).\n",
    "\n",
    "2. **Feature Extraction**: Extract features from tokens.\n",
    "\n",
    "3. **Sequence Labeling**: A model assigns labels (e.g., ERP_PRODUCT, CRM_PRODUCT) to tokens.\n",
    "\n",
    "4. **Post-processing**: Combine labeled tokens into product entities with classes.\n",
    "\n",
    "### Creating a NER Dataset\n",
    "\n",
    "To train NER models for recognizing and classifying product names and their associated classes, follow these steps:\n",
    "\n",
    "1. **Collect Text Data**: Gather text containing mentions of products.\n",
    "\n",
    "2. **Annotate Entities**: Label product names with start and end positions and assign corresponding product classes.\n",
    "\n",
    "3. **Format Data**: Organize the annotated data in JSON, CSV, or spaCy format.\n",
    "\n",
    "### Example Dataset\n",
    "\n",
    "Here's an example dataset in JSON format that you can use to train your NER models:\n",
    "\n",
    "```json\n",
    "[\n",
    "    {\"text\": \"SAP HANA is an ERP solution.\", \"entities\": [{\"start\": 0, \"end\": 7, \"label\": \"ERP_PRODUCT\"}]},\n",
    "    {\"text\": \"Salesforce is a CRM platform.\", \"entities\": [{\"start\": 0, \"end\": 9, \"label\": \"CRM_PRODUCT\"}]},\n",
    "    {\"text\": \"Booking.com offers hotel reservations.\", \"entities\": [{\"start\": 0, \"end\": 10, \"label\": \"BOOKING_PRODUCT\"}]}\n",
    "]\n",
    "\n",
    "You can use this dataset as a starting point to train NER models for recognizing and classifying product names and their associated classes in new text data.\n",
    "\n"
   ]
  },
  {
   "cell_type": "markdown",
   "metadata": {},
   "source": [
    "## Function Description\n",
    "\n",
    "This function is designed for preparing data intended for training a Named Entity Recognition (NER) model. The primary objective is to enable the identification and classification of product names and their respective classes within textual data.\n",
    "\n",
    "### Input Parameters\n",
    "\n",
    "- `DataFrame (df)`: A DataFrame containing text data, such as ticket descriptions.\n",
    "\n",
    "- `Product Names (list)`: A list comprising product names that serve as entities for recognition.\n",
    "\n",
    "- `Product Class Mapping (dict)`: A dictionary mapping product names to their associated classes.\n",
    "\n",
    "### Function Operation\n",
    "\n",
    "1. **Data Annotation**: The function processes each entry within the text data, focusing on the 'Ticket Description' column.\n",
    "\n",
    "2. **Entity Identification**: For each text item, it creates a dictionary to store the text and its associated entities, which initially remain empty.\n",
    "\n",
    "3. **Matching Product Names**: The function searches for occurrences of product names within the text. When a match is found, it calculates the start and end positions of the identified entity.\n",
    "\n",
    "4. **Entity Classification**: Each product name is classified based on its corresponding class in the provided mapping, represented in uppercase.\n",
    "\n",
    "5. **Data Organization**: The annotated entities, including their start and end positions and associated classes, are appended to the entities list within the dictionary.\n",
    "\n",
    "6. **Data Compilation**: The annotated dictionary is then added to the `training_data` list, which accumulates all the annotated text samples.\n",
    "\n",
    "7. **Output**: The function returns a list of training data formatted as required for training NER models. Each entry within this list includes the text and a list of annotated entities, facilitating the training of NER models tailored specifically for recognizing and classifying product names and their associated classes in text data, such as ticket descriptions.\n"
   ]
  },
  {
   "cell_type": "code",
   "execution_count": 14,
   "metadata": {},
   "outputs": [],
   "source": [
    "def create_ner_training_data(df, product_names, prod_class_map):\n",
    "    \"\"\"\n",
    "    Create training data for Named Entity Recognition (NER).\n",
    "\n",
    "    Args:\n",
    "        df (pandas.DataFrame): The DataFrame containing text data.\n",
    "        product_names (list): List of product names to extract as entities.\n",
    "        prod_class_map (dict): A mapping of product names to their classes.\n",
    "\n",
    "    Returns:\n",
    "        list: A list of training data in the required format for NER.\n",
    "\n",
    "    Example:\n",
    "        To create training data for NER using a DataFrame 'df' and product names list 'product_names':\n",
    "        \n",
    "        >>> training_data = create_ner_training_data(df, product_names, prod_class_map)\n",
    "        >>> print(training_data[0])\n",
    "        {\n",
    "            \"text\": \"Sample ticket description containing product name.\",\n",
    "            \"entities\": [\n",
    "                (start_pos, end_pos, \"PRODUCT_CLASS\"),\n",
    "                ...\n",
    "            ]\n",
    "        }\n",
    "    \"\"\"\n",
    "    training_data = []\n",
    "\n",
    "    for item in tqdm(df['Ticket Description']):\n",
    "        training_dict = {}\n",
    "        training_dict[\"text\"] = item\n",
    "        training_dict[\"entities\"] = []\n",
    "\n",
    "        for prod in product_names:\n",
    "            if prod in item:\n",
    "                matches = [(match.start(), match.end(), find_product_class(prod, prod_class_map).upper()) for match in re.finditer(prod, item, re.IGNORECASE)]\n",
    "                training_dict[\"entities\"].append(matches)\n",
    "        training_data.append(training_dict)\n",
    "\n",
    "    return training_data\n"
   ]
  },
  {
   "cell_type": "code",
   "execution_count": 16,
   "metadata": {},
   "outputs": [
    {
     "name": "stderr",
     "output_type": "stream",
     "text": [
      "100%|██████████████████████████████████████████████████████████████████████| 450/450 [00:00<00:00, 16684.08it/s]"
     ]
    },
    {
     "name": "stdout",
     "output_type": "stream",
     "text": [
      "{'text': 'subject urgent assistance needed technical issues oracle erp cloud dear customer support m completely fed ongoing software bugs technical issues facing oracle erp cloud loyal customer expected seamless efficient experience unfortunately case primary concern encountered related grey baby slime 98 feature issue persists multiple devices model indicating widespread problem isolated incident severely impacted ability utilize oracle erp cloud effectively efficiently invested significant time resources implementing oracle erp cloud organization expected enhance operations constant software bugs technical glitches hindered productivity caused unnecessary delays affects day day operations reflects poorly reputation oracle erp cloud kindly request immediate attention matter urge escalate issue technical team provide prompt resolution paying customer believe responsibility ensure product functions advertised meets expectations customers understand software entirely bug free frequency severity issues facing unacceptable trust matter seriously prioritize resolution expect regular updates progress timeline expect resolution issue persists satisfactory resolution choice consider alternative solutions explore erp options hope come loyal customer oracle considerable period time appreciate immediate attention matter look forward swift resolution hesitate contact require information clarification sincerely contact information', 'entities': [[(50, 66, 'ERP'), (152, 168, 'ERP'), (425, 441, 'ERP'), (515, 531, 'ERP'), (717, 733, 'ERP')]]}\n"
     ]
    },
    {
     "name": "stderr",
     "output_type": "stream",
     "text": [
      "\n"
     ]
    }
   ],
   "source": [
    "training_data = create_ner_training_data(df=df, product_names=product_names,\n",
    "                                         prod_class_map=prod_class_map)\n",
    "print(training_data[9])"
   ]
  },
  {
   "cell_type": "markdown",
   "metadata": {},
   "source": [
    "## Code Description\n",
    "\n",
    "The code segment below establishes the groundwork for handling and saving spaCy `Doc` objects in a binary format by utilizing the `DocBin` utility.\n",
    "\n",
    "### Key Points\n",
    "\n",
    "- Import the `DocBin` utility from `spacy.tokens`.\n",
    "\n",
    "- Create a new spaCy language model for English using `spacy.blank(\"en\")`.\n",
    "\n",
    "- Initialize an empty `DocBin` object, named `doc_bin`.\n",
    "\n",
    "This code is essential for efficiently processing and storing spaCy `Doc` objects in a binary format, which can be beneficial for various natural language processing tasks.\n"
   ]
  },
  {
   "cell_type": "code",
   "execution_count": 17,
   "metadata": {
    "id": "TWjeTUrlZz_E"
   },
   "outputs": [],
   "source": [
    "nlp = spacy.blank(\"en\") \n",
    "doc_bin = DocBin()"
   ]
  },
  {
   "cell_type": "markdown",
   "metadata": {},
   "source": [
    "### Creating a new folder named 'ner_config' to store some configurations in NER"
   ]
  },
  {
   "cell_type": "code",
   "execution_count": 18,
   "metadata": {},
   "outputs": [],
   "source": [
    "path_to_ner_config = os.path.join(os.path.dirname(os.getcwd()), 'ner_config')\n",
    "if not os.path.exists(path_to_ner_config):\n",
    "    os.mkdir(path_to_ner_config)"
   ]
  },
  {
   "cell_type": "markdown",
   "metadata": {},
   "source": [
    "## Code Explanation\n",
    "\n",
    "This code below prepares training data for a spaCy Named Entity Recognition (NER) model:\n",
    "\n",
    "1. It iterates through training examples, extracting text and entity labels.\n",
    "2. Creates spaCy `Doc` objects with non-overlapping entities.\n",
    "3. Stores processed `Docs` in a `DocBin`.\n",
    "4. Saves the `DocBin` to a binary file for NER model training.\n"
   ]
  },
  {
   "cell_type": "code",
   "execution_count": 25,
   "metadata": {
    "colab": {
     "base_uri": "https://localhost:8080/"
    },
    "id": "UgG0-AR0Z0Bm",
    "outputId": "0ef51ccd-1592-4007-c84e-122f4980b463"
   },
   "outputs": [],
   "source": [
    "def prepare_training_data(training_data, nlp_model):\n",
    "    \"\"\"\n",
    "    Prepare training data for a Named Entity Recognition (NER) model.\n",
    "\n",
    "    Args:\n",
    "        training_data (list): A list of training examples, each containing text and entity labels.\n",
    "        nlp_model (spacy.Language): A spaCy language model.\n",
    "\n",
    "    Returns:\n",
    "        spacy.tokens.DocBin: A DocBin object containing processed training data.\n",
    "\n",
    "    Note:\n",
    "        This function processes training examples, extracts text and entity labels, creates\n",
    "        spaCy Doc objects with non-overlapping entities, and returns a DocBin for NER model training.\n",
    "    \"\"\"\n",
    "    doc_bin = DocBin()\n",
    "    \n",
    "    for training_example in training_data:\n",
    "        text = training_example['text']\n",
    "        labels = training_example['entities']\n",
    "        doc = nlp_model.make_doc(text)\n",
    "        ents = []\n",
    "        print(labels)\n",
    "        for label_group in labels:\n",
    "            for start, end, label in label_group:\n",
    "                span = doc.char_span(start, end, label=label, alignment_mode=\"contract\")\n",
    "                if span is None:\n",
    "                    print(\"Skipping entity\")\n",
    "                else:\n",
    "                    ents.append(span)\n",
    "        \n",
    "        filtered_ents = filter_spans(ents)\n",
    "        doc.ents = filtered_ents\n",
    "        doc_bin.add(doc)\n",
    "    return doc_bin"
   ]
  },
  {
   "cell_type": "code",
   "execution_count": 26,
   "metadata": {},
   "outputs": [],
   "source": [
    "train_data_path = os.path.join(path_to_ner_config, \"train.spacy\")"
   ]
  },
  {
   "cell_type": "code",
   "execution_count": 27,
   "metadata": {},
   "outputs": [
    {
     "name": "stdout",
     "output_type": "stream",
     "text": [
      "[[(41, 48, 'ERP'), (101, 108, 'ERP'), (258, 265, 'ERP'), (530, 537, 'ERP'), (772, 779, 'ERP'), (929, 936, 'ERP'), (1264, 1271, 'ERP')]]\n",
      "[[(35, 42, 'ERP'), (133, 140, 'ERP'), (333, 340, 'ERP'), (592, 599, 'ERP'), (781, 788, 'ERP'), (988, 995, 'ERP'), (1431, 1438, 'ERP'), (1575, 1582, 'ERP')]]\n",
      "[[(20, 27, 'ERP'), (161, 168, 'ERP'), (441, 448, 'ERP'), (736, 743, 'ERP'), (914, 921, 'ERP'), (1330, 1337, 'ERP')]]\n",
      "[[(49, 56, 'ERP'), (148, 155, 'ERP'), (182, 189, 'ERP'), (392, 399, 'ERP'), (619, 626, 'ERP'), (682, 689, 'ERP'), (840, 847, 'ERP'), (1265, 1272, 'ERP')]]\n",
      "[[(22, 29, 'ERP'), (86, 93, 'ERP'), (236, 243, 'ERP'), (548, 555, 'ERP'), (751, 758, 'ERP'), (1043, 1050, 'ERP')]]\n",
      "[[(35, 42, 'ERP'), (160, 167, 'ERP'), (401, 408, 'ERP'), (538, 545, 'ERP'), (896, 903, 'ERP'), (1081, 1088, 'ERP'), (1325, 1332, 'ERP')]]\n",
      "[[(20, 36, 'ERP'), (100, 116, 'ERP'), (534, 550, 'ERP'), (888, 904, 'ERP'), (1096, 1112, 'ERP'), (1655, 1671, 'ERP')]]\n",
      "[[(33, 49, 'ERP'), (144, 160, 'ERP'), (319, 335, 'ERP'), (619, 635, 'ERP'), (1453, 1469, 'ERP')], [(1273, 1279, 'APPOINTMENT BOOKING')]]\n",
      "[[(52, 68, 'ERP'), (140, 156, 'ERP'), (246, 262, 'ERP'), (505, 521, 'ERP'), (1000, 1016, 'ERP')]]\n",
      "[[(50, 66, 'ERP'), (152, 168, 'ERP'), (425, 441, 'ERP'), (515, 531, 'ERP'), (717, 733, 'ERP')]]\n",
      "[[(35, 51, 'ERP'), (171, 187, 'ERP'), (354, 370, 'ERP'), (769, 785, 'ERP'), (1001, 1017, 'ERP'), (1276, 1292, 'ERP'), (1467, 1483, 'ERP')]]\n",
      "[[(20, 36, 'ERP'), (109, 125, 'ERP'), (306, 322, 'ERP'), (782, 798, 'ERP'), (1318, 1334, 'ERP')]]\n",
      "[[(20, 36, 'ERP'), (99, 115, 'ERP'), (372, 388, 'ERP'), (512, 528, 'ERP'), (882, 898, 'ERP'), (1144, 1160, 'ERP')]]\n",
      "[[(30, 46, 'ERP'), (123, 139, 'ERP'), (478, 494, 'ERP'), (843, 859, 'ERP')]]\n",
      "[[(20, 36, 'ERP'), (108, 124, 'ERP'), (894, 910, 'ERP')]]\n",
      "[[(20, 42, 'ERP'), (129, 151, 'ERP'), (421, 443, 'ERP'), (1079, 1101, 'ERP'), (1260, 1282, 'ERP')]]\n",
      "[[(20, 42, 'ERP'), (97, 119, 'ERP'), (513, 535, 'ERP'), (832, 854, 'ERP'), (1165, 1187, 'ERP')]]\n",
      "[[(20, 42, 'ERP'), (131, 153, 'ERP'), (582, 604, 'ERP'), (1261, 1283, 'ERP')]]\n",
      "[[(33, 55, 'ERP'), (113, 135, 'ERP'), (303, 325, 'ERP'), (703, 725, 'ERP'), (1030, 1052, 'ERP'), (1119, 1141, 'ERP'), (1403, 1425, 'ERP')], [(1350, 1356, 'APPOINTMENT BOOKING')]]\n",
      "[[(20, 42, 'ERP'), (73, 95, 'ERP'), (240, 262, 'ERP'), (655, 677, 'ERP'), (1077, 1099, 'ERP')]]\n",
      "[[(20, 42, 'ERP'), (131, 153, 'ERP'), (614, 636, 'ERP'), (1023, 1045, 'ERP')]]\n",
      "[[(20, 42, 'ERP'), (127, 149, 'ERP'), (355, 377, 'ERP'), (496, 518, 'ERP'), (744, 766, 'ERP'), (1138, 1160, 'ERP')]]\n",
      "[[(20, 42, 'ERP'), (148, 170, 'ERP'), (553, 575, 'ERP'), (723, 745, 'ERP'), (1061, 1083, 'ERP')]]\n",
      "[[(29, 51, 'ERP'), (174, 196, 'ERP'), (421, 443, 'ERP'), (620, 642, 'ERP'), (952, 974, 'ERP')]]\n",
      "[[(35, 57, 'ERP'), (158, 180, 'ERP'), (257, 279, 'ERP'), (645, 667, 'ERP'), (1032, 1054, 'ERP')]]\n",
      "[[(30, 52, 'ERP'), (116, 138, 'ERP'), (193, 215, 'ERP'), (1030, 1052, 'ERP')]]\n",
      "[[(20, 42, 'ERP'), (181, 203, 'ERP'), (515, 537, 'ERP')]]\n",
      "[[(35, 47, 'ERP'), (98, 110, 'ERP'), (351, 363, 'ERP'), (843, 855, 'ERP')]]\n",
      "[[(20, 32, 'ERP'), (104, 116, 'ERP'), (198, 210, 'ERP'), (544, 556, 'ERP'), (782, 794, 'ERP'), (1349, 1361, 'ERP')]]\n",
      "[[(35, 47, 'ERP'), (124, 136, 'ERP'), (361, 373, 'ERP'), (1129, 1141, 'ERP')]]\n",
      "[[(35, 47, 'ERP'), (146, 158, 'ERP'), (352, 364, 'ERP'), (690, 702, 'ERP'), (865, 877, 'ERP'), (1175, 1187, 'ERP')]]\n",
      "[[(20, 32, 'ERP'), (133, 145, 'ERP'), (635, 647, 'ERP'), (883, 895, 'ERP'), (1124, 1136, 'ERP')]]\n",
      "[[(20, 32, 'ERP'), (94, 106, 'ERP'), (285, 297, 'ERP'), (496, 508, 'ERP'), (807, 819, 'ERP'), (1087, 1099, 'ERP')]]\n",
      "[[(20, 32, 'ERP'), (116, 128, 'ERP'), (343, 355, 'ERP'), (459, 471, 'ERP'), (811, 823, 'ERP'), (956, 968, 'ERP'), (1293, 1305, 'ERP')]]\n",
      "[[(20, 32, 'ERP'), (116, 128, 'ERP'), (661, 673, 'ERP'), (1004, 1016, 'ERP'), (1263, 1275, 'ERP')]]\n",
      "[[(20, 32, 'ERP'), (96, 108, 'ERP'), (527, 539, 'ERP'), (1022, 1034, 'ERP')]]\n",
      "[[(20, 36, 'ERP'), (148, 164, 'ERP'), (256, 272, 'ERP'), (447, 463, 'ERP'), (601, 617, 'ERP'), (850, 866, 'ERP'), (967, 983, 'ERP'), (1134, 1150, 'ERP')]]\n",
      "[[(34, 50, 'ERP'), (169, 185, 'ERP'), (585, 601, 'ERP'), (693, 709, 'ERP'), (974, 990, 'ERP')]]\n",
      "[[(33, 49, 'ERP'), (122, 138, 'ERP'), (314, 330, 'ERP'), (897, 913, 'ERP'), (999, 1015, 'ERP'), (1260, 1276, 'ERP')]]\n",
      "[[(20, 36, 'ERP'), (137, 153, 'ERP'), (604, 620, 'ERP'), (875, 891, 'ERP'), (1357, 1373, 'ERP')]]\n",
      "[[(20, 36, 'ERP'), (170, 186, 'ERP'), (366, 382, 'ERP'), (854, 870, 'ERP'), (1070, 1086, 'ERP'), (1661, 1677, 'ERP')]]\n",
      "[[(20, 36, 'ERP'), (99, 115, 'ERP'), (844, 860, 'ERP'), (1022, 1038, 'ERP'), (1220, 1236, 'ERP')]]\n",
      "[[(33, 49, 'ERP'), (184, 200, 'ERP'), (421, 437, 'ERP'), (609, 625, 'ERP'), (822, 838, 'ERP'), (1075, 1091, 'ERP'), (1365, 1381, 'ERP'), (1608, 1624, 'ERP')]]\n",
      "[[(20, 36, 'ERP'), (99, 115, 'ERP'), (440, 456, 'ERP'), (1107, 1123, 'ERP')], [(878, 884, 'APPOINTMENT BOOKING')]]\n",
      "[[(34, 50, 'ERP'), (159, 175, 'ERP'), (615, 631, 'ERP'), (798, 814, 'ERP'), (1195, 1211, 'ERP')], [(640, 646, 'APPOINTMENT BOOKING')]]\n",
      "[[(20, 36, 'ERP'), (119, 135, 'ERP'), (252, 268, 'ERP'), (638, 654, 'ERP'), (771, 787, 'ERP'), (1233, 1249, 'ERP')]]\n",
      "[[(20, 36, 'ERP'), (109, 125, 'ERP'), (1322, 1338, 'ERP')]]\n",
      "[[(20, 30, 'ERP'), (84, 94, 'ERP'), (999, 1009, 'ERP')]]\n",
      "[[(33, 43, 'ERP'), (194, 204, 'ERP'), (503, 513, 'ERP'), (638, 648, 'ERP'), (949, 959, 'ERP'), (1233, 1243, 'ERP'), (1497, 1507, 'ERP')]]\n",
      "[[(20, 30, 'ERP'), (95, 105, 'ERP'), (291, 301, 'ERP'), (831, 841, 'ERP'), (1348, 1358, 'ERP')]]\n",
      "[[(20, 30, 'ERP'), (102, 112, 'ERP'), (297, 307, 'ERP'), (536, 546, 'ERP'), (739, 749, 'ERP'), (1404, 1414, 'ERP')]]\n",
      "[[(20, 30, 'ERP'), (90, 100, 'ERP'), (299, 309, 'ERP'), (1560, 1570, 'ERP')]]\n",
      "[[(33, 43, 'ERP'), (112, 122, 'ERP'), (276, 286, 'ERP'), (760, 770, 'ERP'), (980, 990, 'ERP'), (1339, 1349, 'ERP'), (1480, 1490, 'ERP')]]\n",
      "[[(20, 30, 'ERP'), (158, 168, 'ERP'), (338, 348, 'ERP'), (570, 580, 'ERP'), (955, 965, 'ERP')]]\n",
      "[[(37, 47, 'ERP'), (117, 127, 'ERP'), (301, 311, 'ERP'), (511, 521, 'ERP'), (780, 790, 'ERP'), (979, 989, 'ERP'), (1166, 1176, 'ERP')]]\n",
      "[[(33, 43, 'ERP'), (112, 122, 'ERP'), (838, 848, 'ERP'), (1065, 1075, 'ERP')]]\n",
      "[[(33, 43, 'ERP'), (95, 105, 'ERP'), (688, 698, 'ERP')]]\n",
      "[[(20, 30, 'ERP'), (93, 103, 'ERP'), (304, 314, 'ERP'), (802, 812, 'ERP'), (950, 960, 'ERP'), (1592, 1602, 'ERP')]]\n",
      "[[(39, 49, 'ERP'), (84, 94, 'ERP'), (295, 305, 'ERP'), (685, 695, 'ERP'), (926, 936, 'ERP'), (1243, 1253, 'ERP')]]\n",
      "[[(33, 46, 'ERP'), (112, 125, 'ERP'), (245, 258, 'ERP'), (829, 842, 'ERP'), (1156, 1169, 'ERP')]]\n",
      "[[(20, 33, 'ERP'), (150, 163, 'ERP'), (340, 353, 'ERP'), (655, 668, 'ERP'), (1092, 1105, 'ERP')]]\n",
      "[[(20, 33, 'ERP'), (91, 104, 'ERP'), (291, 304, 'ERP'), (527, 540, 'ERP'), (788, 801, 'ERP'), (1005, 1018, 'ERP')]]\n",
      "[[(33, 46, 'ERP'), (116, 129, 'ERP'), (254, 267, 'ERP'), (516, 529, 'ERP'), (1278, 1291, 'ERP')]]\n",
      "[[(35, 48, 'ERP'), (166, 179, 'ERP'), (409, 422, 'ERP'), (676, 689, 'ERP'), (1112, 1125, 'ERP')]]\n",
      "[[(35, 48, 'ERP'), (134, 147, 'ERP'), (354, 367, 'ERP'), (631, 644, 'ERP'), (1076, 1089, 'ERP'), (1279, 1292, 'ERP')]]\n",
      "[[(35, 39, 'ERP'), (115, 119, 'ERP'), (151, 155, 'ERP'), (337, 341, 'ERP'), (798, 802, 'ERP'), (1058, 1062, 'ERP'), (1285, 1289, 'ERP'), (1511, 1515, 'ERP')]]\n",
      "[[(20, 24, 'ERP'), (171, 175, 'ERP'), (198, 202, 'ERP'), (368, 372, 'ERP'), (603, 607, 'ERP'), (806, 810, 'ERP'), (982, 986, 'ERP')]]\n",
      "[[(20, 24, 'ERP'), (163, 167, 'ERP'), (259, 263, 'ERP'), (362, 366, 'ERP'), (453, 457, 'ERP'), (644, 648, 'ERP'), (1157, 1161, 'ERP')]]\n",
      "[[(58, 62, 'ERP'), (190, 194, 'ERP'), (289, 293, 'ERP'), (323, 327, 'ERP'), (1075, 1079, 'ERP'), (1315, 1319, 'ERP'), (1474, 1478, 'ERP')]]\n",
      "[[(20, 24, 'ERP'), (98, 102, 'ERP'), (246, 250, 'ERP'), (487, 491, 'ERP'), (823, 827, 'ERP'), (1200, 1204, 'ERP')]]\n",
      "[[(35, 39, 'ERP'), (147, 151, 'ERP'), (459, 463, 'ERP'), (558, 562, 'ERP'), (964, 968, 'ERP'), (1215, 1219, 'ERP')]]\n",
      "[[(22, 29, 'ERP'), (73, 80, 'ERP'), (609, 616, 'ERP'), (785, 792, 'ERP'), (1340, 1347, 'ERP'), (1596, 1603, 'ERP')]]\n",
      "[[(35, 42, 'ERP'), (139, 146, 'ERP'), (296, 303, 'ERP'), (576, 583, 'ERP'), (965, 972, 'ERP')]]\n",
      "[[(20, 27, 'ERP'), (134, 141, 'ERP'), (601, 608, 'ERP'), (903, 910, 'ERP'), (1207, 1214, 'ERP')]]\n",
      "[[(29, 36, 'ERP'), (131, 138, 'ERP'), (301, 308, 'ERP'), (609, 616, 'ERP'), (1013, 1020, 'ERP')]]\n",
      "[[(20, 27, 'ERP'), (132, 139, 'ERP'), (297, 304, 'ERP'), (581, 588, 'ERP'), (683, 690, 'ERP'), (908, 915, 'ERP'), (1032, 1039, 'ERP'), (1232, 1239, 'ERP')]]\n",
      "[[(37, 44, 'ERP'), (122, 129, 'ERP'), (270, 277, 'ERP'), (464, 471, 'ERP'), (793, 800, 'ERP'), (981, 988, 'ERP')]]\n",
      "[[(35, 42, 'ERP'), (169, 176, 'ERP'), (321, 328, 'ERP'), (644, 651, 'ERP'), (878, 885, 'ERP'), (1247, 1254, 'ERP'), (1395, 1402, 'ERP'), (1592, 1599, 'ERP')]]\n",
      "[[(35, 42, 'ERP'), (149, 156, 'ERP'), (320, 327, 'ERP'), (551, 558, 'ERP'), (775, 782, 'ERP'), (906, 913, 'ERP'), (1532, 1539, 'ERP')]]\n",
      "[[(33, 61, 'ERP'), (152, 180, 'ERP'), (215, 243, 'ERP'), (480, 508, 'ERP'), (736, 764, 'ERP')]]\n",
      "[[(33, 61, 'ERP'), (171, 199, 'ERP'), (729, 757, 'ERP'), (1075, 1103, 'ERP'), (1473, 1501, 'ERP')]]\n",
      "[[(28, 56, 'ERP'), (91, 119, 'ERP'), (376, 404, 'ERP')]]\n",
      "[[(20, 48, 'ERP'), (157, 185, 'ERP'), (660, 688, 'ERP'), (969, 997, 'ERP'), (1103, 1131, 'ERP')]]\n",
      "[[(20, 48, 'ERP'), (120, 148, 'ERP'), (519, 547, 'ERP'), (924, 952, 'ERP'), (1438, 1466, 'ERP')]]\n",
      "[[(20, 48, 'ERP'), (93, 121, 'ERP'), (479, 507, 'ERP'), (1174, 1202, 'ERP')]]\n",
      "[[(20, 48, 'ERP'), (160, 188, 'ERP'), (649, 677, 'ERP'), (923, 951, 'ERP')]]\n",
      "[[(20, 48, 'ERP'), (148, 176, 'ERP'), (514, 542, 'ERP'), (783, 811, 'ERP'), (1110, 1138, 'ERP')]]\n",
      "[[(52, 62, 'CRM'), (120, 130, 'CRM'), (320, 330, 'CRM'), (502, 512, 'CRM'), (775, 785, 'CRM'), (801, 811, 'CRM'), (928, 938, 'CRM'), (1148, 1158, 'CRM'), (1362, 1372, 'CRM')]]\n",
      "[[(20, 30, 'CRM'), (128, 138, 'CRM'), (269, 279, 'CRM'), (495, 505, 'CRM'), (689, 699, 'CRM'), (1085, 1095, 'CRM'), (1222, 1232, 'CRM')]]\n",
      "[[(57, 67, 'CRM'), (134, 144, 'CRM'), (183, 193, 'CRM'), (326, 336, 'CRM')]]\n",
      "[[(20, 30, 'CRM'), (136, 146, 'CRM'), (169, 179, 'CRM'), (492, 502, 'CRM'), (1022, 1032, 'CRM')], [(1094, 1100, 'APPOINTMENT BOOKING')]]\n",
      "[[(20, 30, 'CRM'), (128, 138, 'CRM'), (233, 243, 'CRM'), (474, 484, 'CRM'), (691, 701, 'CRM')]]\n",
      "[[(41, 51, 'CRM'), (120, 130, 'CRM'), (161, 171, 'CRM'), (506, 516, 'CRM'), (862, 872, 'CRM'), (1181, 1191, 'CRM')]]\n",
      "[[(20, 31, 'CRM'), (95, 106, 'CRM'), (306, 317, 'CRM'), (825, 836, 'CRM'), (1066, 1077, 'CRM')]]\n",
      "[[(20, 31, 'CRM'), (121, 132, 'CRM'), (771, 782, 'CRM'), (1114, 1125, 'CRM'), (1520, 1531, 'CRM')]]\n",
      "[[(19, 30, 'CRM'), (103, 114, 'CRM'), (146, 157, 'CRM'), (337, 348, 'CRM'), (756, 767, 'CRM'), (1062, 1073, 'CRM')]]\n",
      "[[(33, 44, 'CRM'), (145, 156, 'CRM'), (311, 322, 'CRM'), (547, 558, 'CRM'), (963, 974, 'CRM'), (1246, 1257, 'CRM'), (1386, 1397, 'CRM'), (1509, 1520, 'CRM')]]\n",
      "[[(20, 31, 'CRM'), (151, 162, 'CRM'), (901, 912, 'CRM'), (1342, 1353, 'CRM'), (1472, 1483, 'CRM')]]\n",
      "[[(20, 31, 'CRM'), (93, 104, 'CRM'), (255, 266, 'CRM'), (500, 511, 'CRM'), (801, 812, 'CRM')]]\n",
      "[[(20, 31, 'CRM'), (165, 176, 'CRM'), (356, 367, 'CRM'), (1229, 1240, 'CRM'), (1338, 1349, 'CRM')]]\n",
      "[[(20, 28, 'CRM'), (148, 156, 'CRM'), (281, 289, 'CRM'), (996, 1004, 'CRM'), (1188, 1196, 'CRM'), (1645, 1653, 'CRM')]]\n",
      "[[(20, 28, 'CRM'), (96, 104, 'CRM'), (309, 317, 'CRM'), (736, 744, 'CRM'), (964, 972, 'CRM'), (1243, 1251, 'CRM'), (1466, 1474, 'CRM'), (1720, 1728, 'CRM')], [(689, 695, 'APPOINTMENT BOOKING')]]\n",
      "[[(20, 28, 'CRM'), (101, 109, 'CRM'), (321, 329, 'CRM'), (514, 522, 'CRM'), (777, 785, 'CRM')]]\n",
      "[[(33, 41, 'CRM'), (86, 94, 'CRM'), (456, 464, 'CRM'), (1054, 1062, 'CRM')]]\n",
      "[[(33, 41, 'CRM'), (128, 136, 'CRM'), (356, 364, 'CRM'), (933, 941, 'CRM')]]\n",
      "[[(20, 42, 'ERP'), (119, 141, 'ERP'), (1132, 1154, 'ERP')], [(20, 46, 'CRM'), (119, 145, 'CRM'), (1132, 1158, 'CRM')]]\n",
      "[[(20, 42, 'ERP'), (91, 113, 'ERP'), (707, 729, 'ERP'), (1410, 1432, 'ERP')], [(20, 46, 'CRM'), (91, 117, 'CRM'), (707, 733, 'CRM'), (1410, 1436, 'CRM')]]\n",
      "[[(20, 42, 'ERP'), (77, 99, 'ERP'), (830, 852, 'ERP'), (1110, 1132, 'ERP')], [(20, 46, 'CRM'), (77, 103, 'CRM'), (830, 856, 'CRM'), (1110, 1136, 'CRM')]]\n",
      "[[(20, 42, 'ERP'), (141, 163, 'ERP'), (1220, 1242, 'ERP')], [(20, 46, 'CRM'), (141, 167, 'CRM'), (1220, 1246, 'CRM')]]\n",
      "[[(20, 42, 'ERP'), (169, 191, 'ERP'), (360, 382, 'ERP'), (631, 653, 'ERP'), (992, 1014, 'ERP'), (1435, 1457, 'ERP')], [(20, 46, 'CRM'), (169, 195, 'CRM'), (360, 386, 'CRM'), (631, 657, 'CRM'), (992, 1018, 'CRM'), (1435, 1461, 'CRM')]]\n",
      "[[(34, 56, 'ERP'), (338, 360, 'ERP'), (953, 975, 'ERP')], [(34, 60, 'CRM'), (338, 364, 'CRM'), (953, 979, 'CRM')]]\n",
      "[[(20, 42, 'ERP'), (77, 99, 'ERP'), (263, 285, 'ERP'), (725, 747, 'ERP'), (992, 1014, 'ERP')], [(20, 46, 'CRM'), (77, 103, 'CRM'), (263, 289, 'CRM'), (725, 751, 'CRM'), (992, 1018, 'CRM')]]\n",
      "[[(20, 42, 'ERP'), (115, 137, 'ERP'), (353, 375, 'ERP'), (836, 858, 'ERP'), (1150, 1172, 'ERP')], [(20, 46, 'CRM'), (115, 141, 'CRM'), (353, 379, 'CRM'), (836, 862, 'CRM'), (1150, 1176, 'CRM')]]\n",
      "[[(20, 42, 'ERP'), (155, 177, 'ERP'), (313, 335, 'ERP'), (742, 764, 'ERP'), (927, 949, 'ERP'), (1411, 1433, 'ERP')], [(20, 46, 'CRM'), (155, 181, 'CRM'), (313, 339, 'CRM'), (742, 768, 'CRM'), (927, 953, 'CRM'), (1411, 1437, 'CRM')]]\n",
      "[[(33, 42, 'CRM'), (96, 105, 'CRM'), (1171, 1180, 'CRM'), (1518, 1527, 'CRM')]]\n",
      "[[(20, 29, 'CRM'), (112, 121, 'CRM'), (425, 434, 'CRM'), (578, 587, 'CRM'), (889, 898, 'CRM'), (1108, 1117, 'CRM')]]\n",
      "[[(20, 29, 'CRM'), (137, 146, 'CRM'), (248, 257, 'CRM'), (644, 653, 'CRM'), (842, 851, 'CRM'), (1207, 1216, 'CRM')]]\n",
      "[[(20, 29, 'CRM'), (91, 100, 'CRM'), (132, 141, 'CRM'), (928, 937, 'CRM'), (1085, 1094, 'CRM'), (1216, 1225, 'CRM')]]\n",
      "[[(67, 76, 'CRM'), (112, 121, 'CRM'), (413, 422, 'CRM'), (562, 571, 'CRM')]]\n",
      "[[(24, 33, 'CRM'), (79, 88, 'CRM'), (183, 192, 'CRM'), (193, 202, 'CRM'), (457, 466, 'CRM'), (549, 558, 'CRM'), (676, 685, 'CRM')]]\n",
      "[[(24, 33, 'CRM'), (78, 87, 'CRM'), (309, 318, 'CRM'), (554, 563, 'CRM')]]\n",
      "[[(26, 35, 'CRM'), (96, 105, 'CRM'), (160, 169, 'CRM'), (444, 453, 'CRM'), (526, 535, 'CRM')]]\n",
      "[[(24, 34, 'CRM'), (94, 104, 'CRM'), (214, 224, 'CRM'), (655, 665, 'CRM'), (744, 754, 'CRM')]]\n",
      "[[(24, 34, 'CRM'), (136, 146, 'CRM'), (234, 244, 'CRM'), (494, 504, 'CRM'), (673, 683, 'CRM')]]\n",
      "[[(31, 41, 'CRM'), (111, 121, 'CRM'), (145, 155, 'CRM'), (415, 425, 'CRM'), (626, 636, 'CRM'), (823, 833, 'CRM')]]\n",
      "[[(28, 38, 'CRM'), (100, 110, 'CRM'), (233, 243, 'CRM'), (449, 459, 'CRM'), (636, 646, 'CRM'), (742, 752, 'CRM'), (830, 840, 'CRM'), (878, 888, 'CRM')]]\n",
      "[[(26, 36, 'CRM'), (104, 114, 'CRM'), (852, 862, 'CRM')]]\n",
      "[[(26, 35, 'CRM'), (113, 122, 'CRM'), (201, 210, 'CRM'), (796, 805, 'CRM'), (869, 878, 'CRM')]]\n",
      "[[(24, 33, 'CRM'), (113, 122, 'CRM'), (561, 570, 'CRM')]]\n",
      "[[(24, 33, 'CRM'), (84, 93, 'CRM'), (447, 456, 'CRM'), (545, 554, 'CRM'), (691, 700, 'CRM'), (840, 849, 'CRM'), (947, 956, 'CRM')]]\n",
      "[[(26, 35, 'CRM'), (86, 95, 'CRM'), (214, 223, 'CRM'), (438, 447, 'CRM'), (583, 592, 'CRM'), (725, 734, 'CRM')]]\n",
      "[[(26, 35, 'CRM'), (73, 82, 'CRM'), (148, 157, 'CRM'), (374, 383, 'CRM')]]\n",
      "[[(26, 35, 'CRM'), (113, 122, 'CRM'), (333, 342, 'CRM')]]\n",
      "[[(24, 33, 'CRM'), (87, 96, 'CRM'), (123, 132, 'CRM'), (212, 221, 'CRM'), (492, 501, 'CRM')]]\n",
      "[[(38, 47, 'CRM'), (95, 104, 'CRM'), (231, 240, 'CRM'), (583, 592, 'CRM'), (689, 698, 'CRM')]]\n",
      "[[(26, 35, 'CRM'), (120, 129, 'CRM'), (164, 173, 'CRM'), (404, 413, 'CRM'), (476, 485, 'CRM'), (603, 612, 'CRM')]]\n",
      "[[(35, 41, 'CRM'), (137, 143, 'CRM'), (248, 254, 'CRM'), (312, 318, 'CRM'), (508, 514, 'CRM'), (816, 822, 'CRM')]]\n",
      "[[(26, 32, 'CRM'), (96, 102, 'CRM'), (402, 408, 'CRM')]]\n",
      "[[(24, 30, 'CRM'), (76, 82, 'CRM'), (164, 170, 'CRM'), (514, 520, 'CRM'), (594, 600, 'CRM')]]\n",
      "[[(24, 30, 'CRM'), (75, 81, 'CRM'), (163, 169, 'CRM'), (231, 237, 'CRM'), (387, 393, 'CRM'), (537, 543, 'CRM'), (733, 739, 'CRM')]]\n",
      "[[(24, 30, 'CRM'), (73, 79, 'CRM'), (197, 203, 'CRM'), (414, 420, 'CRM'), (545, 551, 'CRM'), (600, 606, 'CRM'), (704, 710, 'CRM')]]\n",
      "[[(24, 30, 'CRM'), (111, 117, 'CRM'), (151, 157, 'CRM'), (448, 454, 'CRM'), (556, 562, 'CRM')]]\n",
      "[[(26, 32, 'CRM'), (85, 91, 'CRM'), (197, 203, 'CRM'), (354, 360, 'CRM'), (519, 525, 'CRM'), (803, 809, 'CRM')]]\n",
      "[[(26, 34, 'CRM'), (93, 101, 'CRM'), (192, 200, 'CRM'), (612, 620, 'CRM'), (813, 821, 'CRM')]]\n",
      "[[(26, 34, 'CRM'), (91, 99, 'CRM'), (224, 232, 'CRM'), (350, 358, 'CRM'), (665, 673, 'CRM'), (998, 1006, 'CRM')]]\n",
      "[[(51, 59, 'CRM'), (521, 529, 'CRM')]]\n",
      "[[(26, 34, 'CRM'), (107, 115, 'CRM'), (361, 369, 'CRM'), (591, 599, 'CRM')]]\n",
      "[[(56, 64, 'CRM'), (322, 330, 'CRM'), (369, 377, 'CRM'), (469, 477, 'CRM')]]\n",
      "[[(35, 43, 'CRM'), (104, 112, 'CRM'), (196, 204, 'CRM'), (291, 299, 'CRM'), (373, 381, 'CRM')]]\n",
      "[[(26, 34, 'CRM'), (117, 125, 'CRM'), (214, 222, 'CRM'), (365, 373, 'CRM')]]\n",
      "[[(26, 34, 'CRM'), (88, 96, 'CRM'), (198, 206, 'CRM'), (416, 424, 'CRM'), (523, 531, 'CRM'), (885, 893, 'CRM')]]\n",
      "[[(41, 49, 'CRM'), (126, 134, 'CRM'), (185, 193, 'CRM'), (599, 607, 'CRM')]]\n",
      "[[(24, 32, 'CRM'), (92, 100, 'CRM'), (211, 219, 'CRM'), (648, 656, 'CRM'), (849, 857, 'CRM')]]\n",
      "[[(26, 34, 'CRM'), (94, 102, 'CRM')]]\n",
      "[[(26, 34, 'CRM'), (85, 93, 'CRM'), (212, 220, 'CRM'), (492, 500, 'CRM'), (571, 579, 'CRM'), (934, 942, 'CRM')]]\n",
      "[[(26, 34, 'CRM'), (104, 112, 'CRM'), (477, 485, 'CRM')]]\n",
      "[[(24, 32, 'CRM'), (93, 101, 'CRM'), (158, 166, 'CRM'), (304, 312, 'CRM'), (370, 378, 'CRM'), (569, 577, 'CRM'), (678, 686, 'CRM'), (755, 763, 'CRM')]]\n",
      "[[(26, 34, 'CRM'), (93, 101, 'CRM'), (158, 166, 'CRM'), (239, 247, 'CRM'), (377, 385, 'CRM'), (496, 504, 'CRM'), (677, 685, 'CRM')]]\n",
      "[[(26, 34, 'CRM'), (86, 94, 'CRM'), (519, 527, 'CRM'), (674, 682, 'CRM')]]\n",
      "[[(26, 34, 'CRM'), (113, 121, 'CRM'), (195, 203, 'CRM'), (412, 420, 'CRM')]]\n",
      "[[(24, 32, 'CRM'), (118, 126, 'CRM'), (154, 162, 'CRM'), (377, 385, 'CRM'), (543, 551, 'CRM'), (697, 705, 'CRM')]]\n",
      "[[(26, 34, 'CRM'), (87, 95, 'CRM'), (286, 294, 'CRM'), (504, 512, 'CRM'), (663, 671, 'CRM')]]\n",
      "[[(26, 34, 'CRM'), (94, 102, 'CRM'), (103, 111, 'CRM'), (191, 199, 'CRM'), (398, 406, 'CRM'), (560, 568, 'CRM'), (783, 791, 'CRM')]]\n",
      "[[(26, 34, 'CRM'), (119, 127, 'CRM'), (293, 301, 'CRM'), (404, 412, 'CRM'), (518, 526, 'CRM'), (816, 824, 'CRM')]]\n",
      "[[(26, 34, 'APPOINTMENT BOOKING'), (95, 103, 'APPOINTMENT BOOKING'), (748, 756, 'APPOINTMENT BOOKING')]]\n",
      "[[(26, 34, 'APPOINTMENT BOOKING'), (85, 93, 'APPOINTMENT BOOKING'), (169, 177, 'APPOINTMENT BOOKING'), (289, 297, 'APPOINTMENT BOOKING'), (431, 439, 'APPOINTMENT BOOKING'), (519, 527, 'APPOINTMENT BOOKING'), (628, 636, 'APPOINTMENT BOOKING'), (738, 746, 'APPOINTMENT BOOKING')]]\n",
      "[[(26, 34, 'APPOINTMENT BOOKING'), (118, 126, 'APPOINTMENT BOOKING'), (199, 207, 'APPOINTMENT BOOKING'), (263, 271, 'APPOINTMENT BOOKING'), (689, 697, 'APPOINTMENT BOOKING'), (821, 829, 'APPOINTMENT BOOKING')]]\n",
      "[[(26, 34, 'APPOINTMENT BOOKING'), (85, 93, 'APPOINTMENT BOOKING'), (195, 203, 'APPOINTMENT BOOKING'), (409, 417, 'APPOINTMENT BOOKING'), (584, 592, 'APPOINTMENT BOOKING')]]\n",
      "[[(26, 34, 'APPOINTMENT BOOKING'), (76, 84, 'APPOINTMENT BOOKING'), (201, 209, 'APPOINTMENT BOOKING'), (393, 401, 'APPOINTMENT BOOKING'), (465, 473, 'APPOINTMENT BOOKING'), (589, 597, 'APPOINTMENT BOOKING'), (652, 660, 'APPOINTMENT BOOKING')]]\n",
      "[[(26, 34, 'APPOINTMENT BOOKING'), (86, 94, 'APPOINTMENT BOOKING'), (171, 179, 'APPOINTMENT BOOKING'), (317, 325, 'APPOINTMENT BOOKING'), (569, 577, 'APPOINTMENT BOOKING'), (655, 663, 'APPOINTMENT BOOKING'), (787, 795, 'APPOINTMENT BOOKING'), (894, 902, 'APPOINTMENT BOOKING')]]\n",
      "[[(26, 34, 'APPOINTMENT BOOKING'), (98, 106, 'APPOINTMENT BOOKING'), (456, 464, 'APPOINTMENT BOOKING'), (588, 596, 'APPOINTMENT BOOKING'), (788, 796, 'APPOINTMENT BOOKING')]]\n",
      "[[(26, 34, 'APPOINTMENT BOOKING'), (90, 98, 'APPOINTMENT BOOKING'), (262, 270, 'APPOINTMENT BOOKING'), (403, 411, 'APPOINTMENT BOOKING'), (713, 721, 'APPOINTMENT BOOKING'), (836, 844, 'APPOINTMENT BOOKING'), (909, 917, 'APPOINTMENT BOOKING')]]\n",
      "[[(24, 41, 'APPOINTMENT BOOKING'), (95, 112, 'APPOINTMENT BOOKING'), (132, 149, 'APPOINTMENT BOOKING'), (372, 389, 'APPOINTMENT BOOKING'), (549, 566, 'APPOINTMENT BOOKING'), (689, 706, 'APPOINTMENT BOOKING'), (755, 772, 'APPOINTMENT BOOKING')]]\n",
      "[[(26, 33, 'APPOINTMENT BOOKING'), (67, 74, 'APPOINTMENT BOOKING'), (173, 180, 'APPOINTMENT BOOKING'), (434, 441, 'APPOINTMENT BOOKING'), (579, 586, 'APPOINTMENT BOOKING'), (648, 655, 'APPOINTMENT BOOKING')]]\n",
      "[[(24, 31, 'APPOINTMENT BOOKING'), (104, 111, 'APPOINTMENT BOOKING'), (336, 343, 'APPOINTMENT BOOKING'), (777, 784, 'APPOINTMENT BOOKING')]]\n",
      "[[(24, 31, 'APPOINTMENT BOOKING'), (80, 87, 'APPOINTMENT BOOKING'), (255, 262, 'APPOINTMENT BOOKING'), (523, 530, 'APPOINTMENT BOOKING'), (693, 700, 'APPOINTMENT BOOKING'), (965, 972, 'APPOINTMENT BOOKING')]]\n",
      "[[(26, 33, 'APPOINTMENT BOOKING'), (119, 126, 'APPOINTMENT BOOKING'), (246, 253, 'APPOINTMENT BOOKING'), (378, 385, 'APPOINTMENT BOOKING'), (667, 674, 'APPOINTMENT BOOKING'), (824, 831, 'APPOINTMENT BOOKING'), (968, 975, 'APPOINTMENT BOOKING')]]\n",
      "[[(31, 38, 'APPOINTMENT BOOKING'), (108, 115, 'APPOINTMENT BOOKING'), (255, 262, 'APPOINTMENT BOOKING'), (432, 439, 'APPOINTMENT BOOKING'), (586, 593, 'APPOINTMENT BOOKING'), (830, 837, 'APPOINTMENT BOOKING')]]\n",
      "[]\n",
      "[]\n",
      "[]\n",
      "[]\n",
      "[]\n",
      "[]\n",
      "[]\n",
      "[]\n",
      "[]\n",
      "[]\n",
      "[]\n",
      "[]\n",
      "[]\n",
      "[[(26, 32, 'APPOINTMENT BOOKING'), (75, 81, 'APPOINTMENT BOOKING'), (222, 228, 'APPOINTMENT BOOKING'), (472, 478, 'APPOINTMENT BOOKING'), (653, 659, 'APPOINTMENT BOOKING'), (792, 798, 'APPOINTMENT BOOKING'), (873, 879, 'APPOINTMENT BOOKING')]]\n",
      "[[(26, 32, 'APPOINTMENT BOOKING'), (84, 90, 'APPOINTMENT BOOKING'), (172, 178, 'APPOINTMENT BOOKING'), (247, 253, 'APPOINTMENT BOOKING'), (472, 478, 'APPOINTMENT BOOKING'), (669, 675, 'APPOINTMENT BOOKING'), (703, 709, 'APPOINTMENT BOOKING'), (836, 842, 'APPOINTMENT BOOKING')]]\n",
      "[[(24, 30, 'APPOINTMENT BOOKING'), (91, 97, 'APPOINTMENT BOOKING'), (225, 231, 'APPOINTMENT BOOKING'), (380, 386, 'APPOINTMENT BOOKING'), (472, 478, 'APPOINTMENT BOOKING')]]\n",
      "[[(26, 32, 'APPOINTMENT BOOKING'), (85, 91, 'APPOINTMENT BOOKING'), (170, 176, 'APPOINTMENT BOOKING'), (571, 577, 'APPOINTMENT BOOKING'), (730, 736, 'APPOINTMENT BOOKING')]]\n",
      "[[(42, 48, 'APPOINTMENT BOOKING'), (82, 88, 'APPOINTMENT BOOKING'), (186, 192, 'APPOINTMENT BOOKING'), (242, 248, 'APPOINTMENT BOOKING'), (447, 453, 'APPOINTMENT BOOKING'), (523, 529, 'APPOINTMENT BOOKING')]]\n",
      "[[(24, 30, 'APPOINTMENT BOOKING'), (83, 89, 'APPOINTMENT BOOKING'), (117, 123, 'APPOINTMENT BOOKING'), (277, 283, 'APPOINTMENT BOOKING'), (525, 531, 'APPOINTMENT BOOKING'), (701, 707, 'APPOINTMENT BOOKING'), (734, 740, 'APPOINTMENT BOOKING'), (863, 869, 'APPOINTMENT BOOKING'), (946, 952, 'APPOINTMENT BOOKING')]]\n",
      "[[(26, 45, 'APPOINTMENT BOOKING'), (96, 115, 'APPOINTMENT BOOKING'), (234, 253, 'APPOINTMENT BOOKING'), (733, 752, 'APPOINTMENT BOOKING'), (874, 893, 'APPOINTMENT BOOKING')]]\n",
      "[[(26, 45, 'APPOINTMENT BOOKING'), (96, 115, 'APPOINTMENT BOOKING'), (457, 476, 'APPOINTMENT BOOKING'), (668, 687, 'APPOINTMENT BOOKING'), (787, 806, 'APPOINTMENT BOOKING')]]\n",
      "[[(26, 45, 'APPOINTMENT BOOKING'), (90, 109, 'APPOINTMENT BOOKING'), (167, 186, 'APPOINTMENT BOOKING'), (286, 305, 'APPOINTMENT BOOKING'), (501, 520, 'APPOINTMENT BOOKING'), (623, 642, 'APPOINTMENT BOOKING')]]\n",
      "[[(26, 45, 'APPOINTMENT BOOKING'), (94, 113, 'APPOINTMENT BOOKING'), (213, 232, 'APPOINTMENT BOOKING'), (526, 545, 'APPOINTMENT BOOKING')]]\n",
      "[[(26, 45, 'APPOINTMENT BOOKING'), (97, 116, 'APPOINTMENT BOOKING'), (179, 198, 'APPOINTMENT BOOKING'), (219, 238, 'APPOINTMENT BOOKING'), (680, 699, 'APPOINTMENT BOOKING')]]\n",
      "[[(52, 71, 'APPOINTMENT BOOKING'), (119, 138, 'APPOINTMENT BOOKING'), (312, 331, 'APPOINTMENT BOOKING'), (567, 586, 'APPOINTMENT BOOKING'), (745, 764, 'APPOINTMENT BOOKING')]]\n",
      "[[(24, 43, 'APPOINTMENT BOOKING'), (97, 116, 'APPOINTMENT BOOKING'), (136, 155, 'APPOINTMENT BOOKING'), (377, 396, 'APPOINTMENT BOOKING'), (501, 520, 'APPOINTMENT BOOKING')]]\n",
      "[[(26, 45, 'APPOINTMENT BOOKING'), (106, 125, 'APPOINTMENT BOOKING'), (306, 325, 'APPOINTMENT BOOKING'), (513, 532, 'APPOINTMENT BOOKING')]]\n",
      "[[(24, 32, 'APPOINTMENT BOOKING'), (95, 103, 'APPOINTMENT BOOKING'), (494, 502, 'APPOINTMENT BOOKING')]]\n",
      "[[(70, 78, 'APPOINTMENT BOOKING'), (112, 120, 'APPOINTMENT BOOKING'), (252, 260, 'APPOINTMENT BOOKING'), (501, 509, 'APPOINTMENT BOOKING'), (753, 761, 'APPOINTMENT BOOKING')]]\n",
      "[[(24, 32, 'APPOINTMENT BOOKING'), (87, 95, 'APPOINTMENT BOOKING'), (127, 135, 'APPOINTMENT BOOKING'), (293, 301, 'APPOINTMENT BOOKING'), (512, 520, 'APPOINTMENT BOOKING'), (745, 753, 'APPOINTMENT BOOKING'), (903, 911, 'APPOINTMENT BOOKING'), (959, 967, 'APPOINTMENT BOOKING')]]\n",
      "[[(24, 32, 'APPOINTMENT BOOKING'), (88, 96, 'APPOINTMENT BOOKING'), (218, 226, 'APPOINTMENT BOOKING'), (246, 254, 'APPOINTMENT BOOKING'), (469, 477, 'APPOINTMENT BOOKING')]]\n",
      "[[(26, 34, 'APPOINTMENT BOOKING'), (130, 138, 'APPOINTMENT BOOKING'), (300, 308, 'APPOINTMENT BOOKING'), (508, 516, 'APPOINTMENT BOOKING')]]\n",
      "[[(24, 32, 'APPOINTMENT BOOKING'), (87, 95, 'APPOINTMENT BOOKING'), (126, 134, 'APPOINTMENT BOOKING'), (213, 221, 'APPOINTMENT BOOKING'), (467, 475, 'APPOINTMENT BOOKING'), (563, 571, 'APPOINTMENT BOOKING'), (687, 695, 'APPOINTMENT BOOKING'), (807, 815, 'APPOINTMENT BOOKING')]]\n",
      "[[(70, 78, 'APPOINTMENT BOOKING'), (129, 137, 'APPOINTMENT BOOKING'), (262, 270, 'APPOINTMENT BOOKING'), (591, 599, 'APPOINTMENT BOOKING'), (807, 815, 'APPOINTMENT BOOKING')]]\n",
      "[[(24, 32, 'APPOINTMENT BOOKING'), (79, 87, 'APPOINTMENT BOOKING'), (114, 122, 'APPOINTMENT BOOKING'), (211, 219, 'APPOINTMENT BOOKING'), (644, 652, 'APPOINTMENT BOOKING')]]\n",
      "[[(26, 34, 'APPOINTMENT BOOKING'), (79, 87, 'APPOINTMENT BOOKING'), (126, 134, 'APPOINTMENT BOOKING'), (386, 394, 'APPOINTMENT BOOKING')]]\n",
      "[[(37, 45, 'APPOINTMENT BOOKING'), (120, 128, 'APPOINTMENT BOOKING'), (143, 151, 'APPOINTMENT BOOKING'), (539, 547, 'APPOINTMENT BOOKING'), (871, 879, 'APPOINTMENT BOOKING')]]\n",
      "[[(26, 34, 'APPOINTMENT BOOKING'), (95, 103, 'APPOINTMENT BOOKING'), (194, 202, 'APPOINTMENT BOOKING'), (524, 532, 'APPOINTMENT BOOKING'), (725, 733, 'APPOINTMENT BOOKING'), (883, 891, 'APPOINTMENT BOOKING')]]\n",
      "[[(26, 38, 'APPOINTMENT BOOKING'), (127, 139, 'APPOINTMENT BOOKING'), (294, 306, 'APPOINTMENT BOOKING'), (322, 334, 'APPOINTMENT BOOKING'), (444, 456, 'APPOINTMENT BOOKING'), (763, 775, 'APPOINTMENT BOOKING'), (891, 903, 'APPOINTMENT BOOKING')]]\n",
      "[[(49, 61, 'APPOINTMENT BOOKING'), (93, 105, 'APPOINTMENT BOOKING'), (221, 233, 'APPOINTMENT BOOKING')]]\n",
      "[[(41, 53, 'APPOINTMENT BOOKING'), (129, 141, 'APPOINTMENT BOOKING'), (228, 240, 'APPOINTMENT BOOKING'), (600, 612, 'APPOINTMENT BOOKING'), (713, 725, 'APPOINTMENT BOOKING')]]\n",
      "[[(26, 38, 'APPOINTMENT BOOKING'), (98, 110, 'APPOINTMENT BOOKING'), (356, 368, 'APPOINTMENT BOOKING'), (725, 737, 'APPOINTMENT BOOKING')]]\n",
      "[[(26, 38, 'APPOINTMENT BOOKING'), (83, 95, 'APPOINTMENT BOOKING'), (153, 165, 'APPOINTMENT BOOKING'), (399, 411, 'APPOINTMENT BOOKING'), (595, 607, 'APPOINTMENT BOOKING'), (721, 733, 'APPOINTMENT BOOKING')]]\n",
      "[]\n",
      "[]\n",
      "[]\n",
      "[]\n",
      "[]\n",
      "[]\n",
      "[]\n",
      "[]\n",
      "[]\n",
      "[]\n",
      "[]\n",
      "[[(24, 30, 'APPOINTMENT BOOKING'), (85, 91, 'APPOINTMENT BOOKING'), (278, 284, 'APPOINTMENT BOOKING'), (492, 498, 'APPOINTMENT BOOKING'), (671, 677, 'APPOINTMENT BOOKING'), (831, 837, 'APPOINTMENT BOOKING'), (889, 895, 'APPOINTMENT BOOKING')]]\n",
      "[[(14, 20, 'APPOINTMENT BOOKING'), (88, 94, 'APPOINTMENT BOOKING'), (139, 145, 'APPOINTMENT BOOKING'), (446, 452, 'APPOINTMENT BOOKING'), (774, 780, 'APPOINTMENT BOOKING')]]\n",
      "[[(26, 32, 'APPOINTMENT BOOKING'), (91, 97, 'APPOINTMENT BOOKING'), (539, 545, 'APPOINTMENT BOOKING'), (587, 593, 'APPOINTMENT BOOKING'), (711, 717, 'APPOINTMENT BOOKING')]]\n",
      "[[(26, 32, 'APPOINTMENT BOOKING'), (79, 85, 'APPOINTMENT BOOKING'), (200, 206, 'APPOINTMENT BOOKING'), (556, 562, 'APPOINTMENT BOOKING'), (738, 744, 'APPOINTMENT BOOKING')]]\n",
      "[[(26, 32, 'APPOINTMENT BOOKING'), (84, 90, 'APPOINTMENT BOOKING'), (348, 354, 'APPOINTMENT BOOKING'), (516, 522, 'APPOINTMENT BOOKING')]]\n",
      "[[(26, 32, 'APPOINTMENT BOOKING'), (86, 92, 'APPOINTMENT BOOKING'), (222, 228, 'APPOINTMENT BOOKING'), (546, 552, 'APPOINTMENT BOOKING'), (750, 756, 'APPOINTMENT BOOKING')]]\n",
      "[[(26, 32, 'APPOINTMENT BOOKING'), (85, 91, 'APPOINTMENT BOOKING'), (128, 134, 'APPOINTMENT BOOKING'), (189, 195, 'APPOINTMENT BOOKING'), (285, 291, 'APPOINTMENT BOOKING'), (485, 491, 'APPOINTMENT BOOKING')]]\n",
      "[[(26, 32, 'APPOINTMENT BOOKING'), (88, 94, 'APPOINTMENT BOOKING'), (529, 535, 'APPOINTMENT BOOKING')]]\n",
      "[[(43, 49, 'APPOINTMENT BOOKING'), (125, 131, 'APPOINTMENT BOOKING'), (204, 210, 'APPOINTMENT BOOKING'), (363, 369, 'APPOINTMENT BOOKING'), (490, 496, 'APPOINTMENT BOOKING')]]\n",
      "[[(24, 30, 'APPOINTMENT BOOKING'), (84, 90, 'APPOINTMENT BOOKING'), (209, 215, 'APPOINTMENT BOOKING'), (669, 675, 'APPOINTMENT BOOKING')]]\n",
      "[[(26, 32, 'APPOINTMENT BOOKING'), (92, 98, 'APPOINTMENT BOOKING'), (215, 221, 'APPOINTMENT BOOKING'), (457, 463, 'APPOINTMENT BOOKING'), (690, 696, 'APPOINTMENT BOOKING')]]\n",
      "[[(24, 30, 'APPOINTMENT BOOKING'), (185, 191, 'APPOINTMENT BOOKING'), (250, 256, 'APPOINTMENT BOOKING'), (649, 655, 'APPOINTMENT BOOKING'), (798, 804, 'APPOINTMENT BOOKING')]]\n",
      "[[(26, 32, 'APPOINTMENT BOOKING'), (102, 108, 'APPOINTMENT BOOKING'), (237, 243, 'APPOINTMENT BOOKING')]]\n",
      "[[(33, 39, 'APPOINTMENT BOOKING'), (155, 161, 'APPOINTMENT BOOKING'), (280, 286, 'APPOINTMENT BOOKING'), (646, 652, 'APPOINTMENT BOOKING'), (868, 874, 'APPOINTMENT BOOKING')]]\n",
      "[[(26, 46, 'OTHER'), (111, 131, 'OTHER'), (505, 525, 'OTHER'), (738, 758, 'OTHER'), (911, 931, 'OTHER'), (1075, 1095, 'OTHER')]]\n",
      "[[(26, 46, 'OTHER'), (117, 137, 'OTHER'), (278, 298, 'OTHER'), (603, 623, 'OTHER')]]\n",
      "[[(24, 44, 'OTHER'), (173, 193, 'OTHER'), (316, 336, 'OTHER')]]\n",
      "[[(26, 46, 'OTHER'), (93, 113, 'OTHER'), (133, 153, 'OTHER'), (244, 264, 'OTHER'), (398, 418, 'OTHER'), (520, 540, 'OTHER')]]\n",
      "[[(24, 44, 'OTHER'), (95, 115, 'OTHER'), (227, 247, 'OTHER'), (550, 570, 'OTHER'), (762, 782, 'OTHER'), (937, 957, 'OTHER')]]\n",
      "[[(33, 53, 'OTHER'), (101, 121, 'OTHER'), (298, 318, 'OTHER'), (425, 445, 'OTHER'), (541, 561, 'OTHER')]]\n",
      "[[(40, 60, 'OTHER'), (115, 135, 'OTHER'), (507, 527, 'OTHER'), (666, 686, 'OTHER')]]\n",
      "[[(42, 62, 'OTHER'), (139, 159, 'OTHER'), (806, 826, 'OTHER')]]\n",
      "[[(26, 31, 'OTHER'), (80, 85, 'OTHER'), (185, 190, 'OTHER'), (734, 739, 'OTHER'), (871, 876, 'OTHER'), (935, 940, 'OTHER')]]\n",
      "[[(26, 31, 'OTHER'), (97, 102, 'OTHER'), (186, 191, 'OTHER'), (320, 325, 'OTHER'), (509, 514, 'OTHER'), (711, 716, 'OTHER')]]\n",
      "[[(28, 33, 'OTHER'), (110, 115, 'OTHER'), (236, 241, 'OTHER'), (400, 405, 'OTHER'), (581, 586, 'OTHER')]]\n",
      "[[(26, 31, 'OTHER'), (94, 99, 'OTHER'), (179, 184, 'OTHER'), (265, 270, 'OTHER'), (414, 419, 'OTHER'), (553, 558, 'OTHER'), (668, 673, 'OTHER'), (731, 736, 'OTHER'), (831, 836, 'OTHER')]]\n",
      "[[(26, 31, 'OTHER'), (89, 94, 'OTHER'), (207, 212, 'OTHER'), (597, 602, 'OTHER'), (800, 805, 'OTHER')]]\n",
      "[[(26, 31, 'OTHER'), (80, 85, 'OTHER'), (463, 468, 'OTHER'), (722, 727, 'OTHER'), (754, 759, 'OTHER')]]\n",
      "[[(56, 61, 'OTHER'), (107, 112, 'OTHER'), (227, 232, 'OTHER'), (576, 581, 'OTHER')]]\n",
      "[[(26, 31, 'OTHER'), (88, 93, 'OTHER'), (258, 263, 'OTHER'), (430, 435, 'OTHER'), (558, 563, 'OTHER'), (650, 655, 'OTHER'), (784, 789, 'OTHER')]]\n",
      "[[(26, 31, 'OTHER'), (108, 113, 'OTHER'), (215, 220, 'OTHER'), (262, 267, 'OTHER'), (722, 727, 'OTHER')]]\n",
      "[[(42, 47, 'OTHER'), (129, 134, 'OTHER'), (182, 187, 'OTHER'), (302, 307, 'OTHER'), (518, 523, 'OTHER'), (602, 607, 'OTHER'), (763, 768, 'OTHER'), (893, 898, 'OTHER')]]\n",
      "[[(26, 30, 'OTHER'), (73, 77, 'OTHER'), (457, 461, 'OTHER'), (601, 605, 'OTHER'), (653, 657, 'OTHER'), (957, 961, 'OTHER')]]\n",
      "[[(26, 30, 'OTHER'), (79, 83, 'OTHER'), (235, 239, 'OTHER'), (639, 643, 'OTHER'), (660, 664, 'OTHER'), (938, 942, 'OTHER')]]\n",
      "[[(35, 39, 'OTHER'), (109, 113, 'OTHER'), (587, 591, 'OTHER')]]\n",
      "[[(49, 53, 'OTHER'), (85, 89, 'OTHER'), (146, 150, 'OTHER'), (229, 233, 'OTHER'), (661, 665, 'OTHER')]]\n",
      "[[(45, 49, 'OTHER'), (112, 116, 'OTHER'), (168, 172, 'OTHER'), (306, 310, 'OTHER'), (412, 416, 'OTHER')]]\n",
      "[[(26, 32, 'OTHER'), (130, 136, 'OTHER'), (309, 315, 'OTHER'), (518, 524, 'OTHER')]]\n",
      "[[(26, 32, 'OTHER'), (82, 88, 'OTHER'), (163, 169, 'OTHER'), (328, 334, 'OTHER'), (544, 550, 'OTHER'), (725, 731, 'OTHER'), (884, 890, 'OTHER')]]\n",
      "[[(26, 32, 'OTHER'), (82, 88, 'OTHER'), (89, 95, 'OTHER'), (201, 207, 'OTHER'), (414, 420, 'OTHER'), (563, 569, 'OTHER'), (664, 670, 'OTHER'), (808, 814, 'OTHER')]]\n",
      "[[(42, 48, 'OTHER'), (129, 135, 'OTHER'), (233, 239, 'OTHER'), (540, 546, 'OTHER')]]\n",
      "[[(24, 30, 'OTHER'), (119, 125, 'OTHER'), (363, 369, 'OTHER'), (471, 477, 'OTHER')]]\n",
      "[[(24, 30, 'OTHER'), (81, 87, 'OTHER'), (344, 350, 'OTHER'), (433, 439, 'OTHER'), (592, 598, 'OTHER'), (844, 850, 'OTHER')]]\n",
      "[[(26, 32, 'OTHER'), (91, 97, 'OTHER'), (303, 309, 'OTHER'), (421, 427, 'OTHER'), (517, 523, 'OTHER')]]\n",
      "[[(26, 36, 'OTHER'), (81, 91, 'OTHER'), (365, 375, 'OTHER'), (417, 427, 'OTHER'), (790, 800, 'OTHER'), (884, 894, 'OTHER')]]\n",
      "[[(26, 36, 'OTHER'), (77, 87, 'OTHER'), (356, 366, 'OTHER'), (744, 754, 'OTHER'), (891, 901, 'OTHER')]]\n",
      "[[(42, 52, 'OTHER'), (121, 131, 'OTHER'), (215, 225, 'OTHER'), (292, 302, 'OTHER'), (372, 382, 'OTHER'), (522, 532, 'OTHER'), (924, 934, 'OTHER')]]\n",
      "[[(24, 34, 'OTHER'), (140, 150, 'OTHER'), (183, 193, 'OTHER'), (594, 604, 'OTHER')]]\n",
      "[[(26, 36, 'OTHER'), (87, 97, 'OTHER'), (157, 167, 'OTHER'), (314, 324, 'OTHER'), (632, 642, 'OTHER')]]\n",
      "[[(26, 33, 'OTHER'), (65, 72, 'OTHER'), (445, 452, 'OTHER'), (565, 572, 'OTHER')]]\n",
      "[[(26, 33, 'OTHER'), (76, 83, 'OTHER'), (200, 207, 'OTHER'), (415, 422, 'OTHER'), (683, 690, 'OTHER'), (821, 828, 'OTHER'), (941, 948, 'OTHER')]]\n",
      "[[(26, 33, 'OTHER'), (112, 119, 'OTHER'), (483, 490, 'OTHER')]]\n",
      "[[(26, 33, 'OTHER'), (80, 87, 'OTHER'), (569, 576, 'OTHER'), (703, 710, 'OTHER')]]\n",
      "[[(26, 33, 'OTHER'), (85, 92, 'OTHER'), (303, 310, 'OTHER'), (538, 545, 'OTHER')]]\n",
      "[[(26, 40, 'OTHER'), (91, 105, 'OTHER'), (237, 251, 'OTHER'), (463, 477, 'OTHER'), (616, 630, 'OTHER'), (836, 850, 'OTHER')]]\n",
      "[[(26, 40, 'OTHER'), (91, 105, 'OTHER'), (210, 224, 'OTHER'), (490, 504, 'OTHER'), (723, 737, 'OTHER'), (914, 928, 'OTHER')]]\n",
      "[[(26, 40, 'OTHER'), (108, 122, 'OTHER'), (345, 359, 'OTHER'), (473, 487, 'OTHER'), (862, 876, 'OTHER'), (957, 971, 'OTHER')]]\n",
      "[[(24, 38, 'OTHER'), (98, 112, 'OTHER'), (230, 244, 'OTHER'), (399, 413, 'OTHER'), (591, 605, 'OTHER'), (699, 713, 'OTHER'), (824, 838, 'OTHER')]]\n",
      "[[(26, 40, 'OTHER'), (86, 100, 'OTHER'), (574, 588, 'OTHER'), (693, 707, 'OTHER'), (843, 857, 'OTHER')]]\n",
      "[[(26, 40, 'OTHER'), (95, 109, 'OTHER'), (228, 242, 'OTHER'), (510, 524, 'OTHER'), (691, 705, 'OTHER')]]\n",
      "[[(26, 42, 'OTHER'), (103, 119, 'OTHER')]]\n",
      "[[(26, 42, 'OTHER'), (101, 117, 'OTHER'), (481, 497, 'OTHER'), (645, 661, 'OTHER'), (983, 999, 'OTHER')]]\n",
      "[[(24, 40, 'OTHER'), (114, 130, 'OTHER'), (250, 266, 'OTHER'), (440, 456, 'OTHER'), (572, 588, 'OTHER'), (791, 807, 'OTHER')]]\n",
      "[[(34, 50, 'OTHER'), (121, 137, 'OTHER'), (495, 511, 'OTHER')]]\n",
      "[[(24, 40, 'OTHER'), (84, 100, 'OTHER'), (389, 405, 'OTHER'), (718, 734, 'OTHER')]]\n",
      "[[(26, 33, 'OTHER'), (84, 91, 'OTHER'), (210, 217, 'OTHER'), (500, 507, 'OTHER'), (730, 737, 'OTHER')]]\n",
      "[[(26, 33, 'OTHER'), (90, 97, 'OTHER'), (314, 321, 'OTHER'), (489, 496, 'OTHER'), (600, 607, 'OTHER'), (906, 913, 'OTHER')]]\n",
      "[[(26, 33, 'OTHER'), (110, 117, 'OTHER'), (222, 229, 'OTHER'), (425, 432, 'OTHER'), (623, 630, 'OTHER'), (687, 694, 'OTHER'), (804, 811, 'OTHER'), (899, 906, 'OTHER'), (1105, 1112, 'OTHER')]]\n",
      "[[(24, 31, 'OTHER'), (88, 95, 'OTHER'), (191, 198, 'OTHER'), (589, 596, 'OTHER'), (682, 689, 'OTHER')]]\n",
      "[[(26, 33, 'OTHER'), (96, 103, 'OTHER'), (271, 278, 'OTHER'), (472, 479, 'OTHER'), (705, 712, 'OTHER'), (869, 876, 'OTHER')]]\n",
      "[[(26, 33, 'OTHER'), (116, 123, 'OTHER'), (233, 240, 'OTHER'), (296, 303, 'OTHER'), (384, 391, 'OTHER'), (661, 668, 'OTHER')]]\n",
      "[[(26, 33, 'OTHER'), (76, 83, 'OTHER'), (195, 202, 'OTHER'), (437, 444, 'OTHER'), (660, 667, 'OTHER'), (864, 871, 'OTHER')]]\n",
      "[[(24, 32, 'OTHER'), (79, 87, 'OTHER'), (185, 193, 'OTHER'), (327, 335, 'OTHER'), (528, 536, 'OTHER'), (594, 602, 'OTHER'), (673, 681, 'OTHER'), (735, 743, 'OTHER')]]\n",
      "[[(26, 34, 'OTHER'), (93, 101, 'OTHER'), (325, 333, 'OTHER'), (475, 483, 'OTHER'), (687, 695, 'OTHER'), (786, 794, 'OTHER'), (860, 868, 'OTHER')]]\n",
      "[[(26, 34, 'OTHER'), (94, 102, 'OTHER'), (417, 425, 'OTHER'), (668, 676, 'OTHER'), (773, 781, 'OTHER')]]\n",
      "[[(24, 32, 'OTHER'), (73, 81, 'OTHER'), (285, 293, 'OTHER'), (560, 568, 'OTHER')]]\n",
      "[[(26, 34, 'OTHER'), (95, 103, 'OTHER'), (396, 404, 'OTHER'), (542, 550, 'OTHER')]]\n",
      "[[(24, 32, 'OTHER'), (89, 97, 'OTHER'), (124, 132, 'OTHER'), (213, 221, 'OTHER'), (439, 447, 'OTHER')]]\n",
      "[[(26, 34, 'OTHER'), (69, 77, 'OTHER'), (250, 258, 'OTHER'), (393, 401, 'OTHER'), (516, 524, 'OTHER'), (606, 614, 'OTHER'), (751, 759, 'OTHER'), (791, 799, 'OTHER'), (884, 892, 'OTHER')]]\n",
      "[[(26, 34, 'OTHER'), (75, 83, 'OTHER'), (118, 126, 'OTHER'), (197, 205, 'OTHER'), (315, 323, 'OTHER'), (382, 390, 'OTHER'), (470, 478, 'OTHER'), (696, 704, 'OTHER'), (961, 969, 'OTHER')]]\n",
      "[[(26, 34, 'OTHER'), (94, 102, 'OTHER'), (168, 176, 'OTHER'), (261, 269, 'OTHER'), (374, 382, 'OTHER'), (509, 517, 'OTHER'), (597, 605, 'OTHER'), (739, 747, 'OTHER')]]\n",
      "[[(26, 34, 'OTHER'), (90, 98, 'OTHER'), (226, 234, 'OTHER'), (483, 491, 'OTHER'), (683, 691, 'OTHER'), (840, 848, 'OTHER')]]\n",
      "[[(24, 32, 'OTHER'), (85, 93, 'OTHER'), (242, 250, 'OTHER'), (460, 468, 'OTHER'), (584, 592, 'OTHER')]]\n",
      "[[(24, 32, 'OTHER'), (89, 97, 'OTHER'), (149, 157, 'OTHER'), (245, 253, 'OTHER'), (412, 420, 'OTHER'), (781, 789, 'OTHER'), (868, 876, 'OTHER')]]\n",
      "[[(26, 34, 'OTHER'), (70, 78, 'OTHER'), (207, 215, 'OTHER'), (529, 537, 'OTHER'), (629, 637, 'OTHER')]]\n",
      "[[(39, 45, 'CRM'), (131, 137, 'CRM'), (263, 269, 'CRM'), (1419, 1425, 'CRM'), (1611, 1617, 'CRM')]]\n",
      "[[(55, 65, 'CRM'), (71, 81, 'CRM'), (162, 172, 'CRM'), (371, 381, 'CRM'), (767, 777, 'CRM'), (983, 993, 'CRM'), (1190, 1200, 'CRM'), (1438, 1448, 'CRM')]]\n",
      "[[(46, 54, 'CRM'), (60, 68, 'CRM'), (150, 158, 'CRM'), (338, 346, 'CRM'), (600, 608, 'CRM'), (893, 901, 'CRM'), (1113, 1121, 'CRM'), (1345, 1353, 'CRM'), (1629, 1637, 'CRM')]]\n",
      "[[(46, 58, 'ERP'), (141, 153, 'ERP'), (711, 723, 'ERP'), (1021, 1033, 'ERP'), (1456, 1468, 'ERP'), (1695, 1707, 'ERP')], [(1357, 1363, 'APPOINTMENT BOOKING')]]\n",
      "[[(34, 38, 'OTHER'), (44, 48, 'OTHER'), (117, 121, 'OTHER'), (137, 141, 'OTHER'), (774, 778, 'OTHER'), (1145, 1149, 'OTHER'), (1422, 1426, 'OTHER'), (1526, 1530, 'OTHER'), (1658, 1662, 'OTHER'), (1888, 1892, 'OTHER')]]\n",
      "[[(31, 47, 'ERP'), (53, 69, 'ERP'), (143, 159, 'ERP'), (412, 428, 'ERP'), (756, 772, 'ERP'), (1035, 1051, 'ERP'), (1536, 1552, 'ERP'), (1803, 1819, 'ERP')]]\n",
      "[[(56, 64, 'OTHER'), (70, 78, 'OTHER'), (160, 168, 'OTHER'), (568, 576, 'OTHER'), (757, 765, 'OTHER'), (1144, 1152, 'OTHER'), (1231, 1239, 'OTHER'), (1323, 1331, 'OTHER')]]\n",
      "[[(31, 59, 'ERP'), (146, 174, 'ERP'), (950, 978, 'ERP'), (1429, 1457, 'ERP')]]\n",
      "[[(762, 767, 'OTHER')], [(52, 58, 'OTHER'), (64, 70, 'OTHER'), (148, 154, 'OTHER'), (901, 907, 'OTHER'), (1386, 1392, 'OTHER'), (1464, 1470, 'OTHER')], [(754, 761, 'OTHER')]]\n",
      "[[(48, 55, 'OTHER'), (61, 68, 'OTHER'), (144, 151, 'OTHER'), (384, 391, 'OTHER'), (518, 525, 'OTHER'), (694, 701, 'OTHER'), (931, 938, 'OTHER'), (1352, 1359, 'OTHER'), (1553, 1560, 'OTHER')]]\n",
      "[[(38, 60, 'ERP'), (70, 92, 'ERP'), (172, 194, 'ERP'), (1421, 1443, 'ERP')], [(38, 64, 'CRM'), (70, 96, 'CRM'), (172, 198, 'CRM'), (1421, 1447, 'CRM')]]\n",
      "[[(49, 57, 'OTHER'), (63, 71, 'OTHER'), (161, 169, 'OTHER'), (821, 829, 'OTHER'), (1194, 1202, 'OTHER')]]\n",
      "[[(53, 65, 'APPOINTMENT BOOKING'), (71, 83, 'APPOINTMENT BOOKING'), (137, 149, 'APPOINTMENT BOOKING'), (844, 856, 'APPOINTMENT BOOKING'), (1567, 1579, 'APPOINTMENT BOOKING')]]\n",
      "[[(39, 47, 'CRM'), (53, 61, 'CRM'), (151, 159, 'CRM'), (474, 482, 'CRM'), (705, 713, 'CRM'), (1341, 1349, 'CRM'), (1422, 1430, 'CRM'), (1655, 1663, 'CRM')]]\n",
      "[[(31, 47, 'ERP'), (53, 69, 'ERP'), (143, 159, 'ERP'), (412, 428, 'ERP'), (755, 771, 'ERP'), (1246, 1262, 'ERP'), (1366, 1382, 'ERP'), (1525, 1541, 'ERP')], [(1175, 1181, 'APPOINTMENT BOOKING')]]\n",
      "[[(40, 59, 'APPOINTMENT BOOKING'), (65, 84, 'APPOINTMENT BOOKING'), (158, 177, 'APPOINTMENT BOOKING'), (546, 565, 'APPOINTMENT BOOKING'), (962, 981, 'APPOINTMENT BOOKING'), (1511, 1530, 'APPOINTMENT BOOKING')], [(840, 846, 'APPOINTMENT BOOKING')]]\n",
      "[[(46, 50, 'OTHER'), (56, 60, 'OTHER'), (126, 130, 'OTHER'), (146, 150, 'OTHER'), (792, 796, 'OTHER'), (1067, 1071, 'OTHER'), (1383, 1387, 'OTHER')]]\n",
      "[[(52, 60, 'APPOINTMENT BOOKING'), (66, 74, 'APPOINTMENT BOOKING'), (143, 151, 'APPOINTMENT BOOKING'), (723, 731, 'APPOINTMENT BOOKING'), (897, 905, 'APPOINTMENT BOOKING'), (1360, 1368, 'APPOINTMENT BOOKING'), (1490, 1498, 'APPOINTMENT BOOKING')]]\n",
      "[[(48, 64, 'ERP'), (126, 142, 'ERP'), (1292, 1308, 'ERP')]]\n",
      "[[(38, 48, 'ERP'), (130, 140, 'ERP'), (760, 770, 'ERP'), (1220, 1230, 'ERP'), (1356, 1366, 'ERP')]]\n",
      "[[(39, 47, 'CRM'), (53, 61, 'CRM'), (139, 147, 'CRM'), (551, 559, 'CRM'), (1323, 1331, 'CRM'), (1521, 1529, 'CRM')]]\n",
      "[[(42, 53, 'CRM'), (132, 143, 'CRM'), (611, 622, 'CRM'), (1064, 1075, 'CRM'), (1291, 1302, 'CRM')]]\n",
      "[[(42, 64, 'ERP'), (70, 92, 'ERP'), (177, 199, 'ERP'), (362, 384, 'ERP'), (1483, 1505, 'ERP')]]\n",
      "[[(61, 77, 'ERP'), (179, 195, 'ERP'), (395, 411, 'ERP'), (858, 874, 'ERP'), (1293, 1309, 'ERP')]]\n",
      "[[(40, 48, 'OTHER'), (54, 62, 'OTHER'), (152, 160, 'OTHER'), (758, 766, 'OTHER'), (1494, 1502, 'OTHER'), (1644, 1652, 'OTHER')]]\n",
      "[[(51, 58, 'APPOINTMENT BOOKING'), (64, 71, 'APPOINTMENT BOOKING'), (146, 153, 'APPOINTMENT BOOKING'), (169, 176, 'APPOINTMENT BOOKING'), (536, 543, 'APPOINTMENT BOOKING'), (744, 751, 'APPOINTMENT BOOKING'), (1028, 1035, 'APPOINTMENT BOOKING'), (1382, 1389, 'APPOINTMENT BOOKING'), (1507, 1514, 'APPOINTMENT BOOKING'), (1578, 1585, 'APPOINTMENT BOOKING'), (1688, 1695, 'APPOINTMENT BOOKING')], [(552, 558, 'APPOINTMENT BOOKING')]]\n",
      "[[(45, 53, 'CRM'), (59, 67, 'CRM'), (152, 160, 'CRM'), (858, 866, 'CRM'), (1184, 1192, 'CRM')]]\n",
      "[[(42, 64, 'ERP'), (74, 96, 'ERP'), (194, 216, 'ERP'), (1562, 1584, 'ERP')], [(42, 68, 'CRM'), (74, 100, 'CRM'), (194, 220, 'CRM'), (1562, 1588, 'CRM')]]\n",
      "[[(53, 64, 'CRM'), (155, 166, 'CRM'), (777, 788, 'CRM'), (1282, 1293, 'CRM'), (1440, 1451, 'CRM')]]\n",
      "[[(46, 53, 'APPOINTMENT BOOKING'), (59, 66, 'APPOINTMENT BOOKING'), (144, 151, 'APPOINTMENT BOOKING'), (167, 174, 'APPOINTMENT BOOKING'), (547, 554, 'APPOINTMENT BOOKING'), (661, 668, 'APPOINTMENT BOOKING'), (1379, 1386, 'APPOINTMENT BOOKING'), (1480, 1487, 'APPOINTMENT BOOKING'), (1576, 1583, 'APPOINTMENT BOOKING')], [(563, 569, 'APPOINTMENT BOOKING')]]\n",
      "[[(895, 901, 'APPOINTMENT BOOKING')]]\n",
      "[[(45, 52, 'ERP'), (126, 133, 'ERP'), (501, 508, 'ERP'), (775, 782, 'ERP'), (972, 979, 'ERP'), (1389, 1396, 'ERP'), (1634, 1641, 'ERP')]]\n",
      "[[(55, 61, 'CRM'), (147, 153, 'CRM'), (279, 285, 'CRM'), (852, 858, 'CRM'), (1217, 1223, 'CRM'), (1499, 1505, 'CRM')]]\n",
      "[[(45, 64, 'APPOINTMENT BOOKING'), (70, 89, 'APPOINTMENT BOOKING'), (167, 186, 'APPOINTMENT BOOKING'), (829, 848, 'APPOINTMENT BOOKING'), (1281, 1300, 'APPOINTMENT BOOKING')]]\n",
      "[[(39, 45, 'CRM'), (117, 123, 'CRM'), (262, 268, 'CRM'), (879, 885, 'CRM'), (1124, 1130, 'CRM'), (1298, 1304, 'CRM'), (1452, 1458, 'CRM')]]\n",
      "[[(45, 61, 'ERP'), (67, 83, 'ERP'), (177, 193, 'ERP'), (805, 821, 'ERP'), (1230, 1246, 'ERP'), (1318, 1334, 'ERP'), (1462, 1478, 'ERP'), (1650, 1666, 'ERP')]]\n",
      "[[(8, 14, 'APPOINTMENT BOOKING'), (113, 119, 'APPOINTMENT BOOKING'), (170, 176, 'APPOINTMENT BOOKING'), (734, 740, 'APPOINTMENT BOOKING'), (987, 993, 'APPOINTMENT BOOKING'), (1249, 1255, 'APPOINTMENT BOOKING'), (1468, 1474, 'APPOINTMENT BOOKING'), (1614, 1620, 'APPOINTMENT BOOKING')]]\n",
      "[[(34, 45, 'CRM'), (132, 143, 'CRM'), (611, 622, 'CRM'), (1064, 1075, 'CRM'), (1359, 1370, 'CRM')]]\n",
      "[[(40, 44, 'OTHER'), (50, 54, 'OTHER'), (120, 124, 'OTHER'), (140, 144, 'OTHER'), (1001, 1005, 'OTHER'), (1202, 1206, 'OTHER'), (1332, 1336, 'OTHER'), (1469, 1473, 'OTHER')]]\n",
      "[[(36, 47, 'CRM'), (126, 137, 'CRM'), (695, 706, 'CRM'), (1159, 1170, 'CRM'), (1382, 1393, 'CRM')]]\n",
      "[[(49, 63, 'OTHER'), (69, 83, 'OTHER'), (157, 171, 'OTHER'), (686, 700, 'OTHER'), (1191, 1205, 'OTHER'), (1331, 1345, 'OTHER'), (1463, 1477, 'OTHER')]]\n",
      "[[(8, 14, 'APPOINTMENT BOOKING'), (113, 119, 'APPOINTMENT BOOKING'), (170, 176, 'APPOINTMENT BOOKING'), (311, 317, 'APPOINTMENT BOOKING'), (702, 708, 'APPOINTMENT BOOKING'), (1001, 1007, 'APPOINTMENT BOOKING'), (1208, 1214, 'APPOINTMENT BOOKING'), (1448, 1454, 'APPOINTMENT BOOKING')]]\n",
      "[[(46, 57, 'CRM'), (164, 175, 'CRM'), (777, 788, 'CRM'), (1273, 1284, 'CRM')]]\n",
      "[]\n",
      "[]\n",
      "[[(476, 481, 'OTHER'), (586, 591, 'OTHER')], [(50, 56, 'OTHER'), (62, 68, 'OTHER'), (150, 156, 'OTHER'), (622, 628, 'OTHER'), (957, 963, 'OTHER'), (1330, 1336, 'OTHER'), (1509, 1515, 'OTHER')]]\n",
      "[[(39, 47, 'CRM'), (53, 61, 'CRM'), (146, 154, 'CRM'), (728, 736, 'CRM'), (957, 965, 'CRM'), (1399, 1407, 'CRM'), (1525, 1533, 'CRM')]]\n",
      "[[(34, 54, 'OTHER'), (60, 80, 'OTHER'), (150, 170, 'OTHER'), (785, 805, 'OTHER'), (1206, 1226, 'OTHER'), (1302, 1322, 'OTHER'), (1498, 1518, 'OTHER')]]\n",
      "[[(50, 62, 'APPOINTMENT BOOKING'), (68, 80, 'APPOINTMENT BOOKING'), (170, 182, 'APPOINTMENT BOOKING'), (687, 699, 'APPOINTMENT BOOKING'), (1131, 1143, 'APPOINTMENT BOOKING')]]\n",
      "[[(53, 69, 'ERP'), (166, 182, 'ERP'), (308, 324, 'ERP'), (814, 830, 'ERP'), (1292, 1308, 'ERP')]]\n",
      "[[(39, 47, 'CRM'), (53, 61, 'CRM'), (138, 146, 'CRM'), (710, 718, 'CRM'), (961, 969, 'CRM'), (1310, 1318, 'CRM')]]\n",
      "[[(61, 69, 'APPOINTMENT BOOKING'), (75, 83, 'APPOINTMENT BOOKING'), (159, 167, 'APPOINTMENT BOOKING'), (850, 858, 'APPOINTMENT BOOKING'), (1546, 1554, 'APPOINTMENT BOOKING'), (1747, 1755, 'APPOINTMENT BOOKING')]]\n",
      "[[(46, 62, 'ERP'), (164, 180, 'ERP'), (369, 385, 'ERP'), (1035, 1051, 'ERP'), (1145, 1161, 'ERP'), (1436, 1452, 'ERP')], [(1213, 1219, 'APPOINTMENT BOOKING')]]\n",
      "[[(8, 14, 'APPOINTMENT BOOKING'), (113, 119, 'APPOINTMENT BOOKING'), (170, 176, 'APPOINTMENT BOOKING'), (788, 794, 'APPOINTMENT BOOKING'), (1050, 1056, 'APPOINTMENT BOOKING'), (1401, 1407, 'APPOINTMENT BOOKING'), (1492, 1498, 'APPOINTMENT BOOKING'), (1633, 1639, 'APPOINTMENT BOOKING')]]\n",
      "[[(38, 51, 'ERP'), (160, 173, 'ERP'), (772, 785, 'ERP'), (1318, 1331, 'ERP')]]\n",
      "[[(40, 60, 'OTHER'), (66, 86, 'OTHER'), (171, 191, 'OTHER'), (1020, 1040, 'OTHER'), (1249, 1269, 'OTHER')]]\n",
      "[[(51, 64, 'ERP'), (153, 166, 'ERP'), (658, 671, 'ERP'), (1249, 1262, 'ERP')]]\n",
      "[[(40, 47, 'ERP'), (149, 156, 'ERP'), (514, 521, 'ERP'), (776, 783, 'ERP'), (1043, 1050, 'ERP'), (1536, 1543, 'ERP')]]\n",
      "[[(31, 53, 'ERP'), (59, 81, 'ERP'), (159, 181, 'ERP'), (725, 747, 'ERP'), (1006, 1028, 'ERP'), (1230, 1252, 'ERP')]]\n",
      "[[(53, 63, 'ERP'), (169, 179, 'ERP'), (717, 727, 'ERP'), (942, 952, 'ERP'), (1293, 1303, 'ERP')]]\n",
      "[[(40, 44, 'ERP'), (50, 54, 'ERP'), (130, 134, 'ERP'), (252, 256, 'ERP'), (471, 475, 'ERP'), (680, 684, 'ERP'), (1164, 1168, 'ERP'), (1309, 1313, 'ERP'), (1471, 1475, 'ERP')]]\n",
      "[[(42, 64, 'ERP'), (70, 92, 'ERP'), (166, 188, 'ERP'), (351, 373, 'ERP'), (713, 735, 'ERP'), (1089, 1111, 'ERP'), (1514, 1536, 'ERP')]]\n",
      "[[(50, 58, 'CRM'), (64, 72, 'CRM'), (150, 158, 'CRM'), (338, 346, 'CRM'), (564, 572, 'CRM'), (1058, 1066, 'CRM'), (1221, 1229, 'CRM'), (1506, 1514, 'CRM'), (1570, 1578, 'CRM')]]\n",
      "[[(52, 62, 'ERP'), (68, 78, 'ERP'), (156, 166, 'ERP'), (965, 975, 'ERP'), (1365, 1375, 'ERP')]]\n",
      "[[(45, 55, 'CRM'), (61, 71, 'CRM'), (149, 159, 'CRM'), (358, 368, 'CRM'), (755, 765, 'CRM'), (881, 891, 'CRM'), (1249, 1259, 'CRM'), (1373, 1383, 'CRM'), (1545, 1555, 'CRM')]]\n",
      "[[(49, 61, 'ERP'), (151, 163, 'ERP'), (780, 792, 'ERP'), (1263, 1275, 'ERP'), (1354, 1366, 'ERP'), (1465, 1477, 'ERP')]]\n",
      "[[(61, 72, 'CRM'), (171, 182, 'CRM'), (872, 883, 'CRM'), (1361, 1372, 'CRM')]]\n",
      "[[(36, 48, 'APPOINTMENT BOOKING'), (54, 66, 'APPOINTMENT BOOKING'), (143, 155, 'APPOINTMENT BOOKING'), (346, 358, 'APPOINTMENT BOOKING'), (1296, 1308, 'APPOINTMENT BOOKING'), (1392, 1404, 'APPOINTMENT BOOKING')], [(710, 716, 'APPOINTMENT BOOKING')]]\n",
      "[[(53, 73, 'OTHER'), (79, 99, 'OTHER'), (176, 196, 'OTHER'), (927, 947, 'OTHER'), (1269, 1289, 'OTHER'), (1424, 1444, 'OTHER'), (1565, 1585, 'OTHER')]]\n",
      "[[(42, 50, 'CRM'), (56, 64, 'CRM'), (118, 126, 'CRM'), (502, 510, 'CRM'), (998, 1006, 'CRM'), (1284, 1292, 'CRM'), (1452, 1460, 'CRM')]]\n",
      "[[(42, 52, 'CRM'), (58, 68, 'CRM'), (162, 172, 'CRM'), (353, 363, 'CRM'), (1131, 1141, 'CRM'), (1174, 1184, 'CRM'), (1423, 1433, 'CRM'), (1554, 1564, 'CRM')]]\n",
      "[[(53, 73, 'OTHER'), (79, 99, 'OTHER'), (177, 197, 'OTHER'), (1071, 1091, 'OTHER'), (1524, 1544, 'OTHER'), (1721, 1741, 'OTHER')]]\n",
      "[[(46, 62, 'ERP'), (124, 140, 'ERP'), (1189, 1205, 'ERP'), (1410, 1426, 'ERP'), (1630, 1646, 'ERP')]]\n",
      "[[(55, 65, 'ERP'), (143, 153, 'ERP'), (749, 759, 'ERP'), (1196, 1206, 'ERP')]]\n",
      "[[(795, 800, 'OTHER')], [(38, 44, 'OTHER'), (50, 56, 'OTHER'), (134, 140, 'OTHER'), (299, 305, 'OTHER'), (518, 524, 'OTHER'), (976, 982, 'OTHER'), (1184, 1190, 'OTHER'), (1277, 1283, 'OTHER'), (1436, 1442, 'OTHER')]]\n",
      "[[(8, 14, 'APPOINTMENT BOOKING'), (113, 119, 'APPOINTMENT BOOKING'), (170, 176, 'APPOINTMENT BOOKING'), (761, 767, 'APPOINTMENT BOOKING'), (935, 941, 'APPOINTMENT BOOKING'), (1367, 1373, 'APPOINTMENT BOOKING'), (1509, 1515, 'APPOINTMENT BOOKING')]]\n",
      "[[(36, 44, 'CRM'), (50, 58, 'CRM'), (139, 147, 'CRM'), (327, 335, 'CRM'), (589, 597, 'CRM'), (1067, 1075, 'CRM'), (1494, 1502, 'CRM')], [(1102, 1107, 'OTHER')]]\n",
      "[[(40, 50, 'ERP'), (147, 157, 'ERP'), (751, 761, 'ERP'), (1417, 1427, 'ERP'), (1696, 1706, 'ERP')]]\n",
      "[[(52, 57, 'OTHER'), (130, 135, 'OTHER'), (739, 744, 'OTHER'), (937, 942, 'OTHER'), (1414, 1419, 'OTHER'), (1543, 1548, 'OTHER')]]\n",
      "[[(49, 61, 'ERP'), (135, 147, 'ERP'), (812, 824, 'ERP'), (1352, 1364, 'ERP')]]\n",
      "[[(54, 65, 'CRM'), (164, 175, 'CRM'), (805, 816, 'CRM'), (1147, 1158, 'CRM'), (1499, 1510, 'CRM'), (1679, 1690, 'CRM')]]\n",
      "[[(40, 62, 'ERP'), (68, 90, 'ERP'), (184, 206, 'ERP'), (340, 362, 'ERP'), (901, 923, 'ERP'), (1334, 1356, 'ERP'), (1530, 1552, 'ERP'), (1696, 1718, 'ERP')]]\n",
      "[[(53, 61, 'APPOINTMENT BOOKING'), (67, 75, 'APPOINTMENT BOOKING'), (144, 152, 'APPOINTMENT BOOKING'), (468, 476, 'APPOINTMENT BOOKING'), (843, 851, 'APPOINTMENT BOOKING'), (1308, 1316, 'APPOINTMENT BOOKING')], [(499, 505, 'APPOINTMENT BOOKING')]]\n",
      "[[(55, 63, 'APPOINTMENT BOOKING'), (69, 77, 'APPOINTMENT BOOKING'), (154, 162, 'APPOINTMENT BOOKING'), (850, 858, 'APPOINTMENT BOOKING'), (1409, 1417, 'APPOINTMENT BOOKING')]]\n",
      "[[(34, 45, 'CRM'), (133, 144, 'CRM'), (711, 722, 'CRM'), (1035, 1046, 'CRM'), (1472, 1483, 'CRM')]]\n",
      "[[(38, 54, 'OTHER'), (146, 162, 'OTHER'), (1707, 1723, 'OTHER')]]\n",
      "[[(56, 70, 'OTHER'), (76, 90, 'OTHER'), (184, 198, 'OTHER'), (1272, 1286, 'OTHER'), (1371, 1385, 'OTHER')]]\n",
      "[[(39, 47, 'CRM'), (53, 61, 'CRM'), (147, 155, 'CRM'), (354, 362, 'CRM'), (825, 833, 'CRM'), (1380, 1388, 'CRM'), (1484, 1492, 'CRM')]]\n",
      "[[(55, 77, 'ERP'), (87, 109, 'ERP'), (167, 189, 'ERP'), (1396, 1418, 'ERP'), (1497, 1519, 'ERP'), (1673, 1695, 'ERP')], [(55, 81, 'CRM'), (87, 113, 'CRM'), (167, 193, 'CRM'), (1396, 1422, 'CRM'), (1497, 1523, 'CRM'), (1673, 1699, 'CRM')]]\n",
      "[[(38, 58, 'OTHER'), (64, 84, 'OTHER'), (169, 189, 'OTHER'), (1243, 1263, 'OTHER'), (1339, 1359, 'OTHER'), (1448, 1468, 'OTHER')]]\n",
      "[[(39, 47, 'CRM'), (53, 61, 'CRM'), (143, 151, 'CRM'), (738, 746, 'CRM'), (1214, 1222, 'CRM'), (1459, 1467, 'CRM')], [(787, 792, 'OTHER')]]\n",
      "[[(53, 59, 'CRM'), (145, 151, 'CRM'), (277, 283, 'CRM'), (463, 469, 'CRM'), (1134, 1140, 'CRM'), (1376, 1382, 'CRM'), (1500, 1506, 'CRM')]]\n",
      "[[(48, 60, 'APPOINTMENT BOOKING'), (66, 78, 'APPOINTMENT BOOKING'), (157, 169, 'APPOINTMENT BOOKING'), (765, 777, 'APPOINTMENT BOOKING'), (1201, 1213, 'APPOINTMENT BOOKING')]]\n",
      "[[(50, 58, 'APPOINTMENT BOOKING'), (64, 72, 'APPOINTMENT BOOKING'), (142, 150, 'APPOINTMENT BOOKING'), (326, 334, 'APPOINTMENT BOOKING'), (1423, 1431, 'APPOINTMENT BOOKING'), (1564, 1572, 'APPOINTMENT BOOKING')], [(596, 602, 'APPOINTMENT BOOKING')]]\n",
      "[[(31, 59, 'ERP'), (174, 202, 'ERP'), (983, 1011, 'ERP'), (1537, 1565, 'ERP')]]\n",
      "[[(49, 57, 'APPOINTMENT BOOKING'), (63, 71, 'APPOINTMENT BOOKING'), (156, 164, 'APPOINTMENT BOOKING'), (340, 348, 'APPOINTMENT BOOKING'), (755, 763, 'APPOINTMENT BOOKING'), (1426, 1434, 'APPOINTMENT BOOKING')], [(961, 967, 'APPOINTMENT BOOKING')]]\n",
      "[[(48, 56, 'CRM'), (62, 70, 'CRM'), (139, 147, 'CRM'), (845, 853, 'CRM'), (1150, 1158, 'CRM'), (1282, 1290, 'CRM')]]\n",
      "[[(56, 63, 'OTHER'), (69, 76, 'OTHER'), (141, 148, 'OTHER'), (260, 267, 'OTHER'), (620, 627, 'OTHER'), (758, 765, 'OTHER'), (1019, 1026, 'OTHER'), (1491, 1498, 'OTHER')]]\n"
     ]
    },
    {
     "name": "stdout",
     "output_type": "stream",
     "text": [
      "[[(39, 45, 'CRM'), (131, 137, 'CRM'), (263, 269, 'CRM'), (908, 914, 'CRM'), (1158, 1164, 'CRM'), (1401, 1407, 'CRM'), (1541, 1547, 'CRM')]]\n",
      "[[(700, 705, 'OTHER')], [(46, 52, 'OTHER'), (58, 64, 'OTHER'), (141, 147, 'OTHER'), (306, 312, 'OTHER'), (525, 531, 'OTHER'), (822, 828, 'OTHER'), (969, 975, 'OTHER'), (1062, 1068, 'OTHER'), (1377, 1383, 'OTHER')]]\n",
      "[[(56, 72, 'ERP'), (145, 161, 'ERP'), (350, 366, 'ERP'), (790, 806, 'ERP'), (1215, 1231, 'ERP'), (1288, 1304, 'ERP')]]\n",
      "[[(42, 50, 'CRM'), (56, 64, 'CRM'), (139, 147, 'CRM'), (327, 335, 'CRM'), (553, 561, 'CRM'), (1168, 1176, 'CRM'), (1538, 1546, 'CRM'), (1677, 1685, 'CRM')]]\n",
      "[[(38, 57, 'APPOINTMENT BOOKING'), (63, 82, 'APPOINTMENT BOOKING'), (152, 171, 'APPOINTMENT BOOKING'), (570, 589, 'APPOINTMENT BOOKING'), (1090, 1109, 'APPOINTMENT BOOKING'), (1568, 1587, 'APPOINTMENT BOOKING'), (1679, 1698, 'APPOINTMENT BOOKING')]]\n",
      "[[(61, 68, 'APPOINTMENT BOOKING'), (74, 81, 'APPOINTMENT BOOKING'), (157, 164, 'APPOINTMENT BOOKING'), (864, 871, 'APPOINTMENT BOOKING'), (1580, 1587, 'APPOINTMENT BOOKING')]]\n",
      "[[(48, 52, 'OTHER'), (58, 62, 'OTHER'), (116, 120, 'OTHER'), (746, 750, 'OTHER'), (1042, 1046, 'OTHER'), (1466, 1470, 'OTHER')]]\n",
      "[[(46, 53, 'OTHER'), (59, 66, 'OTHER'), (130, 137, 'OTHER'), (989, 996, 'OTHER'), (1264, 1271, 'OTHER'), (1386, 1393, 'OTHER')]]\n",
      "[[(31, 47, 'ERP'), (53, 69, 'ERP'), (143, 159, 'ERP'), (412, 428, 'ERP'), (768, 784, 'ERP'), (1047, 1063, 'ERP'), (1545, 1561, 'ERP'), (1734, 1750, 'ERP')]]\n",
      "[[(53, 61, 'OTHER'), (67, 75, 'OTHER'), (160, 168, 'OTHER'), (755, 763, 'OTHER'), (1202, 1210, 'OTHER'), (1315, 1323, 'OTHER')]]\n",
      "[[(31, 59, 'ERP'), (183, 211, 'ERP'), (924, 952, 'ERP'), (1568, 1596, 'ERP')]]\n",
      "[[(46, 65, 'APPOINTMENT BOOKING'), (71, 90, 'APPOINTMENT BOOKING'), (155, 174, 'APPOINTMENT BOOKING'), (618, 637, 'APPOINTMENT BOOKING'), (850, 869, 'APPOINTMENT BOOKING'), (1281, 1300, 'APPOINTMENT BOOKING'), (1376, 1395, 'APPOINTMENT BOOKING')], [(646, 652, 'APPOINTMENT BOOKING')]]\n",
      "[[(54, 62, 'APPOINTMENT BOOKING'), (68, 76, 'APPOINTMENT BOOKING'), (130, 138, 'APPOINTMENT BOOKING'), (454, 462, 'APPOINTMENT BOOKING'), (829, 837, 'APPOINTMENT BOOKING'), (1267, 1275, 'APPOINTMENT BOOKING')], [(485, 491, 'APPOINTMENT BOOKING')]]\n",
      "[[(31, 47, 'ERP'), (53, 69, 'ERP'), (147, 163, 'ERP'), (770, 786, 'ERP'), (1082, 1098, 'ERP'), (1394, 1410, 'ERP'), (1487, 1503, 'ERP'), (1653, 1669, 'ERP'), (1782, 1798, 'ERP')]]\n",
      "[[(51, 55, 'ERP'), (153, 157, 'ERP'), (173, 177, 'ERP'), (811, 815, 'ERP'), (1174, 1178, 'ERP'), (1283, 1287, 'ERP'), (1377, 1381, 'ERP'), (1481, 1485, 'ERP')]]\n",
      "[[(46, 65, 'APPOINTMENT BOOKING'), (71, 90, 'APPOINTMENT BOOKING'), (167, 186, 'APPOINTMENT BOOKING'), (814, 833, 'APPOINTMENT BOOKING'), (1318, 1337, 'APPOINTMENT BOOKING'), (1451, 1470, 'APPOINTMENT BOOKING')]]\n",
      "[[(45, 53, 'OTHER'), (59, 67, 'OTHER'), (133, 141, 'OTHER'), (793, 801, 'OTHER'), (1176, 1184, 'OTHER'), (1341, 1349, 'OTHER')]]\n",
      "[[(48, 56, 'OTHER'), (62, 70, 'OTHER'), (151, 159, 'OTHER'), (949, 957, 'OTHER'), (1398, 1406, 'OTHER')]]\n",
      "[[(52, 59, 'OTHER'), (65, 72, 'OTHER'), (153, 160, 'OTHER'), (758, 765, 'OTHER'), (1323, 1330, 'OTHER')]]\n",
      "[[(50, 60, 'CRM'), (66, 76, 'CRM'), (170, 180, 'CRM'), (361, 371, 'CRM'), (618, 628, 'CRM'), (761, 771, 'CRM'), (1171, 1181, 'CRM')]]\n",
      "[[(56, 64, 'APPOINTMENT BOOKING'), (70, 78, 'APPOINTMENT BOOKING'), (132, 140, 'APPOINTMENT BOOKING'), (456, 464, 'APPOINTMENT BOOKING'), (831, 839, 'APPOINTMENT BOOKING'), (1288, 1296, 'APPOINTMENT BOOKING')], [(487, 493, 'APPOINTMENT BOOKING')]]\n",
      "[[(46, 68, 'ERP'), (78, 100, 'ERP'), (198, 220, 'ERP'), (901, 923, 'ERP'), (1635, 1657, 'ERP'), (1909, 1931, 'ERP')], [(46, 72, 'CRM'), (78, 104, 'CRM'), (198, 224, 'CRM'), (901, 927, 'CRM'), (1635, 1661, 'CRM'), (1909, 1935, 'CRM')]]\n",
      "[[(31, 53, 'ERP'), (59, 81, 'ERP'), (170, 192, 'ERP'), (834, 856, 'ERP'), (1309, 1331, 'ERP'), (1491, 1513, 'ERP')]]\n",
      "[[(39, 45, 'CRM'), (143, 149, 'CRM'), (301, 307, 'CRM'), (893, 899, 'CRM'), (1028, 1034, 'CRM'), (1236, 1242, 'CRM')]]\n",
      "[[(45, 54, 'CRM'), (60, 69, 'CRM'), (143, 152, 'CRM'), (329, 338, 'CRM'), (689, 698, 'CRM'), (1324, 1333, 'CRM')]]\n",
      "[[(40, 47, 'OTHER'), (53, 60, 'OTHER'), (137, 144, 'OTHER'), (377, 384, 'OTHER'), (511, 518, 'OTHER'), (687, 694, 'OTHER'), (924, 931, 'OTHER'), (1334, 1341, 'OTHER'), (1537, 1544, 'OTHER')]]\n",
      "[[(46, 53, 'ERP'), (138, 145, 'ERP'), (518, 525, 'ERP'), (765, 772, 'ERP'), (1047, 1054, 'ERP'), (1538, 1545, 'ERP'), (1795, 1802, 'ERP')]]\n",
      "[[(31, 59, 'ERP'), (146, 174, 'ERP'), (1337, 1365, 'ERP'), (1576, 1604, 'ERP')]]\n",
      "[[(55, 63, 'APPOINTMENT BOOKING'), (69, 77, 'APPOINTMENT BOOKING'), (155, 163, 'APPOINTMENT BOOKING'), (1403, 1411, 'APPOINTMENT BOOKING'), (1535, 1543, 'APPOINTMENT BOOKING')]]\n",
      "[[(56, 72, 'ERP'), (78, 94, 'ERP'), (175, 191, 'ERP'), (476, 492, 'ERP'), (816, 832, 'ERP'), (1312, 1328, 'ERP'), (1564, 1580, 'ERP')]]\n",
      "[[(8, 14, 'APPOINTMENT BOOKING'), (113, 119, 'APPOINTMENT BOOKING'), (170, 176, 'APPOINTMENT BOOKING'), (358, 364, 'APPOINTMENT BOOKING'), (1218, 1224, 'APPOINTMENT BOOKING')]]\n",
      "[[(51, 64, 'ERP'), (157, 170, 'ERP'), (768, 781, 'ERP'), (1264, 1277, 'ERP')]]\n",
      "[[(45, 52, 'OTHER'), (58, 65, 'OTHER'), (138, 145, 'OTHER'), (373, 380, 'OTHER'), (507, 514, 'OTHER'), (629, 636, 'OTHER'), (888, 895, 'OTHER'), (1154, 1161, 'OTHER'), (1239, 1246, 'OTHER'), (1371, 1378, 'OTHER')]]\n",
      "[[(38, 46, 'CRM'), (52, 60, 'CRM'), (137, 145, 'CRM'), (325, 333, 'CRM'), (587, 595, 'CRM'), (1050, 1058, 'CRM'), (1434, 1442, 'CRM'), (1591, 1599, 'CRM')], [(1085, 1090, 'OTHER')]]\n",
      "[[(39, 47, 'CRM'), (53, 61, 'CRM'), (151, 159, 'CRM'), (704, 712, 'CRM'), (916, 924, 'CRM'), (1469, 1477, 'CRM')]]\n"
     ]
    }
   ],
   "source": [
    "doc_bin = prepare_training_data(training_data, nlp_model = nlp)\n",
    "doc_bin.to_disk(train_data_path)"
   ]
  },
  {
   "cell_type": "markdown",
   "metadata": {},
   "source": [
    "## Defining config path and model path"
   ]
  },
  {
   "cell_type": "code",
   "execution_count": 28,
   "metadata": {},
   "outputs": [],
   "source": [
    "base_config_path = os.path.join(path_to_ner_config, 'base_config.cfg')\n",
    "output_config_path = os.path.join(path_to_ner_config, 'config.cfg')\n",
    "model_path = os.path.join(os.path.dirname(os.getcwd()), \"models\")"
   ]
  },
  {
   "cell_type": "markdown",
   "metadata": {},
   "source": [
    "### Downloading the training configuration file for training NER model in Spacy"
   ]
  },
  {
   "cell_type": "code",
   "execution_count": 29,
   "metadata": {},
   "outputs": [
    {
     "name": "stdout",
     "output_type": "stream",
     "text": [
      "Downloading...\n",
      "From: https://drive.google.com/uc?id=1pfqTcuw0MbQf6K78OHvHX_yudUYWcxAX\n",
      "To: /home/fm-pc-lt-219/Desktop/product_and_sentiment_classification_poc/custom_ai_app/ner_config/base_config.cfg\n",
      "100%|██████████████████████████████████████| 1.86k/1.86k [00:00<00:00, 5.50MB/s]\n"
     ]
    }
   ],
   "source": [
    "!gdown https://drive.google.com/uc?id=1pfqTcuw0MbQf6K78OHvHX_yudUYWcxAX -O \"{base_config_path}\""
   ]
  },
  {
   "cell_type": "code",
   "execution_count": 30,
   "metadata": {
    "colab": {
     "base_uri": "https://localhost:8080/"
    },
    "id": "udfbf4OyZ0Ht",
    "outputId": "00fd37e6-54e3-40ad-ba45-d48fab26ec0d"
   },
   "outputs": [
    {
     "name": "stdout",
     "output_type": "stream",
     "text": [
      "\u001b[38;5;2m✔ Auto-filled config with all values\u001b[0m\r\n",
      "\u001b[38;5;2m✔ Saved config\u001b[0m\r\n",
      "/home/fm-pc-lt-219/Desktop/product_and_sentiment_classification_poc/custom_ai_app/ner_config/config.cfg\r\n",
      "You can now add your data and train your pipeline:\r\n",
      "python -m spacy train config.cfg --paths.train ./train.spacy --paths.dev ./dev.spacy\r\n"
     ]
    }
   ],
   "source": [
    "!python -m spacy init fill-config \"{base_config_path}\" \"{output_config_path}\""
   ]
  },
  {
   "cell_type": "markdown",
   "metadata": {},
   "source": [
    "# Training NER Model Product Type Classification"
   ]
  },
  {
   "cell_type": "code",
   "execution_count": 31,
   "metadata": {
    "colab": {
     "base_uri": "https://localhost:8080/"
    },
    "id": "TIwzueuoihIu",
    "outputId": "b2e17022-608e-4d7c-f51a-6727bc67b46c"
   },
   "outputs": [
    {
     "name": "stdout",
     "output_type": "stream",
     "text": [
      "\u001b[38;5;4mℹ Saving to output directory:\n",
      "/home/fm-pc-lt-219/Desktop/product_and_sentiment_classification_poc/custom_ai_app/models\u001b[0m\n",
      "\u001b[38;5;4mℹ Using CPU\u001b[0m\n",
      "\u001b[1m\n",
      "=========================== Initializing pipeline ===========================\u001b[0m\n",
      "[2023-09-09 16:32:21,965] [INFO] Set up nlp object from config\n",
      "[2023-09-09 16:32:21,972] [INFO] Pipeline: ['tok2vec', 'ner']\n",
      "[2023-09-09 16:32:21,974] [INFO] Created vocabulary\n",
      "[2023-09-09 16:32:23,046] [INFO] Added vectors: en_core_web_lg\n",
      "[2023-09-09 16:32:23,046] [INFO] Finished initializing nlp object\n",
      "[2023-09-09 16:32:24,808] [INFO] Initialized pipeline components: ['tok2vec', 'ner']\n",
      "\u001b[38;5;2m✔ Initialized pipeline\u001b[0m\n",
      "\u001b[1m\n",
      "============================= Training pipeline =============================\u001b[0m\n",
      "\u001b[38;5;4mℹ Pipeline: ['tok2vec', 'ner']\u001b[0m\n",
      "\u001b[38;5;4mℹ Initial learn rate: 0.0\u001b[0m\n",
      "E    #       LOSS TOK2VEC  LOSS NER  ENTS_F  ENTS_P  ENTS_R  SCORE \n",
      "---  ------  ------------  --------  ------  ------  ------  ------\n",
      "  0       0          0.00    102.33    0.00    0.00    0.00    0.00\n",
      "  0     200          5.56  18610.94    0.00    0.00    0.00    0.00\n",
      "  0     400         28.19   1745.75   19.26   27.06   14.95    0.19\n",
      "  1     600          5.16   1319.33   29.86   30.83   28.94    0.30\n",
      "  1     800          2.43    949.43   34.42   35.00   33.86    0.34\n",
      "  2    1000         15.77    892.50   54.17   54.24   54.09    0.54\n",
      "  2    1200         55.22    919.82   67.70   67.56   67.84    0.68\n",
      "  3    1400          4.10    533.56   87.53   87.56   87.49    0.88\n",
      "  4    1600          4.55    533.57   93.10   93.14   93.06    0.93\n",
      "  5    1800          5.17    418.65   90.68   90.77   90.59    0.91\n",
      "  6    2000        146.93    635.34   95.68   95.78   95.58    0.96\n",
      "  8    2200         12.20    361.58   99.69   99.67   99.71    1.00\n",
      " 10    2400          9.12    233.84   99.69   99.67   99.71    1.00\n",
      " 12    2600        104.27     96.13   99.69   99.67   99.71    1.00\n",
      " 15    2800        367.40    179.55   99.73   99.75   99.71    1.00\n",
      " 18    3000         85.98    133.95   99.75   99.79   99.71    1.00\n",
      " 20    3200        219.41    281.70   99.83   99.96   99.71    1.00\n",
      " 23    3400        323.60    370.93   99.83   99.96   99.71    1.00\n",
      " 26    3600        317.15    128.64   99.83   99.96   99.71    1.00\n",
      " 29    3800         27.89     98.91   99.83   99.96   99.71    1.00\n",
      " 31    4000        466.52     82.80   99.83   99.96   99.71    1.00\n",
      " 34    4200          5.76     43.70  100.00  100.00  100.00    1.00\n",
      " 37    4400          0.65      8.92  100.00  100.00  100.00    1.00\n",
      " 40    4600          0.92      3.65  100.00  100.00  100.00    1.00\n",
      " 42    4800          0.03      0.12  100.00  100.00  100.00    1.00\n",
      " 45    5000          0.00      0.00  100.00  100.00  100.00    1.00\n",
      " 48    5200          0.00      0.00  100.00  100.00  100.00    1.00\n",
      " 51    5400          0.00      0.00  100.00  100.00  100.00    1.00\n",
      " 53    5600          0.00      0.00  100.00  100.00  100.00    1.00\n",
      " 56    5800          0.00      0.00  100.00  100.00  100.00    1.00\n",
      "\u001b[38;5;2m✔ Saved pipeline to output directory\u001b[0m\n",
      "/home/fm-pc-lt-219/Desktop/product_and_sentiment_classification_poc/custom_ai_app/models/model-last\n"
     ]
    }
   ],
   "source": [
    "!python -m spacy train \"{output_config_path}\" --output \"{model_path}\" --paths.train \"{train_data_path}\" --paths.dev \"{train_data_path}\""
   ]
  },
  {
   "cell_type": "markdown",
   "metadata": {},
   "source": [
    "## Training Summary\n",
    "\n",
    "- **E**: Epoch or training iteration number.\n",
    "- **LOSS TOK2VEC**: Loss linked to token-to-vector conversion.\n",
    "- **LOSS NER**: Loss tied to Named Entity Recognition.\n",
    "- **ENTS_F**: F-score, a NER performance metric.\n",
    "- **ENTS_P**: Precision, measuring NER accuracy.\n",
    "- **ENTS_R**: Recall, for NER entity identification.\n",
    "- **SCORE**: Overall performance score.\n",
    "\n",
    "**Training Progress:**\n",
    "\n",
    "- Progression through multiple epochs (E).\n",
    "- Decreasing LOSS TOK2VEC and LOSS NER.\n",
    "- Improved metrics (ENTS_F, ENTS_P, ENTS_R) indicating model learning.\n",
    "\n",
    "**Convergence:**\n",
    "\n",
    "- Training continues until desired metrics achieved.\n",
    "- Completion when metrics reach high values (e.g., F-score near 1.00).\n",
    "\n",
    "**Saved Pipeline:**\n",
    "\n",
    "- Trained pipeline saved for future use.\n"
   ]
  },
  {
   "cell_type": "markdown",
   "metadata": {},
   "source": []
  }
 ],
 "metadata": {
  "accelerator": "GPU",
  "colab": {
   "gpuType": "T4",
   "provenance": []
  },
  "kernelspec": {
   "display_name": "Python 3 (ipykernel)",
   "language": "python",
   "name": "python3"
  },
  "language_info": {
   "codemirror_mode": {
    "name": "ipython",
    "version": 3
   },
   "file_extension": ".py",
   "mimetype": "text/x-python",
   "name": "python",
   "nbconvert_exporter": "python",
   "pygments_lexer": "ipython3",
   "version": "3.8.0"
  }
 },
 "nbformat": 4,
 "nbformat_minor": 1
}
